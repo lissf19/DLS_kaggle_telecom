{
  "cells": [
    {
      "cell_type": "markdown",
      "metadata": {
        "id": "TK7oX5qdEEYr"
      },
      "source": [
        "# Домашнее задание. Решение конкурса на kaggle.com\n",
        "\n",
        "1. Маунтим гугл драйв\n",
        "2. Устанавливаем катбуст\n",
        "3. Импорт библиотек"
      ]
    },
    {
      "cell_type": "code",
      "execution_count": null,
      "metadata": {
        "colab": {
          "base_uri": "https://localhost:8080/"
        },
        "id": "yfQ2esSQm4yM",
        "outputId": "a03a885e-b767-4b39-cc31-5d2052f6bc88"
      },
      "outputs": [
        {
          "output_type": "stream",
          "name": "stdout",
          "text": [
            "Mounted at /content/drive\n"
          ]
        }
      ],
      "source": [
        "from google.colab import drive\n",
        "drive.mount('/content/drive')"
      ]
    },
    {
      "cell_type": "code",
      "execution_count": null,
      "metadata": {
        "colab": {
          "base_uri": "https://localhost:8080/"
        },
        "collapsed": true,
        "id": "TfU7eJChGoi4",
        "outputId": "af776435-7b48-4ec7-96fb-aff192d1a0d7"
      },
      "outputs": [
        {
          "output_type": "stream",
          "name": "stdout",
          "text": [
            "Requirement already satisfied: catboost in /usr/local/lib/python3.10/dist-packages (1.2.7)\n",
            "Requirement already satisfied: graphviz in /usr/local/lib/python3.10/dist-packages (from catboost) (0.20.3)\n",
            "Requirement already satisfied: matplotlib in /usr/local/lib/python3.10/dist-packages (from catboost) (3.7.1)\n",
            "Requirement already satisfied: numpy<2.0,>=1.16.0 in /usr/local/lib/python3.10/dist-packages (from catboost) (1.26.4)\n",
            "Requirement already satisfied: pandas>=0.24 in /usr/local/lib/python3.10/dist-packages (from catboost) (2.2.2)\n",
            "Requirement already satisfied: scipy in /usr/local/lib/python3.10/dist-packages (from catboost) (1.13.1)\n",
            "Requirement already satisfied: plotly in /usr/local/lib/python3.10/dist-packages (from catboost) (5.24.1)\n",
            "Requirement already satisfied: six in /usr/local/lib/python3.10/dist-packages (from catboost) (1.16.0)\n",
            "Requirement already satisfied: python-dateutil>=2.8.2 in /usr/local/lib/python3.10/dist-packages (from pandas>=0.24->catboost) (2.8.2)\n",
            "Requirement already satisfied: pytz>=2020.1 in /usr/local/lib/python3.10/dist-packages (from pandas>=0.24->catboost) (2024.2)\n",
            "Requirement already satisfied: tzdata>=2022.7 in /usr/local/lib/python3.10/dist-packages (from pandas>=0.24->catboost) (2024.2)\n",
            "Requirement already satisfied: contourpy>=1.0.1 in /usr/local/lib/python3.10/dist-packages (from matplotlib->catboost) (1.3.0)\n",
            "Requirement already satisfied: cycler>=0.10 in /usr/local/lib/python3.10/dist-packages (from matplotlib->catboost) (0.12.1)\n",
            "Requirement already satisfied: fonttools>=4.22.0 in /usr/local/lib/python3.10/dist-packages (from matplotlib->catboost) (4.54.1)\n",
            "Requirement already satisfied: kiwisolver>=1.0.1 in /usr/local/lib/python3.10/dist-packages (from matplotlib->catboost) (1.4.7)\n",
            "Requirement already satisfied: packaging>=20.0 in /usr/local/lib/python3.10/dist-packages (from matplotlib->catboost) (24.1)\n",
            "Requirement already satisfied: pillow>=6.2.0 in /usr/local/lib/python3.10/dist-packages (from matplotlib->catboost) (10.4.0)\n",
            "Requirement already satisfied: pyparsing>=2.3.1 in /usr/local/lib/python3.10/dist-packages (from matplotlib->catboost) (3.1.4)\n",
            "Requirement already satisfied: tenacity>=6.2.0 in /usr/local/lib/python3.10/dist-packages (from plotly->catboost) (9.0.0)\n"
          ]
        }
      ],
      "source": [
        "!pip install catboost"
      ]
    },
    {
      "cell_type": "code",
      "execution_count": null,
      "metadata": {
        "id": "lzLqEeZKEEYz"
      },
      "outputs": [],
      "source": [
        "import pandas as pd\n",
        "import numpy as np\n",
        "from matplotlib import pyplot as plt"
      ]
    },
    {
      "cell_type": "code",
      "execution_count": null,
      "metadata": {
        "id": "KeeyLQ82_wZC"
      },
      "outputs": [],
      "source": [
        "import seaborn as sns\n",
        "import matplotlib.pyplot as plt\n",
        "from imblearn.over_sampling import SMOTE\n",
        "from imblearn.over_sampling import SMOTENC"
      ]
    },
    {
      "cell_type": "code",
      "execution_count": null,
      "metadata": {
        "id": "7pKuHM_qHAGI"
      },
      "outputs": [],
      "source": [
        "from sklearn.model_selection import cross_val_score\n",
        "from sklearn.linear_model import Ridge"
      ]
    },
    {
      "cell_type": "code",
      "execution_count": null,
      "metadata": {
        "id": "xHCLDmwqEEZL"
      },
      "outputs": [],
      "source": [
        "from sklearn.linear_model import LogisticRegression, LogisticRegressionCV\n",
        "from sklearn.model_selection import train_test_split, GridSearchCV\n",
        "from sklearn.preprocessing import StandardScaler, RobustScaler, LabelEncoder, OneHotEncoder\n",
        "from sklearn.pipeline import make_pipeline\n",
        "from sklearn.linear_model import RidgeClassifier\n",
        "from sklearn.linear_model import LogisticRegression"
      ]
    },
    {
      "cell_type": "code",
      "execution_count": null,
      "metadata": {
        "collapsed": true,
        "id": "BoeS9FOZjnKz"
      },
      "outputs": [],
      "source": [
        "from sklearn.ensemble import RandomForestClassifier\n",
        "from sklearn.gaussian_process import GaussianProcessClassifier\n",
        "from sklearn.neighbors import KNeighborsClassifier\n",
        "from sklearn.tree import DecisionTreeClassifier\n",
        "from catboost import CatBoostClassifier\n",
        "from sklearn.ensemble import GradientBoostingClassifier\n",
        "from lightgbm import LGBMClassifier"
      ]
    },
    {
      "cell_type": "markdown",
      "metadata": {
        "id": "IrDNNkNTEEYz"
      },
      "source": [
        "# Первая часть. Исследование"
      ]
    },
    {
      "cell_type": "markdown",
      "metadata": {
        "id": "LOlxdURSEEY3"
      },
      "source": [
        "## Загрузка данных (2 балла)\n",
        "\n",
        "1) Посмотрите на случайные строчки.\n",
        "\n",
        "2) Посмотрите, есть ли в датасете незаполненные значения (nan'ы) с помощью data.isna() или data.info() и, если нужно, замените их на что-то. Будет хорошо, если вы построите табличку с количеством nan в каждой колонке."
      ]
    },
    {
      "cell_type": "code",
      "execution_count": null,
      "metadata": {
        "colab": {
          "base_uri": "https://localhost:8080/"
        },
        "collapsed": true,
        "id": "XULA1f3ch6RL",
        "outputId": "6561a3d7-f057-4c7b-c520-c88f26e4bc5c"
      },
      "outputs": [
        {
          "output_type": "stream",
          "name": "stdout",
          "text": [
            "Downloading...\n",
            "From: https://drive.google.com/uc?id=1ERwQ5odiK1Zvi1LtjpkzCMUswYsAX8_K\n",
            "To: /content/train.csv\n",
            "100% 664k/664k [00:00<00:00, 55.0MB/s]\n",
            "Downloading...\n",
            "From: https://drive.google.com/uc?id=1fGw_-RFwvn_LEdt91Jq-7A-wzG6mmH8r\n",
            "To: /content/test.csv\n",
            "100% 218k/218k [00:00<00:00, 71.8MB/s]\n",
            "Downloading...\n",
            "From: https://drive.google.com/uc?id=199Mt4OYZNaelT83U-HGDsEYs2YcUGQ6y\n",
            "To: /content/submission.csv\n",
            "100% 14.7k/14.7k [00:00<00:00, 27.5MB/s]\n"
          ]
        }
      ],
      "source": [
        "!gdown 1ERwQ5odiK1Zvi1LtjpkzCMUswYsAX8_K  # train.csv\n",
        "!gdown 1fGw_-RFwvn_LEdt91Jq-7A-wzG6mmH8r  # test.csv\n",
        "!gdown 199Mt4OYZNaelT83U-HGDsEYs2YcUGQ6y  # submission.csv"
      ]
    },
    {
      "cell_type": "code",
      "execution_count": null,
      "metadata": {
        "id": "pw-Brue9EEY3"
      },
      "outputs": [],
      "source": [
        "# Читаем данные\n",
        "data_train = pd.read_csv('/content/drive/MyDrive/HW 3 Kaggle/train.csv')\n",
        "data_test = pd.read_csv('/content/drive/MyDrive/HW 3 Kaggle/test.csv')"
      ]
    },
    {
      "cell_type": "code",
      "execution_count": null,
      "metadata": {
        "id": "KgnkkF5bEEY9"
      },
      "outputs": [],
      "source": [
        "# Числовые признаки\n",
        "num_cols = [\n",
        "    'ClientPeriod',\n",
        "    'MonthlySpending',\n",
        "    'TotalSpent'\n",
        "]\n",
        "\n",
        "# Категориальные признаки\n",
        "cat_cols = [\n",
        "    'Sex',\n",
        "    'IsSeniorCitizen',\n",
        "    'HasPartner',\n",
        "    'HasChild',\n",
        "    'HasPhoneService',\n",
        "    'HasMultiplePhoneNumbers',\n",
        "    'HasInternetService',\n",
        "    'HasOnlineSecurityService',\n",
        "    'HasOnlineBackup',\n",
        "    'HasDeviceProtection',\n",
        "    'HasTechSupportAccess',\n",
        "    'HasOnlineTV',\n",
        "    'HasMovieSubscription',\n",
        "    'HasContractPhone',\n",
        "    'IsBillingPaperless',\n",
        "    'PaymentMethod'\n",
        "]\n",
        "\n",
        "feature_cols = num_cols + cat_cols\n",
        "target_col = 'Churn'"
      ]
    },
    {
      "cell_type": "code",
      "execution_count": null,
      "metadata": {
        "colab": {
          "base_uri": "https://localhost:8080/",
          "height": 275
        },
        "id": "x_33_uLb_Cd1",
        "outputId": "c42a9697-8d02-40b3-8a29-3c190c10b2fd"
      },
      "outputs": [
        {
          "output_type": "execute_result",
          "data": {
            "text/plain": [
              "   ClientPeriod  MonthlySpending TotalSpent     Sex  IsSeniorCitizen  \\\n",
              "0            55            19.50    1026.35    Male                0   \n",
              "1            72            25.85     1872.2    Male                0   \n",
              "2             1            75.90       75.9    Male                0   \n",
              "3            32            79.30       2570  Female                1   \n",
              "4            60           115.25    6758.45  Female                0   \n",
              "\n",
              "  HasPartner HasChild HasPhoneService HasMultiplePhoneNumbers  \\\n",
              "0        Yes      Yes             Yes                      No   \n",
              "1        Yes       No             Yes                     Yes   \n",
              "2         No       No             Yes                      No   \n",
              "3        Yes       No             Yes                     Yes   \n",
              "4        Yes      Yes             Yes                     Yes   \n",
              "\n",
              "  HasInternetService HasOnlineSecurityService      HasOnlineBackup  \\\n",
              "0                 No      No internet service  No internet service   \n",
              "1                 No      No internet service  No internet service   \n",
              "2        Fiber optic                       No                   No   \n",
              "3        Fiber optic                       No                   No   \n",
              "4        Fiber optic                      Yes                  Yes   \n",
              "\n",
              "   HasDeviceProtection HasTechSupportAccess          HasOnlineTV  \\\n",
              "0  No internet service  No internet service  No internet service   \n",
              "1  No internet service  No internet service  No internet service   \n",
              "2                   No                  Yes                   No   \n",
              "3                  Yes                   No                   No   \n",
              "4                  Yes                  Yes                  Yes   \n",
              "\n",
              "  HasMovieSubscription HasContractPhone IsBillingPaperless  \\\n",
              "0  No internet service         One year                 No   \n",
              "1  No internet service         Two year                 No   \n",
              "2                   No   Month-to-month                Yes   \n",
              "3                   No   Month-to-month                 No   \n",
              "4                  Yes         Two year                 No   \n",
              "\n",
              "             PaymentMethod  Churn  \n",
              "0             Mailed check      0  \n",
              "1  Credit card (automatic)      0  \n",
              "2         Electronic check      1  \n",
              "3             Mailed check      0  \n",
              "4  Credit card (automatic)      0  "
            ],
            "text/html": [
              "\n",
              "  <div id=\"df-5b14c9f7-2fae-40d0-b861-192e824643da\" class=\"colab-df-container\">\n",
              "    <div>\n",
              "<style scoped>\n",
              "    .dataframe tbody tr th:only-of-type {\n",
              "        vertical-align: middle;\n",
              "    }\n",
              "\n",
              "    .dataframe tbody tr th {\n",
              "        vertical-align: top;\n",
              "    }\n",
              "\n",
              "    .dataframe thead th {\n",
              "        text-align: right;\n",
              "    }\n",
              "</style>\n",
              "<table border=\"1\" class=\"dataframe\">\n",
              "  <thead>\n",
              "    <tr style=\"text-align: right;\">\n",
              "      <th></th>\n",
              "      <th>ClientPeriod</th>\n",
              "      <th>MonthlySpending</th>\n",
              "      <th>TotalSpent</th>\n",
              "      <th>Sex</th>\n",
              "      <th>IsSeniorCitizen</th>\n",
              "      <th>HasPartner</th>\n",
              "      <th>HasChild</th>\n",
              "      <th>HasPhoneService</th>\n",
              "      <th>HasMultiplePhoneNumbers</th>\n",
              "      <th>HasInternetService</th>\n",
              "      <th>HasOnlineSecurityService</th>\n",
              "      <th>HasOnlineBackup</th>\n",
              "      <th>HasDeviceProtection</th>\n",
              "      <th>HasTechSupportAccess</th>\n",
              "      <th>HasOnlineTV</th>\n",
              "      <th>HasMovieSubscription</th>\n",
              "      <th>HasContractPhone</th>\n",
              "      <th>IsBillingPaperless</th>\n",
              "      <th>PaymentMethod</th>\n",
              "      <th>Churn</th>\n",
              "    </tr>\n",
              "  </thead>\n",
              "  <tbody>\n",
              "    <tr>\n",
              "      <th>0</th>\n",
              "      <td>55</td>\n",
              "      <td>19.50</td>\n",
              "      <td>1026.35</td>\n",
              "      <td>Male</td>\n",
              "      <td>0</td>\n",
              "      <td>Yes</td>\n",
              "      <td>Yes</td>\n",
              "      <td>Yes</td>\n",
              "      <td>No</td>\n",
              "      <td>No</td>\n",
              "      <td>No internet service</td>\n",
              "      <td>No internet service</td>\n",
              "      <td>No internet service</td>\n",
              "      <td>No internet service</td>\n",
              "      <td>No internet service</td>\n",
              "      <td>No internet service</td>\n",
              "      <td>One year</td>\n",
              "      <td>No</td>\n",
              "      <td>Mailed check</td>\n",
              "      <td>0</td>\n",
              "    </tr>\n",
              "    <tr>\n",
              "      <th>1</th>\n",
              "      <td>72</td>\n",
              "      <td>25.85</td>\n",
              "      <td>1872.2</td>\n",
              "      <td>Male</td>\n",
              "      <td>0</td>\n",
              "      <td>Yes</td>\n",
              "      <td>No</td>\n",
              "      <td>Yes</td>\n",
              "      <td>Yes</td>\n",
              "      <td>No</td>\n",
              "      <td>No internet service</td>\n",
              "      <td>No internet service</td>\n",
              "      <td>No internet service</td>\n",
              "      <td>No internet service</td>\n",
              "      <td>No internet service</td>\n",
              "      <td>No internet service</td>\n",
              "      <td>Two year</td>\n",
              "      <td>No</td>\n",
              "      <td>Credit card (automatic)</td>\n",
              "      <td>0</td>\n",
              "    </tr>\n",
              "    <tr>\n",
              "      <th>2</th>\n",
              "      <td>1</td>\n",
              "      <td>75.90</td>\n",
              "      <td>75.9</td>\n",
              "      <td>Male</td>\n",
              "      <td>0</td>\n",
              "      <td>No</td>\n",
              "      <td>No</td>\n",
              "      <td>Yes</td>\n",
              "      <td>No</td>\n",
              "      <td>Fiber optic</td>\n",
              "      <td>No</td>\n",
              "      <td>No</td>\n",
              "      <td>No</td>\n",
              "      <td>Yes</td>\n",
              "      <td>No</td>\n",
              "      <td>No</td>\n",
              "      <td>Month-to-month</td>\n",
              "      <td>Yes</td>\n",
              "      <td>Electronic check</td>\n",
              "      <td>1</td>\n",
              "    </tr>\n",
              "    <tr>\n",
              "      <th>3</th>\n",
              "      <td>32</td>\n",
              "      <td>79.30</td>\n",
              "      <td>2570</td>\n",
              "      <td>Female</td>\n",
              "      <td>1</td>\n",
              "      <td>Yes</td>\n",
              "      <td>No</td>\n",
              "      <td>Yes</td>\n",
              "      <td>Yes</td>\n",
              "      <td>Fiber optic</td>\n",
              "      <td>No</td>\n",
              "      <td>No</td>\n",
              "      <td>Yes</td>\n",
              "      <td>No</td>\n",
              "      <td>No</td>\n",
              "      <td>No</td>\n",
              "      <td>Month-to-month</td>\n",
              "      <td>No</td>\n",
              "      <td>Mailed check</td>\n",
              "      <td>0</td>\n",
              "    </tr>\n",
              "    <tr>\n",
              "      <th>4</th>\n",
              "      <td>60</td>\n",
              "      <td>115.25</td>\n",
              "      <td>6758.45</td>\n",
              "      <td>Female</td>\n",
              "      <td>0</td>\n",
              "      <td>Yes</td>\n",
              "      <td>Yes</td>\n",
              "      <td>Yes</td>\n",
              "      <td>Yes</td>\n",
              "      <td>Fiber optic</td>\n",
              "      <td>Yes</td>\n",
              "      <td>Yes</td>\n",
              "      <td>Yes</td>\n",
              "      <td>Yes</td>\n",
              "      <td>Yes</td>\n",
              "      <td>Yes</td>\n",
              "      <td>Two year</td>\n",
              "      <td>No</td>\n",
              "      <td>Credit card (automatic)</td>\n",
              "      <td>0</td>\n",
              "    </tr>\n",
              "  </tbody>\n",
              "</table>\n",
              "</div>\n",
              "    <div class=\"colab-df-buttons\">\n",
              "      \n",
              "  <div class=\"colab-df-container\">\n",
              "    <button class=\"colab-df-convert\" onclick=\"convertToInteractive('df-5b14c9f7-2fae-40d0-b861-192e824643da')\"\n",
              "            title=\"Convert this dataframe to an interactive table.\"\n",
              "            style=\"display:none;\">\n",
              "      \n",
              "  <svg xmlns=\"http://www.w3.org/2000/svg\" height=\"24px\" viewBox=\"0 -960 960 960\">\n",
              "    <path d=\"M120-120v-720h720v720H120Zm60-500h600v-160H180v160Zm220 220h160v-160H400v160Zm0 220h160v-160H400v160ZM180-400h160v-160H180v160Zm440 0h160v-160H620v160ZM180-180h160v-160H180v160Zm440 0h160v-160H620v160Z\"/>\n",
              "  </svg>\n",
              "    </button>\n",
              "    \n",
              "  <style>\n",
              "    .colab-df-container {\n",
              "      display:flex;\n",
              "      gap: 12px;\n",
              "    }\n",
              "\n",
              "    .colab-df-convert {\n",
              "      background-color: #E8F0FE;\n",
              "      border: none;\n",
              "      border-radius: 50%;\n",
              "      cursor: pointer;\n",
              "      display: none;\n",
              "      fill: #1967D2;\n",
              "      height: 32px;\n",
              "      padding: 0 0 0 0;\n",
              "      width: 32px;\n",
              "    }\n",
              "\n",
              "    .colab-df-convert:hover {\n",
              "      background-color: #E2EBFA;\n",
              "      box-shadow: 0px 1px 2px rgba(60, 64, 67, 0.3), 0px 1px 3px 1px rgba(60, 64, 67, 0.15);\n",
              "      fill: #174EA6;\n",
              "    }\n",
              "\n",
              "    .colab-df-buttons div {\n",
              "      margin-bottom: 4px;\n",
              "    }\n",
              "\n",
              "    [theme=dark] .colab-df-convert {\n",
              "      background-color: #3B4455;\n",
              "      fill: #D2E3FC;\n",
              "    }\n",
              "\n",
              "    [theme=dark] .colab-df-convert:hover {\n",
              "      background-color: #434B5C;\n",
              "      box-shadow: 0px 1px 3px 1px rgba(0, 0, 0, 0.15);\n",
              "      filter: drop-shadow(0px 1px 2px rgba(0, 0, 0, 0.3));\n",
              "      fill: #FFFFFF;\n",
              "    }\n",
              "  </style>\n",
              "\n",
              "    <script>\n",
              "      const buttonEl =\n",
              "        document.querySelector('#df-5b14c9f7-2fae-40d0-b861-192e824643da button.colab-df-convert');\n",
              "      buttonEl.style.display =\n",
              "        google.colab.kernel.accessAllowed ? 'block' : 'none';\n",
              "\n",
              "      async function convertToInteractive(key) {\n",
              "        const element = document.querySelector('#df-5b14c9f7-2fae-40d0-b861-192e824643da');\n",
              "        const dataTable =\n",
              "          await google.colab.kernel.invokeFunction('convertToInteractive',\n",
              "                                                    [key], {});\n",
              "        if (!dataTable) return;\n",
              "\n",
              "        const docLinkHtml = 'Like what you see? Visit the ' +\n",
              "          '<a target=\"_blank\" href=https://colab.research.google.com/notebooks/data_table.ipynb>data table notebook</a>'\n",
              "          + ' to learn more about interactive tables.';\n",
              "        element.innerHTML = '';\n",
              "        dataTable['output_type'] = 'display_data';\n",
              "        await google.colab.output.renderOutput(dataTable, element);\n",
              "        const docLink = document.createElement('div');\n",
              "        docLink.innerHTML = docLinkHtml;\n",
              "        element.appendChild(docLink);\n",
              "      }\n",
              "    </script>\n",
              "  </div>\n",
              "  \n",
              "    </div>\n",
              "  </div>\n",
              "  "
            ],
            "application/vnd.google.colaboratory.intrinsic+json": {
              "type": "dataframe",
              "variable_name": "data_train",
              "summary": "{\n  \"name\": \"data_train\",\n  \"rows\": 5282,\n  \"fields\": [\n    {\n      \"column\": \"ClientPeriod\",\n      \"properties\": {\n        \"dtype\": \"number\",\n        \"std\": 24,\n        \"min\": 0,\n        \"max\": 72,\n        \"num_unique_values\": 73,\n        \"samples\": [\n          60,\n          63,\n          7\n        ],\n        \"semantic_type\": \"\",\n        \"description\": \"\"\n      }\n    },\n    {\n      \"column\": \"MonthlySpending\",\n      \"properties\": {\n        \"dtype\": \"number\",\n        \"std\": 30.17646447050738,\n        \"min\": 18.25,\n        \"max\": 118.75,\n        \"num_unique_values\": 1468,\n        \"samples\": [\n          34.6,\n          48.75,\n          43.6\n        ],\n        \"semantic_type\": \"\",\n        \"description\": \"\"\n      }\n    },\n    {\n      \"column\": \"TotalSpent\",\n      \"properties\": {\n        \"dtype\": \"string\",\n        \"num_unique_values\": 4978,\n        \"samples\": [\n          \"286.8\",\n          \"5567.55\",\n          \"6017.65\"\n        ],\n        \"semantic_type\": \"\",\n        \"description\": \"\"\n      }\n    },\n    {\n      \"column\": \"Sex\",\n      \"properties\": {\n        \"dtype\": \"category\",\n        \"num_unique_values\": 2,\n        \"samples\": [\n          \"Female\",\n          \"Male\"\n        ],\n        \"semantic_type\": \"\",\n        \"description\": \"\"\n      }\n    },\n    {\n      \"column\": \"IsSeniorCitizen\",\n      \"properties\": {\n        \"dtype\": \"number\",\n        \"std\": 0,\n        \"min\": 0,\n        \"max\": 1,\n        \"num_unique_values\": 2,\n        \"samples\": [\n          1,\n          0\n        ],\n        \"semantic_type\": \"\",\n        \"description\": \"\"\n      }\n    },\n    {\n      \"column\": \"HasPartner\",\n      \"properties\": {\n        \"dtype\": \"category\",\n        \"num_unique_values\": 2,\n        \"samples\": [\n          \"No\",\n          \"Yes\"\n        ],\n        \"semantic_type\": \"\",\n        \"description\": \"\"\n      }\n    },\n    {\n      \"column\": \"HasChild\",\n      \"properties\": {\n        \"dtype\": \"category\",\n        \"num_unique_values\": 2,\n        \"samples\": [\n          \"No\",\n          \"Yes\"\n        ],\n        \"semantic_type\": \"\",\n        \"description\": \"\"\n      }\n    },\n    {\n      \"column\": \"HasPhoneService\",\n      \"properties\": {\n        \"dtype\": \"category\",\n        \"num_unique_values\": 2,\n        \"samples\": [\n          \"No\",\n          \"Yes\"\n        ],\n        \"semantic_type\": \"\",\n        \"description\": \"\"\n      }\n    },\n    {\n      \"column\": \"HasMultiplePhoneNumbers\",\n      \"properties\": {\n        \"dtype\": \"category\",\n        \"num_unique_values\": 3,\n        \"samples\": [\n          \"No\",\n          \"Yes\"\n        ],\n        \"semantic_type\": \"\",\n        \"description\": \"\"\n      }\n    },\n    {\n      \"column\": \"HasInternetService\",\n      \"properties\": {\n        \"dtype\": \"category\",\n        \"num_unique_values\": 3,\n        \"samples\": [\n          \"No\",\n          \"Fiber optic\"\n        ],\n        \"semantic_type\": \"\",\n        \"description\": \"\"\n      }\n    },\n    {\n      \"column\": \"HasOnlineSecurityService\",\n      \"properties\": {\n        \"dtype\": \"category\",\n        \"num_unique_values\": 3,\n        \"samples\": [\n          \"No internet service\",\n          \"No\"\n        ],\n        \"semantic_type\": \"\",\n        \"description\": \"\"\n      }\n    },\n    {\n      \"column\": \"HasOnlineBackup\",\n      \"properties\": {\n        \"dtype\": \"category\",\n        \"num_unique_values\": 3,\n        \"samples\": [\n          \"No internet service\",\n          \"No\"\n        ],\n        \"semantic_type\": \"\",\n        \"description\": \"\"\n      }\n    },\n    {\n      \"column\": \"HasDeviceProtection\",\n      \"properties\": {\n        \"dtype\": \"category\",\n        \"num_unique_values\": 3,\n        \"samples\": [\n          \"No internet service\",\n          \"No\"\n        ],\n        \"semantic_type\": \"\",\n        \"description\": \"\"\n      }\n    },\n    {\n      \"column\": \"HasTechSupportAccess\",\n      \"properties\": {\n        \"dtype\": \"category\",\n        \"num_unique_values\": 3,\n        \"samples\": [\n          \"No internet service\",\n          \"Yes\"\n        ],\n        \"semantic_type\": \"\",\n        \"description\": \"\"\n      }\n    },\n    {\n      \"column\": \"HasOnlineTV\",\n      \"properties\": {\n        \"dtype\": \"category\",\n        \"num_unique_values\": 3,\n        \"samples\": [\n          \"No internet service\",\n          \"No\"\n        ],\n        \"semantic_type\": \"\",\n        \"description\": \"\"\n      }\n    },\n    {\n      \"column\": \"HasMovieSubscription\",\n      \"properties\": {\n        \"dtype\": \"category\",\n        \"num_unique_values\": 3,\n        \"samples\": [\n          \"No internet service\",\n          \"No\"\n        ],\n        \"semantic_type\": \"\",\n        \"description\": \"\"\n      }\n    },\n    {\n      \"column\": \"HasContractPhone\",\n      \"properties\": {\n        \"dtype\": \"category\",\n        \"num_unique_values\": 3,\n        \"samples\": [\n          \"One year\",\n          \"Two year\"\n        ],\n        \"semantic_type\": \"\",\n        \"description\": \"\"\n      }\n    },\n    {\n      \"column\": \"IsBillingPaperless\",\n      \"properties\": {\n        \"dtype\": \"category\",\n        \"num_unique_values\": 2,\n        \"samples\": [\n          \"Yes\",\n          \"No\"\n        ],\n        \"semantic_type\": \"\",\n        \"description\": \"\"\n      }\n    },\n    {\n      \"column\": \"PaymentMethod\",\n      \"properties\": {\n        \"dtype\": \"category\",\n        \"num_unique_values\": 4,\n        \"samples\": [\n          \"Credit card (automatic)\",\n          \"Bank transfer (automatic)\"\n        ],\n        \"semantic_type\": \"\",\n        \"description\": \"\"\n      }\n    },\n    {\n      \"column\": \"Churn\",\n      \"properties\": {\n        \"dtype\": \"number\",\n        \"std\": 0,\n        \"min\": 0,\n        \"max\": 1,\n        \"num_unique_values\": 2,\n        \"samples\": [\n          1,\n          0\n        ],\n        \"semantic_type\": \"\",\n        \"description\": \"\"\n      }\n    }\n  ]\n}"
            }
          },
          "metadata": {},
          "execution_count": 169
        }
      ],
      "source": [
        "data_train.head()"
      ]
    },
    {
      "cell_type": "code",
      "execution_count": null,
      "metadata": {
        "cellView": "form",
        "colab": {
          "base_uri": "https://localhost:8080/",
          "height": 692
        },
        "collapsed": true,
        "id": "n4Vn3Rbr_KwR",
        "outputId": "76fbc933-7f35-4a6e-b2ee-da3a4c6bde4c"
      },
      "outputs": [
        {
          "output_type": "stream",
          "name": "stdout",
          "text": [
            "https://docs.google.com/spreadsheets/d/1erPZNfoSSeKlApY8HDypj-Zx5YoivaVC2q1glqewDzI#gid=0\n"
          ]
        },
        {
          "output_type": "stream",
          "name": "stderr",
          "text": [
            "/usr/local/lib/python3.10/dist-packages/google/colab/sheets.py:31: FutureWarning: DataFrame.applymap has been deprecated. Use DataFrame.map instead.\n",
            "  return frame.applymap(_clean_val).replace({np.nan: None})\n"
          ]
        },
        {
          "output_type": "display_data",
          "data": {
            "text/plain": [
              "<IPython.lib.display.IFrame at 0x7e71daeafa00>"
            ],
            "text/html": [
              "\n",
              "        <iframe\n",
              "            width=\"100%\"\n",
              "            height=\"600\"\n",
              "            src=\"https://docs.google.com/spreadsheets/d/1erPZNfoSSeKlApY8HDypj-Zx5YoivaVC2q1glqewDzI#gid=0/edit?rm=embedded?usp=sharing?widget=true&amp;headers=false\"\n",
              "            frameborder=\"0\"\n",
              "            allowfullscreen\n",
              "            \n",
              "        ></iframe>\n",
              "        "
            ]
          },
          "metadata": {}
        }
      ],
      "source": [
        "# посмотрим на данные в интерактиве\n",
        "from google.colab import sheets\n",
        "sheet = sheets.InteractiveSheet(df=data_train)"
      ]
    },
    {
      "cell_type": "code",
      "execution_count": null,
      "metadata": {
        "colab": {
          "base_uri": "https://localhost:8080/"
        },
        "id": "_wRUjlwo_YXP",
        "outputId": "d6475763-f61f-42b3-c04d-4a34cb2849f0"
      },
      "outputs": [
        {
          "output_type": "stream",
          "name": "stdout",
          "text": [
            "<class 'pandas.core.frame.DataFrame'>\n",
            "RangeIndex: 5282 entries, 0 to 5281\n",
            "Data columns (total 20 columns):\n",
            " #   Column                    Non-Null Count  Dtype  \n",
            "---  ------                    --------------  -----  \n",
            " 0   ClientPeriod              5282 non-null   int64  \n",
            " 1   MonthlySpending           5282 non-null   float64\n",
            " 2   TotalSpent                5282 non-null   object \n",
            " 3   Sex                       5282 non-null   object \n",
            " 4   IsSeniorCitizen           5282 non-null   int64  \n",
            " 5   HasPartner                5282 non-null   object \n",
            " 6   HasChild                  5282 non-null   object \n",
            " 7   HasPhoneService           5282 non-null   object \n",
            " 8   HasMultiplePhoneNumbers   5282 non-null   object \n",
            " 9   HasInternetService        5282 non-null   object \n",
            " 10  HasOnlineSecurityService  5282 non-null   object \n",
            " 11  HasOnlineBackup           5282 non-null   object \n",
            " 12  HasDeviceProtection       5282 non-null   object \n",
            " 13  HasTechSupportAccess      5282 non-null   object \n",
            " 14  HasOnlineTV               5282 non-null   object \n",
            " 15  HasMovieSubscription      5282 non-null   object \n",
            " 16  HasContractPhone          5282 non-null   object \n",
            " 17  IsBillingPaperless        5282 non-null   object \n",
            " 18  PaymentMethod             5282 non-null   object \n",
            " 19  Churn                     5282 non-null   int64  \n",
            "dtypes: float64(1), int64(3), object(16)\n",
            "memory usage: 825.4+ KB\n"
          ]
        }
      ],
      "source": [
        "# видим, что большая часть признаков не числового типа\n",
        "data_train.info()"
      ]
    },
    {
      "cell_type": "code",
      "execution_count": null,
      "metadata": {
        "colab": {
          "base_uri": "https://localhost:8080/",
          "height": 176
        },
        "id": "ZdQtYOoVv0NX",
        "outputId": "6ed8b591-df9b-4662-a263-b538dcfb8a7f"
      },
      "outputs": [
        {
          "output_type": "execute_result",
          "data": {
            "text/plain": [
              "Sex\n",
              "Male      2655\n",
              "Female    2627\n",
              "Name: count, dtype: int64"
            ],
            "text/html": [
              "<div>\n",
              "<style scoped>\n",
              "    .dataframe tbody tr th:only-of-type {\n",
              "        vertical-align: middle;\n",
              "    }\n",
              "\n",
              "    .dataframe tbody tr th {\n",
              "        vertical-align: top;\n",
              "    }\n",
              "\n",
              "    .dataframe thead th {\n",
              "        text-align: right;\n",
              "    }\n",
              "</style>\n",
              "<table border=\"1\" class=\"dataframe\">\n",
              "  <thead>\n",
              "    <tr style=\"text-align: right;\">\n",
              "      <th></th>\n",
              "      <th>count</th>\n",
              "    </tr>\n",
              "    <tr>\n",
              "      <th>Sex</th>\n",
              "      <th></th>\n",
              "    </tr>\n",
              "  </thead>\n",
              "  <tbody>\n",
              "    <tr>\n",
              "      <th>Male</th>\n",
              "      <td>2655</td>\n",
              "    </tr>\n",
              "    <tr>\n",
              "      <th>Female</th>\n",
              "      <td>2627</td>\n",
              "    </tr>\n",
              "  </tbody>\n",
              "</table>\n",
              "</div><br><label><b>dtype:</b> int64</label>"
            ]
          },
          "metadata": {},
          "execution_count": 172
        }
      ],
      "source": [
        "data_train.Sex.value_counts()"
      ]
    },
    {
      "cell_type": "code",
      "execution_count": null,
      "metadata": {
        "id": "7xeVOTIzeAJr"
      },
      "outputs": [],
      "source": [
        "# фича TotalSpent объектная, хотя имеет числовое значение --> переведем в числовую\n",
        "data_train['TotalSpent'] = pd.to_numeric(data_train['TotalSpent'], errors='coerce')\n",
        "data_test['TotalSpent'] = pd.to_numeric(data_train['TotalSpent'], errors='coerce')"
      ]
    },
    {
      "cell_type": "code",
      "execution_count": null,
      "metadata": {
        "colab": {
          "base_uri": "https://localhost:8080/",
          "height": 699
        },
        "id": "XnfcLqcWDJGY",
        "outputId": "ef9da4f9-860f-4b8d-fa4c-4a23780cd51a"
      },
      "outputs": [
        {
          "output_type": "display_data",
          "data": {
            "text/plain": [
              "<Figure size 1000x800 with 2 Axes>"
            ],
            "image/png": "[encoded data removed]"
          },
          "metadata": {}
        }
      ],
      "source": [
        "# визуализация числовых признаков\n",
        "plt.figure(figsize=(10, 8))\n",
        "sns.heatmap(data_train[num_cols].corr(), annot=True, cmap='coolwarm', fmt='.2f')\n",
        "plt.title('Correlation Matrix ClientPeriod, MonthlySpending, Churn')\n",
        "plt.show()"
      ]
    },
    {
      "cell_type": "markdown",
      "metadata": {
        "id": "QJMz4K47rgDi"
      },
      "source": [
        "❗ Высокая корреляция между MonthlySpending и TotalSpent 0.65 (логично), но это может быть проблемой. Также высокая корреляция между ClientPeriod и TotalSpent 0.83"
      ]
    },
    {
      "cell_type": "code",
      "execution_count": null,
      "metadata": {
        "colab": {
          "base_uri": "https://localhost:8080/",
          "height": 297
        },
        "collapsed": true,
        "id": "Y-SuSLv-AI1t",
        "outputId": "65661806-fb94-4c63-af67-be924c561c07"
      },
      "outputs": [
        {
          "output_type": "execute_result",
          "data": {
            "text/plain": [
              "       ClientPeriod  MonthlySpending   TotalSpent\n",
              "count   5282.000000      5282.000000  5273.000000\n",
              "mean      32.397009        64.924754  2291.390461\n",
              "std       24.550326        30.176464  2269.014233\n",
              "min        0.000000        18.250000    18.800000\n",
              "25%        9.000000        35.462500   401.100000\n",
              "50%       29.000000        70.400000  1410.250000\n",
              "75%       55.000000        90.050000  3807.350000\n",
              "max       72.000000       118.750000  8684.800000"
            ],
            "text/html": [
              "\n",
              "  <div id=\"df-25e09c02-d772-406f-a492-1ea74114fcef\" class=\"colab-df-container\">\n",
              "    <div>\n",
              "<style scoped>\n",
              "    .dataframe tbody tr th:only-of-type {\n",
              "        vertical-align: middle;\n",
              "    }\n",
              "\n",
              "    .dataframe tbody tr th {\n",
              "        vertical-align: top;\n",
              "    }\n",
              "\n",
              "    .dataframe thead th {\n",
              "        text-align: right;\n",
              "    }\n",
              "</style>\n",
              "<table border=\"1\" class=\"dataframe\">\n",
              "  <thead>\n",
              "    <tr style=\"text-align: right;\">\n",
              "      <th></th>\n",
              "      <th>ClientPeriod</th>\n",
              "      <th>MonthlySpending</th>\n",
              "      <th>TotalSpent</th>\n",
              "    </tr>\n",
              "  </thead>\n",
              "  <tbody>\n",
              "    <tr>\n",
              "      <th>count</th>\n",
              "      <td>5282.000000</td>\n",
              "      <td>5282.000000</td>\n",
              "      <td>5273.000000</td>\n",
              "    </tr>\n",
              "    <tr>\n",
              "      <th>mean</th>\n",
              "      <td>32.397009</td>\n",
              "      <td>64.924754</td>\n",
              "      <td>2291.390461</td>\n",
              "    </tr>\n",
              "    <tr>\n",
              "      <th>std</th>\n",
              "      <td>24.550326</td>\n",
              "      <td>30.176464</td>\n",
              "      <td>2269.014233</td>\n",
              "    </tr>\n",
              "    <tr>\n",
              "      <th>min</th>\n",
              "      <td>0.000000</td>\n",
              "      <td>18.250000</td>\n",
              "      <td>18.800000</td>\n",
              "    </tr>\n",
              "    <tr>\n",
              "      <th>25%</th>\n",
              "      <td>9.000000</td>\n",
              "      <td>35.462500</td>\n",
              "      <td>401.100000</td>\n",
              "    </tr>\n",
              "    <tr>\n",
              "      <th>50%</th>\n",
              "      <td>29.000000</td>\n",
              "      <td>70.400000</td>\n",
              "      <td>1410.250000</td>\n",
              "    </tr>\n",
              "    <tr>\n",
              "      <th>75%</th>\n",
              "      <td>55.000000</td>\n",
              "      <td>90.050000</td>\n",
              "      <td>3807.350000</td>\n",
              "    </tr>\n",
              "    <tr>\n",
              "      <th>max</th>\n",
              "      <td>72.000000</td>\n",
              "      <td>118.750000</td>\n",
              "      <td>8684.800000</td>\n",
              "    </tr>\n",
              "  </tbody>\n",
              "</table>\n",
              "</div>\n",
              "    <div class=\"colab-df-buttons\">\n",
              "      \n",
              "  <div class=\"colab-df-container\">\n",
              "    <button class=\"colab-df-convert\" onclick=\"convertToInteractive('df-25e09c02-d772-406f-a492-1ea74114fcef')\"\n",
              "            title=\"Convert this dataframe to an interactive table.\"\n",
              "            style=\"display:none;\">\n",
              "      \n",
              "  <svg xmlns=\"http://www.w3.org/2000/svg\" height=\"24px\" viewBox=\"0 -960 960 960\">\n",
              "    <path d=\"M120-120v-720h720v720H120Zm60-500h600v-160H180v160Zm220 220h160v-160H400v160Zm0 220h160v-160H400v160ZM180-400h160v-160H180v160Zm440 0h160v-160H620v160ZM180-180h160v-160H180v160Zm440 0h160v-160H620v160Z\"/>\n",
              "  </svg>\n",
              "    </button>\n",
              "    \n",
              "  <style>\n",
              "    .colab-df-container {\n",
              "      display:flex;\n",
              "      gap: 12px;\n",
              "    }\n",
              "\n",
              "    .colab-df-convert {\n",
              "      background-color: #E8F0FE;\n",
              "      border: none;\n",
              "      border-radius: 50%;\n",
              "      cursor: pointer;\n",
              "      display: none;\n",
              "      fill: #1967D2;\n",
              "      height: 32px;\n",
              "      padding: 0 0 0 0;\n",
              "      width: 32px;\n",
              "    }\n",
              "\n",
              "    .colab-df-convert:hover {\n",
              "      background-color: #E2EBFA;\n",
              "      box-shadow: 0px 1px 2px rgba(60, 64, 67, 0.3), 0px 1px 3px 1px rgba(60, 64, 67, 0.15);\n",
              "      fill: #174EA6;\n",
              "    }\n",
              "\n",
              "    .colab-df-buttons div {\n",
              "      margin-bottom: 4px;\n",
              "    }\n",
              "\n",
              "    [theme=dark] .colab-df-convert {\n",
              "      background-color: #3B4455;\n",
              "      fill: #D2E3FC;\n",
              "    }\n",
              "\n",
              "    [theme=dark] .colab-df-convert:hover {\n",
              "      background-color: #434B5C;\n",
              "      box-shadow: 0px 1px 3px 1px rgba(0, 0, 0, 0.15);\n",
              "      filter: drop-shadow(0px 1px 2px rgba(0, 0, 0, 0.3));\n",
              "      fill: #FFFFFF;\n",
              "    }\n",
              "  </style>\n",
              "\n",
              "    <script>\n",
              "      const buttonEl =\n",
              "        document.querySelector('#df-25e09c02-d772-406f-a492-1ea74114fcef button.colab-df-convert');\n",
              "      buttonEl.style.display =\n",
              "        google.colab.kernel.accessAllowed ? 'block' : 'none';\n",
              "\n",
              "      async function convertToInteractive(key) {\n",
              "        const element = document.querySelector('#df-25e09c02-d772-406f-a492-1ea74114fcef');\n",
              "        const dataTable =\n",
              "          await google.colab.kernel.invokeFunction('convertToInteractive',\n",
              "                                                    [key], {});\n",
              "        if (!dataTable) return;\n",
              "\n",
              "        const docLinkHtml = 'Like what you see? Visit the ' +\n",
              "          '<a target=\"_blank\" href=https://colab.research.google.com/notebooks/data_table.ipynb>data table notebook</a>'\n",
              "          + ' to learn more about interactive tables.';\n",
              "        element.innerHTML = '';\n",
              "        dataTable['output_type'] = 'display_data';\n",
              "        await google.colab.output.renderOutput(dataTable, element);\n",
              "        const docLink = document.createElement('div');\n",
              "        docLink.innerHTML = docLinkHtml;\n",
              "        element.appendChild(docLink);\n",
              "      }\n",
              "    </script>\n",
              "  </div>\n",
              "  \n",
              "    </div>\n",
              "  </div>\n",
              "  "
            ],
            "application/vnd.google.colaboratory.intrinsic+json": {
              "type": "dataframe",
              "summary": "{\n  \"name\": \"data_train[num_cols]\",\n  \"rows\": 8,\n  \"fields\": [\n    {\n      \"column\": \"ClientPeriod\",\n      \"properties\": {\n        \"dtype\": \"number\",\n        \"std\": 1856.4031178435696,\n        \"min\": 0.0,\n        \"max\": 5282.0,\n        \"num_unique_values\": 8,\n        \"samples\": [\n          32.39700870882242,\n          29.0,\n          5282.0\n        ],\n        \"semantic_type\": \"\",\n        \"description\": \"\"\n      }\n    },\n    {\n      \"column\": \"MonthlySpending\",\n      \"properties\": {\n        \"dtype\": \"number\",\n        \"std\": 1846.1494729807714,\n        \"min\": 18.25,\n        \"max\": 5282.0,\n        \"num_unique_values\": 8,\n        \"samples\": [\n          64.92475388110564,\n          70.4,\n          5282.0\n        ],\n        \"semantic_type\": \"\",\n        \"description\": \"\"\n      }\n    },\n    {\n      \"column\": \"TotalSpent\",\n      \"properties\": {\n        \"dtype\": \"number\",\n        \"std\": 2862.0140498622022,\n        \"min\": 18.8,\n        \"max\": 8684.8,\n        \"num_unique_values\": 8,\n        \"samples\": [\n          2291.3904608382322,\n          1410.25,\n          5273.0\n        ],\n        \"semantic_type\": \"\",\n        \"description\": \"\"\n      }\n    }\n  ]\n}"
            }
          },
          "metadata": {},
          "execution_count": 175
        }
      ],
      "source": [
        "data_train[num_cols].describe()"
      ]
    },
    {
      "cell_type": "code",
      "execution_count": null,
      "metadata": {
        "colab": {
          "base_uri": "https://localhost:8080/",
          "height": 444
        },
        "collapsed": true,
        "id": "gSJeuzRMp7VM",
        "outputId": "564cf1a7-3670-4b74-a432-389038c23978"
      },
      "outputs": [
        {
          "output_type": "display_data",
          "data": {
            "text/plain": [
              "<Figure size 640x480 with 1 Axes>"
            ],
            "image/png": "[encoded data removed]"
          },
          "metadata": {}
        }
      ],
      "source": [
        "# посмотрим, что происходит в целевой переменной\n",
        "target_feature = data_train.Churn.value_counts()\n",
        "bar_chart = target_feature.plot(kind='bar')\n",
        "\n",
        "# видим, что целевая переменная разбалансирована --> хочу применить SMOTE позже."
      ]
    },
    {
      "cell_type": "code",
      "execution_count": null,
      "metadata": {
        "colab": {
          "base_uri": "https://localhost:8080/",
          "height": 176
        },
        "id": "ZsYgiwDbsR3V",
        "outputId": "a85988a9-a91f-4dfc-df2b-4ef54c7ba500"
      },
      "outputs": [
        {
          "output_type": "execute_result",
          "data": {
            "text/plain": [
              "ClientPeriod       0\n",
              "MonthlySpending    0\n",
              "TotalSpent         9\n",
              "dtype: int64"
            ],
            "text/html": [
              "<div>\n",
              "<style scoped>\n",
              "    .dataframe tbody tr th:only-of-type {\n",
              "        vertical-align: middle;\n",
              "    }\n",
              "\n",
              "    .dataframe tbody tr th {\n",
              "        vertical-align: top;\n",
              "    }\n",
              "\n",
              "    .dataframe thead th {\n",
              "        text-align: right;\n",
              "    }\n",
              "</style>\n",
              "<table border=\"1\" class=\"dataframe\">\n",
              "  <thead>\n",
              "    <tr style=\"text-align: right;\">\n",
              "      <th></th>\n",
              "      <th>0</th>\n",
              "    </tr>\n",
              "  </thead>\n",
              "  <tbody>\n",
              "    <tr>\n",
              "      <th>ClientPeriod</th>\n",
              "      <td>0</td>\n",
              "    </tr>\n",
              "    <tr>\n",
              "      <th>MonthlySpending</th>\n",
              "      <td>0</td>\n",
              "    </tr>\n",
              "    <tr>\n",
              "      <th>TotalSpent</th>\n",
              "      <td>9</td>\n",
              "    </tr>\n",
              "  </tbody>\n",
              "</table>\n",
              "</div><br><label><b>dtype:</b> int64</label>"
            ]
          },
          "metadata": {},
          "execution_count": 177
        }
      ],
      "source": [
        "data_train[num_cols].isna().sum()\n",
        "# в TotalSpent 9 NaN значений - не так много, думаю можно забить, ничего не потеряв - заменю на моду"
      ]
    },
    {
      "cell_type": "code",
      "execution_count": null,
      "metadata": {
        "id": "mg1IPLY8sNDO"
      },
      "outputs": [],
      "source": [
        "# заменили НаН значения на моду, медиана слишком высокая\n",
        "data_train['TotalSpent'] = data_train['TotalSpent'].fillna(data_train['TotalSpent'].mode()[0])\n",
        "data_test['TotalSpent'] = data_test['TotalSpent'].fillna(data_test['TotalSpent'].mode()[0])"
      ]
    },
    {
      "cell_type": "code",
      "execution_count": null,
      "metadata": {
        "colab": {
          "base_uri": "https://localhost:8080/",
          "height": 804
        },
        "id": "NZkbgFJZEEZE",
        "outputId": "7059744a-ad90-49fd-be45-f4fec778a3f6",
        "collapsed": true
      },
      "outputs": [
        {
          "output_type": "execute_result",
          "data": {
            "text/plain": [
              "{'whiskers': [<matplotlib.lines.Line2D at 0x7e716b3a5780>,\n",
              "  <matplotlib.lines.Line2D at 0x7e716b3a5a20>,\n",
              "  <matplotlib.lines.Line2D at 0x7e716b3a69b0>,\n",
              "  <matplotlib.lines.Line2D at 0x7e716b3a6c50>,\n",
              "  <matplotlib.lines.Line2D at 0x7e716b3a7c10>,\n",
              "  <matplotlib.lines.Line2D at 0x7e716b3a7eb0>],\n",
              " 'caps': [<matplotlib.lines.Line2D at 0x7e716b3a5cc0>,\n",
              "  <matplotlib.lines.Line2D at 0x7e716b3a5f60>,\n",
              "  <matplotlib.lines.Line2D at 0x7e716b3a6ef0>,\n",
              "  <matplotlib.lines.Line2D at 0x7e716b3a7190>,\n",
              "  <matplotlib.lines.Line2D at 0x7e716b3d81c0>,\n",
              "  <matplotlib.lines.Line2D at 0x7e716b3d8460>],\n",
              " 'boxes': [<matplotlib.lines.Line2D at 0x7e716b3a54e0>,\n",
              "  <matplotlib.lines.Line2D at 0x7e716b3a6710>,\n",
              "  <matplotlib.lines.Line2D at 0x7e716b3a7970>],\n",
              " 'medians': [<matplotlib.lines.Line2D at 0x7e716b3a6200>,\n",
              "  <matplotlib.lines.Line2D at 0x7e716b3a7430>,\n",
              "  <matplotlib.lines.Line2D at 0x7e716b3d8700>],\n",
              " 'fliers': [<matplotlib.lines.Line2D at 0x7e716b3a6470>,\n",
              "  <matplotlib.lines.Line2D at 0x7e716b3a76d0>,\n",
              "  <matplotlib.lines.Line2D at 0x7e716b3d89a0>],\n",
              " 'means': []}"
            ]
          },
          "metadata": {},
          "execution_count": 179
        },
        {
          "output_type": "display_data",
          "data": {
            "text/plain": [
              "<Figure size 640x480 with 1 Axes>"
            ],
            "image/png": "[encoded data removed]"
          },
          "metadata": {}
        }
      ],
      "source": [
        "# посмотрим на boxplot числовых признаков\n",
        "plt.boxplot(data_train[num_cols], labels=data_train[num_cols].columns)"
      ]
    },
    {
      "cell_type": "code",
      "execution_count": null,
      "metadata": {
        "colab": {
          "base_uri": "https://localhost:8080/",
          "height": 331
        },
        "id": "NORLw12mt6dI",
        "outputId": "6c78dfd1-0d9e-4495-d299-c3f3fd6641ed"
      },
      "outputs": [
        {
          "output_type": "execute_result",
          "data": {
            "text/plain": [
              "count    5282.000000\n",
              "mean     2287.520579\n",
              "std      2269.014643\n",
              "min        18.800000\n",
              "25%       395.725000\n",
              "50%      1405.650000\n",
              "75%      3795.212500\n",
              "max      8684.800000\n",
              "Name: TotalSpent, dtype: float64"
            ],
            "text/html": [
              "<div>\n",
              "<style scoped>\n",
              "    .dataframe tbody tr th:only-of-type {\n",
              "        vertical-align: middle;\n",
              "    }\n",
              "\n",
              "    .dataframe tbody tr th {\n",
              "        vertical-align: top;\n",
              "    }\n",
              "\n",
              "    .dataframe thead th {\n",
              "        text-align: right;\n",
              "    }\n",
              "</style>\n",
              "<table border=\"1\" class=\"dataframe\">\n",
              "  <thead>\n",
              "    <tr style=\"text-align: right;\">\n",
              "      <th></th>\n",
              "      <th>TotalSpent</th>\n",
              "    </tr>\n",
              "  </thead>\n",
              "  <tbody>\n",
              "    <tr>\n",
              "      <th>count</th>\n",
              "      <td>5282.000000</td>\n",
              "    </tr>\n",
              "    <tr>\n",
              "      <th>mean</th>\n",
              "      <td>2287.520579</td>\n",
              "    </tr>\n",
              "    <tr>\n",
              "      <th>std</th>\n",
              "      <td>2269.014643</td>\n",
              "    </tr>\n",
              "    <tr>\n",
              "      <th>min</th>\n",
              "      <td>18.800000</td>\n",
              "    </tr>\n",
              "    <tr>\n",
              "      <th>25%</th>\n",
              "      <td>395.725000</td>\n",
              "    </tr>\n",
              "    <tr>\n",
              "      <th>50%</th>\n",
              "      <td>1405.650000</td>\n",
              "    </tr>\n",
              "    <tr>\n",
              "      <th>75%</th>\n",
              "      <td>3795.212500</td>\n",
              "    </tr>\n",
              "    <tr>\n",
              "      <th>max</th>\n",
              "      <td>8684.800000</td>\n",
              "    </tr>\n",
              "  </tbody>\n",
              "</table>\n",
              "</div><br><label><b>dtype:</b> float64</label>"
            ]
          },
          "metadata": {},
          "execution_count": 180
        }
      ],
      "source": [
        "data_train.TotalSpent.describe()"
      ]
    },
    {
      "cell_type": "code",
      "execution_count": null,
      "metadata": {
        "colab": {
          "base_uri": "https://localhost:8080/",
          "height": 592
        },
        "collapsed": true,
        "id": "ZzbiCu1Ptyhu",
        "outputId": "876b7f86-3e96-4b27-9b59-ae2080da164c"
      },
      "outputs": [
        {
          "output_type": "execute_result",
          "data": {
            "text/plain": [
              "      ClientPeriod  MonthlySpending  TotalSpent     Sex  IsSeniorCitizen  \\\n",
              "4               60           115.25     6758.45  Female                0   \n",
              "8               50           105.95     5341.80    Male                0   \n",
              "9               72            61.20     4390.25    Male                0   \n",
              "11              70           113.05     7869.05  Female                0   \n",
              "12              69            99.50     6841.45    Male                0   \n",
              "...            ...              ...         ...     ...              ...   \n",
              "5267            72           112.25     8041.65    Male                0   \n",
              "5268            72           117.50     8670.10  Female                0   \n",
              "5271            67            88.80     5903.15    Male                0   \n",
              "5273            60           104.35     6339.45    Male                1   \n",
              "5276            72            98.20     7015.90  Female                0   \n",
              "\n",
              "     HasPartner HasChild HasPhoneService HasMultiplePhoneNumbers  \\\n",
              "4           Yes      Yes             Yes                     Yes   \n",
              "8           Yes      Yes             Yes                     Yes   \n",
              "9            No       No              No        No phone service   \n",
              "11          Yes      Yes             Yes                     Yes   \n",
              "12          Yes       No             Yes                     Yes   \n",
              "...         ...      ...             ...                     ...   \n",
              "5267        Yes      Yes             Yes                     Yes   \n",
              "5268        Yes      Yes             Yes                     Yes   \n",
              "5271         No       No             Yes                     Yes   \n",
              "5273        Yes       No             Yes                     Yes   \n",
              "5276        Yes       No             Yes                     Yes   \n",
              "\n",
              "     HasInternetService HasOnlineSecurityService HasOnlineBackup  \\\n",
              "4           Fiber optic                      Yes             Yes   \n",
              "8           Fiber optic                      Yes              No   \n",
              "9                   DSL                      Yes              No   \n",
              "11          Fiber optic                      Yes             Yes   \n",
              "12          Fiber optic                       No              No   \n",
              "...                 ...                      ...             ...   \n",
              "5267        Fiber optic                       No             Yes   \n",
              "5268        Fiber optic                      Yes             Yes   \n",
              "5271                DSL                      Yes             Yes   \n",
              "5273        Fiber optic                       No             Yes   \n",
              "5276        Fiber optic                      Yes              No   \n",
              "\n",
              "     HasDeviceProtection HasTechSupportAccess HasOnlineTV  \\\n",
              "4                    Yes                  Yes         Yes   \n",
              "8                    Yes                   No         Yes   \n",
              "9                    Yes                  Yes         Yes   \n",
              "11                   Yes                  Yes         Yes   \n",
              "12                   Yes                   No         Yes   \n",
              "...                  ...                  ...         ...   \n",
              "5267                 Yes                  Yes         Yes   \n",
              "5268                 Yes                  Yes         Yes   \n",
              "5271                 Yes                  Yes         Yes   \n",
              "5273                 Yes                   No         Yes   \n",
              "5276                 Yes                  Yes         Yes   \n",
              "\n",
              "     HasMovieSubscription HasContractPhone IsBillingPaperless  \\\n",
              "4                     Yes         Two year                 No   \n",
              "8                     Yes   Month-to-month                 No   \n",
              "9                     Yes         Two year                Yes   \n",
              "11                    Yes         Two year                Yes   \n",
              "12                    Yes         One year                 No   \n",
              "...                   ...              ...                ...   \n",
              "5267                  Yes         Two year                Yes   \n",
              "5268                  Yes         Two year                 No   \n",
              "5271                  Yes         One year                Yes   \n",
              "5273                  Yes         One year                Yes   \n",
              "5276                   No         Two year                Yes   \n",
              "\n",
              "                  PaymentMethod  Churn  \n",
              "4       Credit card (automatic)      0  \n",
              "8       Credit card (automatic)      1  \n",
              "9       Credit card (automatic)      0  \n",
              "11      Credit card (automatic)      0  \n",
              "12    Bank transfer (automatic)      0  \n",
              "...                         ...    ...  \n",
              "5267  Bank transfer (automatic)      0  \n",
              "5268    Credit card (automatic)      0  \n",
              "5271  Bank transfer (automatic)      0  \n",
              "5273           Electronic check      0  \n",
              "5276  Bank transfer (automatic)      0  \n",
              "\n",
              "[1321 rows x 20 columns]"
            ],
            "text/html": [
              "\n",
              "  <div id=\"df-0b60ea09-9129-455c-bdd3-81312b3ec465\" class=\"colab-df-container\">\n",
              "    <div>\n",
              "<style scoped>\n",
              "    .dataframe tbody tr th:only-of-type {\n",
              "        vertical-align: middle;\n",
              "    }\n",
              "\n",
              "    .dataframe tbody tr th {\n",
              "        vertical-align: top;\n",
              "    }\n",
              "\n",
              "    .dataframe thead th {\n",
              "        text-align: right;\n",
              "    }\n",
              "</style>\n",
              "<table border=\"1\" class=\"dataframe\">\n",
              "  <thead>\n",
              "    <tr style=\"text-align: right;\">\n",
              "      <th></th>\n",
              "      <th>ClientPeriod</th>\n",
              "      <th>MonthlySpending</th>\n",
              "      <th>TotalSpent</th>\n",
              "      <th>Sex</th>\n",
              "      <th>IsSeniorCitizen</th>\n",
              "      <th>HasPartner</th>\n",
              "      <th>HasChild</th>\n",
              "      <th>HasPhoneService</th>\n",
              "      <th>HasMultiplePhoneNumbers</th>\n",
              "      <th>HasInternetService</th>\n",
              "      <th>HasOnlineSecurityService</th>\n",
              "      <th>HasOnlineBackup</th>\n",
              "      <th>HasDeviceProtection</th>\n",
              "      <th>HasTechSupportAccess</th>\n",
              "      <th>HasOnlineTV</th>\n",
              "      <th>HasMovieSubscription</th>\n",
              "      <th>HasContractPhone</th>\n",
              "      <th>IsBillingPaperless</th>\n",
              "      <th>PaymentMethod</th>\n",
              "      <th>Churn</th>\n",
              "    </tr>\n",
              "  </thead>\n",
              "  <tbody>\n",
              "    <tr>\n",
              "      <th>4</th>\n",
              "      <td>60</td>\n",
              "      <td>115.25</td>\n",
              "      <td>6758.45</td>\n",
              "      <td>Female</td>\n",
              "      <td>0</td>\n",
              "      <td>Yes</td>\n",
              "      <td>Yes</td>\n",
              "      <td>Yes</td>\n",
              "      <td>Yes</td>\n",
              "      <td>Fiber optic</td>\n",
              "      <td>Yes</td>\n",
              "      <td>Yes</td>\n",
              "      <td>Yes</td>\n",
              "      <td>Yes</td>\n",
              "      <td>Yes</td>\n",
              "      <td>Yes</td>\n",
              "      <td>Two year</td>\n",
              "      <td>No</td>\n",
              "      <td>Credit card (automatic)</td>\n",
              "      <td>0</td>\n",
              "    </tr>\n",
              "    <tr>\n",
              "      <th>8</th>\n",
              "      <td>50</td>\n",
              "      <td>105.95</td>\n",
              "      <td>5341.80</td>\n",
              "      <td>Male</td>\n",
              "      <td>0</td>\n",
              "      <td>Yes</td>\n",
              "      <td>Yes</td>\n",
              "      <td>Yes</td>\n",
              "      <td>Yes</td>\n",
              "      <td>Fiber optic</td>\n",
              "      <td>Yes</td>\n",
              "      <td>No</td>\n",
              "      <td>Yes</td>\n",
              "      <td>No</td>\n",
              "      <td>Yes</td>\n",
              "      <td>Yes</td>\n",
              "      <td>Month-to-month</td>\n",
              "      <td>No</td>\n",
              "      <td>Credit card (automatic)</td>\n",
              "      <td>1</td>\n",
              "    </tr>\n",
              "    <tr>\n",
              "      <th>9</th>\n",
              "      <td>72</td>\n",
              "      <td>61.20</td>\n",
              "      <td>4390.25</td>\n",
              "      <td>Male</td>\n",
              "      <td>0</td>\n",
              "      <td>No</td>\n",
              "      <td>No</td>\n",
              "      <td>No</td>\n",
              "      <td>No phone service</td>\n",
              "      <td>DSL</td>\n",
              "      <td>Yes</td>\n",
              "      <td>No</td>\n",
              "      <td>Yes</td>\n",
              "      <td>Yes</td>\n",
              "      <td>Yes</td>\n",
              "      <td>Yes</td>\n",
              "      <td>Two year</td>\n",
              "      <td>Yes</td>\n",
              "      <td>Credit card (automatic)</td>\n",
              "      <td>0</td>\n",
              "    </tr>\n",
              "    <tr>\n",
              "      <th>11</th>\n",
              "      <td>70</td>\n",
              "      <td>113.05</td>\n",
              "      <td>7869.05</td>\n",
              "      <td>Female</td>\n",
              "      <td>0</td>\n",
              "      <td>Yes</td>\n",
              "      <td>Yes</td>\n",
              "      <td>Yes</td>\n",
              "      <td>Yes</td>\n",
              "      <td>Fiber optic</td>\n",
              "      <td>Yes</td>\n",
              "      <td>Yes</td>\n",
              "      <td>Yes</td>\n",
              "      <td>Yes</td>\n",
              "      <td>Yes</td>\n",
              "      <td>Yes</td>\n",
              "      <td>Two year</td>\n",
              "      <td>Yes</td>\n",
              "      <td>Credit card (automatic)</td>\n",
              "      <td>0</td>\n",
              "    </tr>\n",
              "    <tr>\n",
              "      <th>12</th>\n",
              "      <td>69</td>\n",
              "      <td>99.50</td>\n",
              "      <td>6841.45</td>\n",
              "      <td>Male</td>\n",
              "      <td>0</td>\n",
              "      <td>Yes</td>\n",
              "      <td>No</td>\n",
              "      <td>Yes</td>\n",
              "      <td>Yes</td>\n",
              "      <td>Fiber optic</td>\n",
              "      <td>No</td>\n",
              "      <td>No</td>\n",
              "      <td>Yes</td>\n",
              "      <td>No</td>\n",
              "      <td>Yes</td>\n",
              "      <td>Yes</td>\n",
              "      <td>One year</td>\n",
              "      <td>No</td>\n",
              "      <td>Bank transfer (automatic)</td>\n",
              "      <td>0</td>\n",
              "    </tr>\n",
              "    <tr>\n",
              "      <th>...</th>\n",
              "      <td>...</td>\n",
              "      <td>...</td>\n",
              "      <td>...</td>\n",
              "      <td>...</td>\n",
              "      <td>...</td>\n",
              "      <td>...</td>\n",
              "      <td>...</td>\n",
              "      <td>...</td>\n",
              "      <td>...</td>\n",
              "      <td>...</td>\n",
              "      <td>...</td>\n",
              "      <td>...</td>\n",
              "      <td>...</td>\n",
              "      <td>...</td>\n",
              "      <td>...</td>\n",
              "      <td>...</td>\n",
              "      <td>...</td>\n",
              "      <td>...</td>\n",
              "      <td>...</td>\n",
              "      <td>...</td>\n",
              "    </tr>\n",
              "    <tr>\n",
              "      <th>5267</th>\n",
              "      <td>72</td>\n",
              "      <td>112.25</td>\n",
              "      <td>8041.65</td>\n",
              "      <td>Male</td>\n",
              "      <td>0</td>\n",
              "      <td>Yes</td>\n",
              "      <td>Yes</td>\n",
              "      <td>Yes</td>\n",
              "      <td>Yes</td>\n",
              "      <td>Fiber optic</td>\n",
              "      <td>No</td>\n",
              "      <td>Yes</td>\n",
              "      <td>Yes</td>\n",
              "      <td>Yes</td>\n",
              "      <td>Yes</td>\n",
              "      <td>Yes</td>\n",
              "      <td>Two year</td>\n",
              "      <td>Yes</td>\n",
              "      <td>Bank transfer (automatic)</td>\n",
              "      <td>0</td>\n",
              "    </tr>\n",
              "    <tr>\n",
              "      <th>5268</th>\n",
              "      <td>72</td>\n",
              "      <td>117.50</td>\n",
              "      <td>8670.10</td>\n",
              "      <td>Female</td>\n",
              "      <td>0</td>\n",
              "      <td>Yes</td>\n",
              "      <td>Yes</td>\n",
              "      <td>Yes</td>\n",
              "      <td>Yes</td>\n",
              "      <td>Fiber optic</td>\n",
              "      <td>Yes</td>\n",
              "      <td>Yes</td>\n",
              "      <td>Yes</td>\n",
              "      <td>Yes</td>\n",
              "      <td>Yes</td>\n",
              "      <td>Yes</td>\n",
              "      <td>Two year</td>\n",
              "      <td>No</td>\n",
              "      <td>Credit card (automatic)</td>\n",
              "      <td>0</td>\n",
              "    </tr>\n",
              "    <tr>\n",
              "      <th>5271</th>\n",
              "      <td>67</td>\n",
              "      <td>88.80</td>\n",
              "      <td>5903.15</td>\n",
              "      <td>Male</td>\n",
              "      <td>0</td>\n",
              "      <td>No</td>\n",
              "      <td>No</td>\n",
              "      <td>Yes</td>\n",
              "      <td>Yes</td>\n",
              "      <td>DSL</td>\n",
              "      <td>Yes</td>\n",
              "      <td>Yes</td>\n",
              "      <td>Yes</td>\n",
              "      <td>Yes</td>\n",
              "      <td>Yes</td>\n",
              "      <td>Yes</td>\n",
              "      <td>One year</td>\n",
              "      <td>Yes</td>\n",
              "      <td>Bank transfer (automatic)</td>\n",
              "      <td>0</td>\n",
              "    </tr>\n",
              "    <tr>\n",
              "      <th>5273</th>\n",
              "      <td>60</td>\n",
              "      <td>104.35</td>\n",
              "      <td>6339.45</td>\n",
              "      <td>Male</td>\n",
              "      <td>1</td>\n",
              "      <td>Yes</td>\n",
              "      <td>No</td>\n",
              "      <td>Yes</td>\n",
              "      <td>Yes</td>\n",
              "      <td>Fiber optic</td>\n",
              "      <td>No</td>\n",
              "      <td>Yes</td>\n",
              "      <td>Yes</td>\n",
              "      <td>No</td>\n",
              "      <td>Yes</td>\n",
              "      <td>Yes</td>\n",
              "      <td>One year</td>\n",
              "      <td>Yes</td>\n",
              "      <td>Electronic check</td>\n",
              "      <td>0</td>\n",
              "    </tr>\n",
              "    <tr>\n",
              "      <th>5276</th>\n",
              "      <td>72</td>\n",
              "      <td>98.20</td>\n",
              "      <td>7015.90</td>\n",
              "      <td>Female</td>\n",
              "      <td>0</td>\n",
              "      <td>Yes</td>\n",
              "      <td>No</td>\n",
              "      <td>Yes</td>\n",
              "      <td>Yes</td>\n",
              "      <td>Fiber optic</td>\n",
              "      <td>Yes</td>\n",
              "      <td>No</td>\n",
              "      <td>Yes</td>\n",
              "      <td>Yes</td>\n",
              "      <td>Yes</td>\n",
              "      <td>No</td>\n",
              "      <td>Two year</td>\n",
              "      <td>Yes</td>\n",
              "      <td>Bank transfer (automatic)</td>\n",
              "      <td>0</td>\n",
              "    </tr>\n",
              "  </tbody>\n",
              "</table>\n",
              "<p>1321 rows × 20 columns</p>\n",
              "</div>\n",
              "    <div class=\"colab-df-buttons\">\n",
              "      \n",
              "  <div class=\"colab-df-container\">\n",
              "    <button class=\"colab-df-convert\" onclick=\"convertToInteractive('df-0b60ea09-9129-455c-bdd3-81312b3ec465')\"\n",
              "            title=\"Convert this dataframe to an interactive table.\"\n",
              "            style=\"display:none;\">\n",
              "      \n",
              "  <svg xmlns=\"http://www.w3.org/2000/svg\" height=\"24px\" viewBox=\"0 -960 960 960\">\n",
              "    <path d=\"M120-120v-720h720v720H120Zm60-500h600v-160H180v160Zm220 220h160v-160H400v160Zm0 220h160v-160H400v160ZM180-400h160v-160H180v160Zm440 0h160v-160H620v160ZM180-180h160v-160H180v160Zm440 0h160v-160H620v160Z\"/>\n",
              "  </svg>\n",
              "    </button>\n",
              "    \n",
              "  <style>\n",
              "    .colab-df-container {\n",
              "      display:flex;\n",
              "      gap: 12px;\n",
              "    }\n",
              "\n",
              "    .colab-df-convert {\n",
              "      background-color: #E8F0FE;\n",
              "      border: none;\n",
              "      border-radius: 50%;\n",
              "      cursor: pointer;\n",
              "      display: none;\n",
              "      fill: #1967D2;\n",
              "      height: 32px;\n",
              "      padding: 0 0 0 0;\n",
              "      width: 32px;\n",
              "    }\n",
              "\n",
              "    .colab-df-convert:hover {\n",
              "      background-color: #E2EBFA;\n",
              "      box-shadow: 0px 1px 2px rgba(60, 64, 67, 0.3), 0px 1px 3px 1px rgba(60, 64, 67, 0.15);\n",
              "      fill: #174EA6;\n",
              "    }\n",
              "\n",
              "    .colab-df-buttons div {\n",
              "      margin-bottom: 4px;\n",
              "    }\n",
              "\n",
              "    [theme=dark] .colab-df-convert {\n",
              "      background-color: #3B4455;\n",
              "      fill: #D2E3FC;\n",
              "    }\n",
              "\n",
              "    [theme=dark] .colab-df-convert:hover {\n",
              "      background-color: #434B5C;\n",
              "      box-shadow: 0px 1px 3px 1px rgba(0, 0, 0, 0.15);\n",
              "      filter: drop-shadow(0px 1px 2px rgba(0, 0, 0, 0.3));\n",
              "      fill: #FFFFFF;\n",
              "    }\n",
              "  </style>\n",
              "\n",
              "    <script>\n",
              "      const buttonEl =\n",
              "        document.querySelector('#df-0b60ea09-9129-455c-bdd3-81312b3ec465 button.colab-df-convert');\n",
              "      buttonEl.style.display =\n",
              "        google.colab.kernel.accessAllowed ? 'block' : 'none';\n",
              "\n",
              "      async function convertToInteractive(key) {\n",
              "        const element = document.querySelector('#df-0b60ea09-9129-455c-bdd3-81312b3ec465');\n",
              "        const dataTable =\n",
              "          await google.colab.kernel.invokeFunction('convertToInteractive',\n",
              "                                                    [key], {});\n",
              "        if (!dataTable) return;\n",
              "\n",
              "        const docLinkHtml = 'Like what you see? Visit the ' +\n",
              "          '<a target=\"_blank\" href=https://colab.research.google.com/notebooks/data_table.ipynb>data table notebook</a>'\n",
              "          + ' to learn more about interactive tables.';\n",
              "        element.innerHTML = '';\n",
              "        dataTable['output_type'] = 'display_data';\n",
              "        await google.colab.output.renderOutput(dataTable, element);\n",
              "        const docLink = document.createElement('div');\n",
              "        docLink.innerHTML = docLinkHtml;\n",
              "        element.appendChild(docLink);\n",
              "      }\n",
              "    </script>\n",
              "  </div>\n",
              "  \n",
              "    </div>\n",
              "  </div>\n",
              "  "
            ],
            "application/vnd.google.colaboratory.intrinsic+json": {
              "type": "dataframe",
              "summary": "{\n  \"name\": \"# \\u0435\\u0441\\u043b\\u0438 \\u0431\\u044b \\u043c\\u044b \\u0437\\u043d\\u0430\\u043b\\u0438, \\u0447\\u0442\\u043e \\u0441 \\u044d\\u0442\\u0438\\u043c \\u0434\\u0435\\u043b\\u0430\\u0442\\u044c, \\u041d\\u041e \\u0438\\u0433\\u043d\\u043e\\u0440\\u0438\\u0442\\u044c 1/3 \\u0432\\u044b\\u0431\\u0440\\u043e\\u0441\\u043e\\u0432 \\u0442\\u043e\\u0447\\u043d\\u043e \\u043d\\u0435\\u043b\\u044c\\u0437\\u044f\",\n  \"rows\": 1321,\n  \"fields\": [\n    {\n      \"column\": \"ClientPeriod\",\n      \"properties\": {\n        \"dtype\": \"number\",\n        \"std\": 9,\n        \"min\": 34,\n        \"max\": 72,\n        \"num_unique_values\": 39,\n        \"samples\": [\n          44,\n          34,\n          69\n        ],\n        \"semantic_type\": \"\",\n        \"description\": \"\"\n      }\n    },\n    {\n      \"column\": \"MonthlySpending\",\n      \"properties\": {\n        \"dtype\": \"number\",\n        \"std\": 14.608102011097873,\n        \"min\": 53.8,\n        \"max\": 118.75,\n        \"num_unique_values\": 723,\n        \"samples\": [\n          99.8,\n          86.15,\n          60.3\n        ],\n        \"semantic_type\": \"\",\n        \"description\": \"\"\n      }\n    },\n    {\n      \"column\": \"TotalSpent\",\n      \"properties\": {\n        \"dtype\": \"number\",\n        \"std\": 1256.5071552885613,\n        \"min\": 3795.45,\n        \"max\": 8684.8,\n        \"num_unique_values\": 1315,\n        \"samples\": [\n          4692.95,\n          6910.3,\n          7804.15\n        ],\n        \"semantic_type\": \"\",\n        \"description\": \"\"\n      }\n    },\n    {\n      \"column\": \"Sex\",\n      \"properties\": {\n        \"dtype\": \"category\",\n        \"num_unique_values\": 2,\n        \"samples\": [\n          \"Male\",\n          \"Female\"\n        ],\n        \"semantic_type\": \"\",\n        \"description\": \"\"\n      }\n    },\n    {\n      \"column\": \"IsSeniorCitizen\",\n      \"properties\": {\n        \"dtype\": \"number\",\n        \"std\": 0,\n        \"min\": 0,\n        \"max\": 1,\n        \"num_unique_values\": 2,\n        \"samples\": [\n          1,\n          0\n        ],\n        \"semantic_type\": \"\",\n        \"description\": \"\"\n      }\n    },\n    {\n      \"column\": \"HasPartner\",\n      \"properties\": {\n        \"dtype\": \"category\",\n        \"num_unique_values\": 2,\n        \"samples\": [\n          \"No\",\n          \"Yes\"\n        ],\n        \"semantic_type\": \"\",\n        \"description\": \"\"\n      }\n    },\n    {\n      \"column\": \"HasChild\",\n      \"properties\": {\n        \"dtype\": \"category\",\n        \"num_unique_values\": 2,\n        \"samples\": [\n          \"No\",\n          \"Yes\"\n        ],\n        \"semantic_type\": \"\",\n        \"description\": \"\"\n      }\n    },\n    {\n      \"column\": \"HasPhoneService\",\n      \"properties\": {\n        \"dtype\": \"category\",\n        \"num_unique_values\": 2,\n        \"samples\": [\n          \"No\",\n          \"Yes\"\n        ],\n        \"semantic_type\": \"\",\n        \"description\": \"\"\n      }\n    },\n    {\n      \"column\": \"HasMultiplePhoneNumbers\",\n      \"properties\": {\n        \"dtype\": \"category\",\n        \"num_unique_values\": 3,\n        \"samples\": [\n          \"Yes\",\n          \"No phone service\"\n        ],\n        \"semantic_type\": \"\",\n        \"description\": \"\"\n      }\n    },\n    {\n      \"column\": \"HasInternetService\",\n      \"properties\": {\n        \"dtype\": \"category\",\n        \"num_unique_values\": 2,\n        \"samples\": [\n          \"DSL\",\n          \"Fiber optic\"\n        ],\n        \"semantic_type\": \"\",\n        \"description\": \"\"\n      }\n    },\n    {\n      \"column\": \"HasOnlineSecurityService\",\n      \"properties\": {\n        \"dtype\": \"category\",\n        \"num_unique_values\": 2,\n        \"samples\": [\n          \"No\",\n          \"Yes\"\n        ],\n        \"semantic_type\": \"\",\n        \"description\": \"\"\n      }\n    },\n    {\n      \"column\": \"HasOnlineBackup\",\n      \"properties\": {\n        \"dtype\": \"category\",\n        \"num_unique_values\": 2,\n        \"samples\": [\n          \"No\",\n          \"Yes\"\n        ],\n        \"semantic_type\": \"\",\n        \"description\": \"\"\n      }\n    },\n    {\n      \"column\": \"HasDeviceProtection\",\n      \"properties\": {\n        \"dtype\": \"category\",\n        \"num_unique_values\": 2,\n        \"samples\": [\n          \"No\",\n          \"Yes\"\n        ],\n        \"semantic_type\": \"\",\n        \"description\": \"\"\n      }\n    },\n    {\n      \"column\": \"HasTechSupportAccess\",\n      \"properties\": {\n        \"dtype\": \"category\",\n        \"num_unique_values\": 2,\n        \"samples\": [\n          \"No\",\n          \"Yes\"\n        ],\n        \"semantic_type\": \"\",\n        \"description\": \"\"\n      }\n    },\n    {\n      \"column\": \"HasOnlineTV\",\n      \"properties\": {\n        \"dtype\": \"category\",\n        \"num_unique_values\": 2,\n        \"samples\": [\n          \"No\",\n          \"Yes\"\n        ],\n        \"semantic_type\": \"\",\n        \"description\": \"\"\n      }\n    },\n    {\n      \"column\": \"HasMovieSubscription\",\n      \"properties\": {\n        \"dtype\": \"category\",\n        \"num_unique_values\": 2,\n        \"samples\": [\n          \"No\",\n          \"Yes\"\n        ],\n        \"semantic_type\": \"\",\n        \"description\": \"\"\n      }\n    },\n    {\n      \"column\": \"HasContractPhone\",\n      \"properties\": {\n        \"dtype\": \"category\",\n        \"num_unique_values\": 3,\n        \"samples\": [\n          \"Two year\",\n          \"Month-to-month\"\n        ],\n        \"semantic_type\": \"\",\n        \"description\": \"\"\n      }\n    },\n    {\n      \"column\": \"IsBillingPaperless\",\n      \"properties\": {\n        \"dtype\": \"category\",\n        \"num_unique_values\": 2,\n        \"samples\": [\n          \"Yes\",\n          \"No\"\n        ],\n        \"semantic_type\": \"\",\n        \"description\": \"\"\n      }\n    },\n    {\n      \"column\": \"PaymentMethod\",\n      \"properties\": {\n        \"dtype\": \"category\",\n        \"num_unique_values\": 4,\n        \"samples\": [\n          \"Bank transfer (automatic)\",\n          \"Mailed check\"\n        ],\n        \"semantic_type\": \"\",\n        \"description\": \"\"\n      }\n    },\n    {\n      \"column\": \"Churn\",\n      \"properties\": {\n        \"dtype\": \"number\",\n        \"std\": 0,\n        \"min\": 0,\n        \"max\": 1,\n        \"num_unique_values\": 2,\n        \"samples\": [\n          1,\n          0\n        ],\n        \"semantic_type\": \"\",\n        \"description\": \"\"\n      }\n    }\n  ]\n}"
            }
          },
          "metadata": {},
          "execution_count": 181
        }
      ],
      "source": [
        "data_train.query('TotalSpent > 3795.212500')\n",
        "# 1321 семпл имеет TotalSpent выше 3-го квантиля, что-то убер дофига выбросов,\n",
        "# если бы мы знали, что с этим делать, НО игнорить 1/3 выбросов точно нельзя"
      ]
    },
    {
      "cell_type": "code",
      "execution_count": null,
      "metadata": {
        "colab": {
          "base_uri": "https://localhost:8080/",
          "height": 297
        },
        "id": "xNuYd5zLvpzk",
        "outputId": "e68f26e9-d097-4ae6-b668-7c752944acce"
      },
      "outputs": [
        {
          "output_type": "execute_result",
          "data": {
            "text/plain": [
              "       ClientPeriod  MonthlySpending   TotalSpent\n",
              "count   5282.000000      5282.000000  5282.000000\n",
              "mean      32.397009        64.911549  2284.674515\n",
              "std       24.550326        30.154050  2261.557761\n",
              "min        0.000000        18.250000    18.800000\n",
              "25%        9.000000        35.462500   395.725000\n",
              "50%       29.000000        70.400000  1405.650000\n",
              "75%       55.000000        90.050000  3795.212500\n",
              "max       72.000000       115.050000  8017.787500"
            ],
            "text/html": [
              "\n",
              "  <div id=\"df-cf580a78-97c3-408a-9cd7-4c7210d2525d\" class=\"colab-df-container\">\n",
              "    <div>\n",
              "<style scoped>\n",
              "    .dataframe tbody tr th:only-of-type {\n",
              "        vertical-align: middle;\n",
              "    }\n",
              "\n",
              "    .dataframe tbody tr th {\n",
              "        vertical-align: top;\n",
              "    }\n",
              "\n",
              "    .dataframe thead th {\n",
              "        text-align: right;\n",
              "    }\n",
              "</style>\n",
              "<table border=\"1\" class=\"dataframe\">\n",
              "  <thead>\n",
              "    <tr style=\"text-align: right;\">\n",
              "      <th></th>\n",
              "      <th>ClientPeriod</th>\n",
              "      <th>MonthlySpending</th>\n",
              "      <th>TotalSpent</th>\n",
              "    </tr>\n",
              "  </thead>\n",
              "  <tbody>\n",
              "    <tr>\n",
              "      <th>count</th>\n",
              "      <td>5282.000000</td>\n",
              "      <td>5282.000000</td>\n",
              "      <td>5282.000000</td>\n",
              "    </tr>\n",
              "    <tr>\n",
              "      <th>mean</th>\n",
              "      <td>32.397009</td>\n",
              "      <td>64.911549</td>\n",
              "      <td>2284.674515</td>\n",
              "    </tr>\n",
              "    <tr>\n",
              "      <th>std</th>\n",
              "      <td>24.550326</td>\n",
              "      <td>30.154050</td>\n",
              "      <td>2261.557761</td>\n",
              "    </tr>\n",
              "    <tr>\n",
              "      <th>min</th>\n",
              "      <td>0.000000</td>\n",
              "      <td>18.250000</td>\n",
              "      <td>18.800000</td>\n",
              "    </tr>\n",
              "    <tr>\n",
              "      <th>25%</th>\n",
              "      <td>9.000000</td>\n",
              "      <td>35.462500</td>\n",
              "      <td>395.725000</td>\n",
              "    </tr>\n",
              "    <tr>\n",
              "      <th>50%</th>\n",
              "      <td>29.000000</td>\n",
              "      <td>70.400000</td>\n",
              "      <td>1405.650000</td>\n",
              "    </tr>\n",
              "    <tr>\n",
              "      <th>75%</th>\n",
              "      <td>55.000000</td>\n",
              "      <td>90.050000</td>\n",
              "      <td>3795.212500</td>\n",
              "    </tr>\n",
              "    <tr>\n",
              "      <th>max</th>\n",
              "      <td>72.000000</td>\n",
              "      <td>115.050000</td>\n",
              "      <td>8017.787500</td>\n",
              "    </tr>\n",
              "  </tbody>\n",
              "</table>\n",
              "</div>\n",
              "    <div class=\"colab-df-buttons\">\n",
              "      \n",
              "  <div class=\"colab-df-container\">\n",
              "    <button class=\"colab-df-convert\" onclick=\"convertToInteractive('df-cf580a78-97c3-408a-9cd7-4c7210d2525d')\"\n",
              "            title=\"Convert this dataframe to an interactive table.\"\n",
              "            style=\"display:none;\">\n",
              "      \n",
              "  <svg xmlns=\"http://www.w3.org/2000/svg\" height=\"24px\" viewBox=\"0 -960 960 960\">\n",
              "    <path d=\"M120-120v-720h720v720H120Zm60-500h600v-160H180v160Zm220 220h160v-160H400v160Zm0 220h160v-160H400v160ZM180-400h160v-160H180v160Zm440 0h160v-160H620v160ZM180-180h160v-160H180v160Zm440 0h160v-160H620v160Z\"/>\n",
              "  </svg>\n",
              "    </button>\n",
              "    \n",
              "  <style>\n",
              "    .colab-df-container {\n",
              "      display:flex;\n",
              "      gap: 12px;\n",
              "    }\n",
              "\n",
              "    .colab-df-convert {\n",
              "      background-color: #E8F0FE;\n",
              "      border: none;\n",
              "      border-radius: 50%;\n",
              "      cursor: pointer;\n",
              "      display: none;\n",
              "      fill: #1967D2;\n",
              "      height: 32px;\n",
              "      padding: 0 0 0 0;\n",
              "      width: 32px;\n",
              "    }\n",
              "\n",
              "    .colab-df-convert:hover {\n",
              "      background-color: #E2EBFA;\n",
              "      box-shadow: 0px 1px 2px rgba(60, 64, 67, 0.3), 0px 1px 3px 1px rgba(60, 64, 67, 0.15);\n",
              "      fill: #174EA6;\n",
              "    }\n",
              "\n",
              "    .colab-df-buttons div {\n",
              "      margin-bottom: 4px;\n",
              "    }\n",
              "\n",
              "    [theme=dark] .colab-df-convert {\n",
              "      background-color: #3B4455;\n",
              "      fill: #D2E3FC;\n",
              "    }\n",
              "\n",
              "    [theme=dark] .colab-df-convert:hover {\n",
              "      background-color: #434B5C;\n",
              "      box-shadow: 0px 1px 3px 1px rgba(0, 0, 0, 0.15);\n",
              "      filter: drop-shadow(0px 1px 2px rgba(0, 0, 0, 0.3));\n",
              "      fill: #FFFFFF;\n",
              "    }\n",
              "  </style>\n",
              "\n",
              "    <script>\n",
              "      const buttonEl =\n",
              "        document.querySelector('#df-cf580a78-97c3-408a-9cd7-4c7210d2525d button.colab-df-convert');\n",
              "      buttonEl.style.display =\n",
              "        google.colab.kernel.accessAllowed ? 'block' : 'none';\n",
              "\n",
              "      async function convertToInteractive(key) {\n",
              "        const element = document.querySelector('#df-cf580a78-97c3-408a-9cd7-4c7210d2525d');\n",
              "        const dataTable =\n",
              "          await google.colab.kernel.invokeFunction('convertToInteractive',\n",
              "                                                    [key], {});\n",
              "        if (!dataTable) return;\n",
              "\n",
              "        const docLinkHtml = 'Like what you see? Visit the ' +\n",
              "          '<a target=\"_blank\" href=https://colab.research.google.com/notebooks/data_table.ipynb>data table notebook</a>'\n",
              "          + ' to learn more about interactive tables.';\n",
              "        element.innerHTML = '';\n",
              "        dataTable['output_type'] = 'display_data';\n",
              "        await google.colab.output.renderOutput(dataTable, element);\n",
              "        const docLink = document.createElement('div');\n",
              "        docLink.innerHTML = docLinkHtml;\n",
              "        element.appendChild(docLink);\n",
              "      }\n",
              "    </script>\n",
              "  </div>\n",
              "  \n",
              "    </div>\n",
              "  </div>\n",
              "  "
            ],
            "application/vnd.google.colaboratory.intrinsic+json": {
              "type": "dataframe",
              "summary": "{\n  \"name\": \"# \\u0442\\u0430\\u043a\\u0438\\u043c \\u043e\\u0431\\u0440\\u0430\\u0437\\u043e\\u043c \\u043c\\u044b \\u043d\\u0435\\u043c\\u043d\\u043e\\u0433\\u043e \\u0441\\u043d\\u0438\\u0437\\u0438\\u043b\\u0438 \\u0437\\u043d\\u0430\\u0447\\u0438\\u043c\\u043e\\u0441\\u0442\\u044c \\u0432\\u044b\\u0431\\u0440\\u043e\\u0441\\u043e\\u0432 \\u0432 \\u0432\\u044b\\u0431\\u043e\\u0440\\u043a\\u0435, \\u043d\\u0435 \\u0441\\u0438\\u043b\\u044c\\u043d\\u043e \\u043f\\u043e\\u0442\\u0435\\u0440\\u044f\\u0432 \\u0432 \\u0434\\u0430\\u043d\\u043d\\u044b\\u0445, \\u0442\",\n  \"rows\": 8,\n  \"fields\": [\n    {\n      \"column\": \"ClientPeriod\",\n      \"properties\": {\n        \"dtype\": \"number\",\n        \"std\": 1856.4031178435696,\n        \"min\": 0.0,\n        \"max\": 5282.0,\n        \"num_unique_values\": 8,\n        \"samples\": [\n          32.39700870882242,\n          29.0,\n          5282.0\n        ],\n        \"semantic_type\": \"\",\n        \"description\": \"\"\n      }\n    },\n    {\n      \"column\": \"MonthlySpending\",\n      \"properties\": {\n        \"dtype\": \"number\",\n        \"std\": 1846.3221307849822,\n        \"min\": 18.25,\n        \"max\": 5282.0,\n        \"num_unique_values\": 8,\n        \"samples\": [\n          64.9115486558122,\n          70.4,\n          5282.0\n        ],\n        \"semantic_type\": \"\",\n        \"description\": \"\"\n      }\n    },\n    {\n      \"column\": \"TotalSpent\",\n      \"properties\": {\n        \"dtype\": \"number\",\n        \"std\": 2679.300526477934,\n        \"min\": 18.8,\n        \"max\": 8017.787499999998,\n        \"num_unique_values\": 8,\n        \"samples\": [\n          2284.6745148617947,\n          1405.65,\n          5282.0\n        ],\n        \"semantic_type\": \"\",\n        \"description\": \"\"\n      }\n    }\n  ]\n}"
            }
          },
          "metadata": {},
          "execution_count": 182
        }
      ],
      "source": [
        "# порог 99-го квантиля\n",
        "percentile_99 = data_train[num_cols].quantile(0.99)\n",
        "\n",
        "# триммирование: заменим значения выше 99-го персентиля на сами пороговые значения\n",
        "\n",
        "for col in num_cols:\n",
        "    data_train[col] = np.where(data_train[col] > percentile_99[col], percentile_99[col], data_train[col])\n",
        "\n",
        "data_train[num_cols].describe()\n",
        "# таким образом мы немного снизили значимость выбросов в выборке, не сильно потеряв в данных, т.к взяли 99-й квантиль"
      ]
    },
    {
      "cell_type": "code",
      "execution_count": null,
      "metadata": {
        "colab": {
          "base_uri": "https://localhost:8080/",
          "height": 688
        },
        "collapsed": true,
        "id": "CRLorAv8tQ2E",
        "outputId": "c32376a3-9f83-4575-9386-6c068bf8b386"
      },
      "outputs": [
        {
          "output_type": "execute_result",
          "data": {
            "text/plain": [
              "{'whiskers': [<matplotlib.lines.Line2D at 0x7e716b13b1f0>,\n",
              "  <matplotlib.lines.Line2D at 0x7e716b13b490>,\n",
              "  <matplotlib.lines.Line2D at 0x7e716b164490>,\n",
              "  <matplotlib.lines.Line2D at 0x7e716b164730>],\n",
              " 'caps': [<matplotlib.lines.Line2D at 0x7e716b13b730>,\n",
              "  <matplotlib.lines.Line2D at 0x7e716b13b9d0>,\n",
              "  <matplotlib.lines.Line2D at 0x7e716b1649d0>,\n",
              "  <matplotlib.lines.Line2D at 0x7e716b164c70>],\n",
              " 'boxes': [<matplotlib.lines.Line2D at 0x7e716b13af50>,\n",
              "  <matplotlib.lines.Line2D at 0x7e716b1641f0>],\n",
              " 'medians': [<matplotlib.lines.Line2D at 0x7e716b13bc70>,\n",
              "  <matplotlib.lines.Line2D at 0x7e716b164f10>],\n",
              " 'fliers': [<matplotlib.lines.Line2D at 0x7e716b13bf10>,\n",
              "  <matplotlib.lines.Line2D at 0x7e716b1651b0>],\n",
              " 'means': []}"
            ]
          },
          "metadata": {},
          "execution_count": 183
        },
        {
          "output_type": "display_data",
          "data": {
            "text/plain": [
              "<Figure size 640x480 with 1 Axes>"
            ],
            "image/png": "[encoded data removed]"
          },
          "metadata": {}
        }
      ],
      "source": [
        "plt.boxplot([data_train['ClientPeriod'], data_train['MonthlySpending']], labels=['ClientPeriod', 'MonthlySpending'])"
      ]
    },
    {
      "cell_type": "code",
      "execution_count": null,
      "metadata": {
        "colab": {
          "base_uri": "https://localhost:8080/",
          "height": 804
        },
        "id": "5brxdh2swDeW",
        "outputId": "56f8f94f-f288-42e4-d0ed-a7282cd91007"
      },
      "outputs": [
        {
          "output_type": "execute_result",
          "data": {
            "text/plain": [
              "{'whiskers': [<matplotlib.lines.Line2D at 0x7e716b1c33d0>,\n",
              "  <matplotlib.lines.Line2D at 0x7e716b1c3670>,\n",
              "  <matplotlib.lines.Line2D at 0x7e716b1f8670>,\n",
              "  <matplotlib.lines.Line2D at 0x7e716b1f8910>,\n",
              "  <matplotlib.lines.Line2D at 0x7e716b1f98d0>,\n",
              "  <matplotlib.lines.Line2D at 0x7e716b1f9b70>],\n",
              " 'caps': [<matplotlib.lines.Line2D at 0x7e716b1c3910>,\n",
              "  <matplotlib.lines.Line2D at 0x7e716b1c3bb0>,\n",
              "  <matplotlib.lines.Line2D at 0x7e716b1f8bb0>,\n",
              "  <matplotlib.lines.Line2D at 0x7e716b1f8e50>,\n",
              "  <matplotlib.lines.Line2D at 0x7e716b1f9e10>,\n",
              "  <matplotlib.lines.Line2D at 0x7e716b1fa0b0>],\n",
              " 'boxes': [<matplotlib.lines.Line2D at 0x7e716b1c3130>,\n",
              "  <matplotlib.lines.Line2D at 0x7e716b1f83d0>,\n",
              "  <matplotlib.lines.Line2D at 0x7e716b1f9630>],\n",
              " 'medians': [<matplotlib.lines.Line2D at 0x7e716b1c3e50>,\n",
              "  <matplotlib.lines.Line2D at 0x7e716b1f90f0>,\n",
              "  <matplotlib.lines.Line2D at 0x7e716b1fa350>],\n",
              " 'fliers': [<matplotlib.lines.Line2D at 0x7e716b1f8130>,\n",
              "  <matplotlib.lines.Line2D at 0x7e716b1f9390>,\n",
              "  <matplotlib.lines.Line2D at 0x7e716b1fa5f0>],\n",
              " 'means': []}"
            ]
          },
          "metadata": {},
          "execution_count": 184
        },
        {
          "output_type": "display_data",
          "data": {
            "text/plain": [
              "<Figure size 640x480 with 1 Axes>"
            ],
            "image/png": "[encoded data removed]"
          },
          "metadata": {}
        }
      ],
      "source": [
        "plt.boxplot(data_train[num_cols], labels=data_train[num_cols].columns)\n",
        "# макс выброс немного снизился - на 500 серебрянников"
      ]
    },
    {
      "cell_type": "code",
      "execution_count": null,
      "metadata": {
        "colab": {
          "base_uri": "https://localhost:8080/",
          "height": 814
        },
        "collapsed": true,
        "id": "1N7eQFAtD056",
        "outputId": "d509096e-03fd-469f-ee4c-141caee2a3d0"
      },
      "outputs": [
        {
          "output_type": "display_data",
          "data": {
            "text/plain": [
              "<Figure size 2000x2000 with 16 Axes>"
            ],
            "image/png": "[encoded data removed]"
          },
          "metadata": {}
        }
      ],
      "source": [
        "fig, axes = plt.subplots(ncols=4, nrows=4, figsize=(20, 20))\n",
        "axes = axes.flatten()\n",
        "\n",
        "# Проходим по категориальным признакам и создаем гистограммы\n",
        "for i, col in enumerate(cat_cols):\n",
        "    data_train[col].value_counts().plot(kind='bar', ax=axes[i], title=col)\n",
        "\n",
        "# Убираем лишние оси, если их меньше, чем 16\n",
        "for i in range(len(cat_cols), 16):\n",
        "    fig.delaxes(axes[i])\n",
        "\n",
        "plt.tight_layout()\n",
        "plt.show()"
      ]
    },
    {
      "cell_type": "markdown",
      "source": [
        "❗в этом разделе мы заменяем категориальные значения на числовые для большей части признаков - все очевидные по типу Yes/No на 1/0, неочевидные пока не трогаем."
      ],
      "metadata": {
        "id": "MhhUH3CAb9xN"
      }
    },
    {
      "cell_type": "code",
      "execution_count": null,
      "metadata": {
        "colab": {
          "base_uri": "https://localhost:8080/",
          "height": 207
        },
        "id": "wlMq1vPNyK20",
        "outputId": "d9ebeb13-407d-49f0-a63f-601b5f1ca846",
        "collapsed": true
      },
      "outputs": [
        {
          "output_type": "execute_result",
          "data": {
            "text/plain": [
              "HasInternetService\n",
              "Fiber optic    2341\n",
              "DSL            1800\n",
              "No             1141\n",
              "Name: count, dtype: int64"
            ],
            "text/html": [
              "<div>\n",
              "<style scoped>\n",
              "    .dataframe tbody tr th:only-of-type {\n",
              "        vertical-align: middle;\n",
              "    }\n",
              "\n",
              "    .dataframe tbody tr th {\n",
              "        vertical-align: top;\n",
              "    }\n",
              "\n",
              "    .dataframe thead th {\n",
              "        text-align: right;\n",
              "    }\n",
              "</style>\n",
              "<table border=\"1\" class=\"dataframe\">\n",
              "  <thead>\n",
              "    <tr style=\"text-align: right;\">\n",
              "      <th></th>\n",
              "      <th>count</th>\n",
              "    </tr>\n",
              "    <tr>\n",
              "      <th>HasInternetService</th>\n",
              "      <th></th>\n",
              "    </tr>\n",
              "  </thead>\n",
              "  <tbody>\n",
              "    <tr>\n",
              "      <th>Fiber optic</th>\n",
              "      <td>2341</td>\n",
              "    </tr>\n",
              "    <tr>\n",
              "      <th>DSL</th>\n",
              "      <td>1800</td>\n",
              "    </tr>\n",
              "    <tr>\n",
              "      <th>No</th>\n",
              "      <td>1141</td>\n",
              "    </tr>\n",
              "  </tbody>\n",
              "</table>\n",
              "</div><br><label><b>dtype:</b> int64</label>"
            ]
          },
          "metadata": {},
          "execution_count": 186
        }
      ],
      "source": [
        "data_train.HasInternetService.value_counts()"
      ]
    },
    {
      "cell_type": "code",
      "execution_count": null,
      "metadata": {
        "colab": {
          "base_uri": "https://localhost:8080/",
          "height": 207
        },
        "id": "Yc1eOaI2Or1_",
        "outputId": "bf8422be-ccb6-486c-db29-ab18bb7f4abc",
        "collapsed": true
      },
      "outputs": [
        {
          "output_type": "execute_result",
          "data": {
            "text/plain": [
              "HasOnlineSecurityService\n",
              "No                     2612\n",
              "Yes                    1529\n",
              "No internet service    1141\n",
              "Name: count, dtype: int64"
            ],
            "text/html": [
              "<div>\n",
              "<style scoped>\n",
              "    .dataframe tbody tr th:only-of-type {\n",
              "        vertical-align: middle;\n",
              "    }\n",
              "\n",
              "    .dataframe tbody tr th {\n",
              "        vertical-align: top;\n",
              "    }\n",
              "\n",
              "    .dataframe thead th {\n",
              "        text-align: right;\n",
              "    }\n",
              "</style>\n",
              "<table border=\"1\" class=\"dataframe\">\n",
              "  <thead>\n",
              "    <tr style=\"text-align: right;\">\n",
              "      <th></th>\n",
              "      <th>count</th>\n",
              "    </tr>\n",
              "    <tr>\n",
              "      <th>HasOnlineSecurityService</th>\n",
              "      <th></th>\n",
              "    </tr>\n",
              "  </thead>\n",
              "  <tbody>\n",
              "    <tr>\n",
              "      <th>No</th>\n",
              "      <td>2612</td>\n",
              "    </tr>\n",
              "    <tr>\n",
              "      <th>Yes</th>\n",
              "      <td>1529</td>\n",
              "    </tr>\n",
              "    <tr>\n",
              "      <th>No internet service</th>\n",
              "      <td>1141</td>\n",
              "    </tr>\n",
              "  </tbody>\n",
              "</table>\n",
              "</div><br><label><b>dtype:</b> int64</label>"
            ]
          },
          "metadata": {},
          "execution_count": 187
        }
      ],
      "source": [
        "data_train.HasOnlineSecurityService.value_counts()"
      ]
    },
    {
      "cell_type": "code",
      "execution_count": null,
      "metadata": {
        "colab": {
          "base_uri": "https://localhost:8080/"
        },
        "collapsed": true,
        "id": "oxzWI855N8ZG",
        "outputId": "53bd9e93-c386-463e-96ec-1545bde4b48f"
      },
      "outputs": [
        {
          "output_type": "stream",
          "name": "stderr",
          "text": [
            "<ipython-input-188-153eff6f4861>:2: FutureWarning: Downcasting behavior in `replace` is deprecated and will be removed in a future version. To retain the old behavior, explicitly call `result.infer_objects(copy=False)`. To opt-in to the future behavior, set `pd.set_option('future.no_silent_downcasting', True)`\n",
            "  data_train.HasPartner = data_train.HasPartner.replace({'Yes': 1, 'No': 0})\n",
            "<ipython-input-188-153eff6f4861>:3: FutureWarning: Downcasting behavior in `replace` is deprecated and will be removed in a future version. To retain the old behavior, explicitly call `result.infer_objects(copy=False)`. To opt-in to the future behavior, set `pd.set_option('future.no_silent_downcasting', True)`\n",
            "  data_train.HasChild = data_train.HasChild.replace({'Yes': 1, 'No': 0})\n",
            "<ipython-input-188-153eff6f4861>:4: FutureWarning: Downcasting behavior in `replace` is deprecated and will be removed in a future version. To retain the old behavior, explicitly call `result.infer_objects(copy=False)`. To opt-in to the future behavior, set `pd.set_option('future.no_silent_downcasting', True)`\n",
            "  data_train.HasPhoneService = data_train.HasPhoneService.replace({'Yes': 1, 'No': 0})\n",
            "<ipython-input-188-153eff6f4861>:9: FutureWarning: Downcasting behavior in `replace` is deprecated and will be removed in a future version. To retain the old behavior, explicitly call `result.infer_objects(copy=False)`. To opt-in to the future behavior, set `pd.set_option('future.no_silent_downcasting', True)`\n",
            "  data_test.HasPartner = data_test.HasPartner.replace({'Yes': 1, 'No': 0})\n",
            "<ipython-input-188-153eff6f4861>:10: FutureWarning: Downcasting behavior in `replace` is deprecated and will be removed in a future version. To retain the old behavior, explicitly call `result.infer_objects(copy=False)`. To opt-in to the future behavior, set `pd.set_option('future.no_silent_downcasting', True)`\n",
            "  data_test.HasChild = data_test.HasChild.replace({'Yes': 1, 'No': 0})\n",
            "<ipython-input-188-153eff6f4861>:11: FutureWarning: Downcasting behavior in `replace` is deprecated and will be removed in a future version. To retain the old behavior, explicitly call `result.infer_objects(copy=False)`. To opt-in to the future behavior, set `pd.set_option('future.no_silent_downcasting', True)`\n",
            "  data_test.HasPhoneService = data_test.HasPhoneService.replace({'Yes': 1, 'No': 0})\n"
          ]
        }
      ],
      "source": [
        "data_train.IsSeniorCitizen = data_train.IsSeniorCitizen.replace({'Yes': 1, 'No': 0})\n",
        "data_train.HasPartner = data_train.HasPartner.replace({'Yes': 1, 'No': 0})\n",
        "data_train.HasChild = data_train.HasChild.replace({'Yes': 1, 'No': 0})\n",
        "data_train.HasPhoneService = data_train.HasPhoneService.replace({'Yes': 1, 'No': 0})\n",
        "data_train.HasMultiplePhoneNumbers = data_train.HasMultiplePhoneNumbers.replace({'Yes': 1, 'No': 0})\n",
        "data_train.HasOnlineSecurityService = data_train.HasOnlineSecurityService.replace({'No internet service':'No'})\n",
        "\n",
        "data_test.IsSeniorCitizen = data_test.IsSeniorCitizen.replace({'Yes': 1, 'No': 0})\n",
        "data_test.HasPartner = data_test.HasPartner.replace({'Yes': 1, 'No': 0})\n",
        "data_test.HasChild = data_test.HasChild.replace({'Yes': 1, 'No': 0})\n",
        "data_test.HasPhoneService = data_test.HasPhoneService.replace({'Yes': 1, 'No': 0})\n",
        "data_test.HasMultiplePhoneNumbers = data_test.HasMultiplePhoneNumbers.replace({'Yes': 1, 'No': 0})\n",
        "data_test.HasOnlineSecurityService = data_test.HasOnlineSecurityService.replace({'No internet service':'No'})"
      ]
    },
    {
      "cell_type": "code",
      "execution_count": null,
      "metadata": {
        "colab": {
          "base_uri": "https://localhost:8080/"
        },
        "collapsed": true,
        "id": "qb2kXEc1PgGB",
        "outputId": "4a473529-4df5-45aa-ae17-1b5be698a7c2"
      },
      "outputs": [
        {
          "output_type": "stream",
          "name": "stderr",
          "text": [
            "<ipython-input-189-a5ec106288fb>:1: FutureWarning: Downcasting behavior in `replace` is deprecated and will be removed in a future version. To retain the old behavior, explicitly call `result.infer_objects(copy=False)`. To opt-in to the future behavior, set `pd.set_option('future.no_silent_downcasting', True)`\n",
            "  data_train.HasOnlineSecurityService = data_train.HasOnlineSecurityService.replace({'Yes': 1, 'No':0})\n",
            "<ipython-input-189-a5ec106288fb>:2: FutureWarning: Downcasting behavior in `replace` is deprecated and will be removed in a future version. To retain the old behavior, explicitly call `result.infer_objects(copy=False)`. To opt-in to the future behavior, set `pd.set_option('future.no_silent_downcasting', True)`\n",
            "  data_test.HasOnlineSecurityService = data_test.HasOnlineSecurityService.replace({'Yes': 1, 'No':0})\n"
          ]
        }
      ],
      "source": [
        "data_train.HasOnlineSecurityService = data_train.HasOnlineSecurityService.replace({'Yes': 1, 'No':0})\n",
        "data_test.HasOnlineSecurityService = data_test.HasOnlineSecurityService.replace({'Yes': 1, 'No':0})"
      ]
    },
    {
      "cell_type": "code",
      "execution_count": null,
      "metadata": {
        "collapsed": true,
        "id": "-aMKnm8xP9oV",
        "colab": {
          "base_uri": "https://localhost:8080/"
        },
        "outputId": "971c4819-c1b4-4621-9c79-3f9795fcc86b"
      },
      "outputs": [
        {
          "output_type": "stream",
          "name": "stderr",
          "text": [
            "<ipython-input-190-65431ffa2809>:2: FutureWarning: Downcasting behavior in `replace` is deprecated and will be removed in a future version. To retain the old behavior, explicitly call `result.infer_objects(copy=False)`. To opt-in to the future behavior, set `pd.set_option('future.no_silent_downcasting', True)`\n",
            "  data_train.HasOnlineBackup = data_train.HasOnlineBackup.replace({'Yes': 1, 'No':0})\n",
            "<ipython-input-190-65431ffa2809>:5: FutureWarning: Downcasting behavior in `replace` is deprecated and will be removed in a future version. To retain the old behavior, explicitly call `result.infer_objects(copy=False)`. To opt-in to the future behavior, set `pd.set_option('future.no_silent_downcasting', True)`\n",
            "  data_test.HasOnlineBackup = data_test.HasOnlineBackup.replace({'Yes': 1, 'No':0})\n"
          ]
        }
      ],
      "source": [
        "data_train.HasOnlineBackup = data_train.HasOnlineBackup.replace({'No internet service':'No'})\n",
        "data_train.HasOnlineBackup = data_train.HasOnlineBackup.replace({'Yes': 1, 'No':0})\n",
        "\n",
        "data_test.HasOnlineBackup = data_test.HasOnlineBackup.replace({'No internet service':'No'})\n",
        "data_test.HasOnlineBackup = data_test.HasOnlineBackup.replace({'Yes': 1, 'No':0})"
      ]
    },
    {
      "cell_type": "code",
      "execution_count": null,
      "metadata": {
        "colab": {
          "base_uri": "https://localhost:8080/",
          "height": 176
        },
        "id": "gfJDHtGfzDsK",
        "outputId": "d91e296b-5e1c-4ec5-c72b-cb8df9380fbf"
      },
      "outputs": [
        {
          "output_type": "execute_result",
          "data": {
            "text/plain": [
              "HasOnlineBackup\n",
              "0    3473\n",
              "1    1809\n",
              "Name: count, dtype: int64"
            ],
            "text/html": [
              "<div>\n",
              "<style scoped>\n",
              "    .dataframe tbody tr th:only-of-type {\n",
              "        vertical-align: middle;\n",
              "    }\n",
              "\n",
              "    .dataframe tbody tr th {\n",
              "        vertical-align: top;\n",
              "    }\n",
              "\n",
              "    .dataframe thead th {\n",
              "        text-align: right;\n",
              "    }\n",
              "</style>\n",
              "<table border=\"1\" class=\"dataframe\">\n",
              "  <thead>\n",
              "    <tr style=\"text-align: right;\">\n",
              "      <th></th>\n",
              "      <th>count</th>\n",
              "    </tr>\n",
              "    <tr>\n",
              "      <th>HasOnlineBackup</th>\n",
              "      <th></th>\n",
              "    </tr>\n",
              "  </thead>\n",
              "  <tbody>\n",
              "    <tr>\n",
              "      <th>0</th>\n",
              "      <td>3473</td>\n",
              "    </tr>\n",
              "    <tr>\n",
              "      <th>1</th>\n",
              "      <td>1809</td>\n",
              "    </tr>\n",
              "  </tbody>\n",
              "</table>\n",
              "</div><br><label><b>dtype:</b> int64</label>"
            ]
          },
          "metadata": {},
          "execution_count": 191
        }
      ],
      "source": [
        "data_train.HasOnlineBackup.value_counts()"
      ]
    },
    {
      "cell_type": "code",
      "execution_count": null,
      "metadata": {
        "colab": {
          "base_uri": "https://localhost:8080/",
          "height": 207
        },
        "id": "7x55Tgr5QGio",
        "outputId": "49d4cf40-8ada-47da-b260-97fd423e3474"
      },
      "outputs": [
        {
          "output_type": "execute_result",
          "data": {
            "text/plain": [
              "HasDeviceProtection\n",
              "No                     2317\n",
              "Yes                    1824\n",
              "No internet service    1141\n",
              "Name: count, dtype: int64"
            ],
            "text/html": [
              "<div>\n",
              "<style scoped>\n",
              "    .dataframe tbody tr th:only-of-type {\n",
              "        vertical-align: middle;\n",
              "    }\n",
              "\n",
              "    .dataframe tbody tr th {\n",
              "        vertical-align: top;\n",
              "    }\n",
              "\n",
              "    .dataframe thead th {\n",
              "        text-align: right;\n",
              "    }\n",
              "</style>\n",
              "<table border=\"1\" class=\"dataframe\">\n",
              "  <thead>\n",
              "    <tr style=\"text-align: right;\">\n",
              "      <th></th>\n",
              "      <th>count</th>\n",
              "    </tr>\n",
              "    <tr>\n",
              "      <th>HasDeviceProtection</th>\n",
              "      <th></th>\n",
              "    </tr>\n",
              "  </thead>\n",
              "  <tbody>\n",
              "    <tr>\n",
              "      <th>No</th>\n",
              "      <td>2317</td>\n",
              "    </tr>\n",
              "    <tr>\n",
              "      <th>Yes</th>\n",
              "      <td>1824</td>\n",
              "    </tr>\n",
              "    <tr>\n",
              "      <th>No internet service</th>\n",
              "      <td>1141</td>\n",
              "    </tr>\n",
              "  </tbody>\n",
              "</table>\n",
              "</div><br><label><b>dtype:</b> int64</label>"
            ]
          },
          "metadata": {},
          "execution_count": 192
        }
      ],
      "source": [
        "data_train.HasDeviceProtection.value_counts()"
      ]
    },
    {
      "cell_type": "code",
      "execution_count": null,
      "metadata": {
        "colab": {
          "base_uri": "https://localhost:8080/"
        },
        "collapsed": true,
        "id": "uD2jUOF0QPA2",
        "outputId": "3544ddf5-8b5c-4ac5-e0da-a4f513907faf"
      },
      "outputs": [
        {
          "output_type": "stream",
          "name": "stderr",
          "text": [
            "<ipython-input-193-ab1957d580d1>:2: FutureWarning: Downcasting behavior in `replace` is deprecated and will be removed in a future version. To retain the old behavior, explicitly call `result.infer_objects(copy=False)`. To opt-in to the future behavior, set `pd.set_option('future.no_silent_downcasting', True)`\n",
            "  data_train.HasDeviceProtection = data_train.HasDeviceProtection.replace({'Yes': 1, 'No':0})\n",
            "<ipython-input-193-ab1957d580d1>:5: FutureWarning: Downcasting behavior in `replace` is deprecated and will be removed in a future version. To retain the old behavior, explicitly call `result.infer_objects(copy=False)`. To opt-in to the future behavior, set `pd.set_option('future.no_silent_downcasting', True)`\n",
            "  data_test.HasDeviceProtection = data_test.HasDeviceProtection.replace({'Yes': 1, 'No':0})\n"
          ]
        }
      ],
      "source": [
        "data_train.HasDeviceProtection = data_train.HasDeviceProtection.replace({'No internet service':'No'})\n",
        "data_train.HasDeviceProtection = data_train.HasDeviceProtection.replace({'Yes': 1, 'No':0})\n",
        "\n",
        "data_test.HasDeviceProtection = data_test.HasDeviceProtection.replace({'No internet service':'No'})\n",
        "data_test.HasDeviceProtection = data_test.HasDeviceProtection.replace({'Yes': 1, 'No':0})"
      ]
    },
    {
      "cell_type": "code",
      "execution_count": null,
      "metadata": {
        "colab": {
          "base_uri": "https://localhost:8080/",
          "height": 207
        },
        "id": "reGeQTHjQlwG",
        "outputId": "fa934f12-78aa-45e5-8855-5b8706f98ba6"
      },
      "outputs": [
        {
          "output_type": "execute_result",
          "data": {
            "text/plain": [
              "HasTechSupportAccess\n",
              "No                     2604\n",
              "Yes                    1537\n",
              "No internet service    1141\n",
              "Name: count, dtype: int64"
            ],
            "text/html": [
              "<div>\n",
              "<style scoped>\n",
              "    .dataframe tbody tr th:only-of-type {\n",
              "        vertical-align: middle;\n",
              "    }\n",
              "\n",
              "    .dataframe tbody tr th {\n",
              "        vertical-align: top;\n",
              "    }\n",
              "\n",
              "    .dataframe thead th {\n",
              "        text-align: right;\n",
              "    }\n",
              "</style>\n",
              "<table border=\"1\" class=\"dataframe\">\n",
              "  <thead>\n",
              "    <tr style=\"text-align: right;\">\n",
              "      <th></th>\n",
              "      <th>count</th>\n",
              "    </tr>\n",
              "    <tr>\n",
              "      <th>HasTechSupportAccess</th>\n",
              "      <th></th>\n",
              "    </tr>\n",
              "  </thead>\n",
              "  <tbody>\n",
              "    <tr>\n",
              "      <th>No</th>\n",
              "      <td>2604</td>\n",
              "    </tr>\n",
              "    <tr>\n",
              "      <th>Yes</th>\n",
              "      <td>1537</td>\n",
              "    </tr>\n",
              "    <tr>\n",
              "      <th>No internet service</th>\n",
              "      <td>1141</td>\n",
              "    </tr>\n",
              "  </tbody>\n",
              "</table>\n",
              "</div><br><label><b>dtype:</b> int64</label>"
            ]
          },
          "metadata": {},
          "execution_count": 194
        }
      ],
      "source": [
        "data_train.HasTechSupportAccess.value_counts()"
      ]
    },
    {
      "cell_type": "code",
      "execution_count": null,
      "metadata": {
        "colab": {
          "base_uri": "https://localhost:8080/"
        },
        "collapsed": true,
        "id": "reldp-EzQohI",
        "outputId": "54ddcab4-301c-4c0b-8be3-63653e29f066"
      },
      "outputs": [
        {
          "output_type": "stream",
          "name": "stderr",
          "text": [
            "<ipython-input-195-1bc80cbcf254>:2: FutureWarning: Downcasting behavior in `replace` is deprecated and will be removed in a future version. To retain the old behavior, explicitly call `result.infer_objects(copy=False)`. To opt-in to the future behavior, set `pd.set_option('future.no_silent_downcasting', True)`\n",
            "  data_train.HasTechSupportAccess = data_train.HasTechSupportAccess.replace({'Yes': 1, 'No':0})\n",
            "<ipython-input-195-1bc80cbcf254>:5: FutureWarning: Downcasting behavior in `replace` is deprecated and will be removed in a future version. To retain the old behavior, explicitly call `result.infer_objects(copy=False)`. To opt-in to the future behavior, set `pd.set_option('future.no_silent_downcasting', True)`\n",
            "  data_test.HasTechSupportAccess = data_test.HasTechSupportAccess.replace({'Yes': 1, 'No':0})\n"
          ]
        }
      ],
      "source": [
        "data_train.HasTechSupportAccess = data_train.HasTechSupportAccess.replace({'No internet service':'No'})\n",
        "data_train.HasTechSupportAccess = data_train.HasTechSupportAccess.replace({'Yes': 1, 'No':0})\n",
        "\n",
        "data_test.HasTechSupportAccess = data_test.HasTechSupportAccess.replace({'No internet service':'No'})\n",
        "data_test.HasTechSupportAccess = data_test.HasTechSupportAccess.replace({'Yes': 1, 'No':0})"
      ]
    },
    {
      "cell_type": "code",
      "execution_count": null,
      "metadata": {
        "colab": {
          "base_uri": "https://localhost:8080/",
          "height": 207
        },
        "id": "un-oSt2JRPHB",
        "outputId": "2cc72c2b-4f61-48c1-fd05-8f64e19566f2"
      },
      "outputs": [
        {
          "output_type": "execute_result",
          "data": {
            "text/plain": [
              "HasOnlineTV\n",
              "No                     2099\n",
              "Yes                    2042\n",
              "No internet service    1141\n",
              "Name: count, dtype: int64"
            ],
            "text/html": [
              "<div>\n",
              "<style scoped>\n",
              "    .dataframe tbody tr th:only-of-type {\n",
              "        vertical-align: middle;\n",
              "    }\n",
              "\n",
              "    .dataframe tbody tr th {\n",
              "        vertical-align: top;\n",
              "    }\n",
              "\n",
              "    .dataframe thead th {\n",
              "        text-align: right;\n",
              "    }\n",
              "</style>\n",
              "<table border=\"1\" class=\"dataframe\">\n",
              "  <thead>\n",
              "    <tr style=\"text-align: right;\">\n",
              "      <th></th>\n",
              "      <th>count</th>\n",
              "    </tr>\n",
              "    <tr>\n",
              "      <th>HasOnlineTV</th>\n",
              "      <th></th>\n",
              "    </tr>\n",
              "  </thead>\n",
              "  <tbody>\n",
              "    <tr>\n",
              "      <th>No</th>\n",
              "      <td>2099</td>\n",
              "    </tr>\n",
              "    <tr>\n",
              "      <th>Yes</th>\n",
              "      <td>2042</td>\n",
              "    </tr>\n",
              "    <tr>\n",
              "      <th>No internet service</th>\n",
              "      <td>1141</td>\n",
              "    </tr>\n",
              "  </tbody>\n",
              "</table>\n",
              "</div><br><label><b>dtype:</b> int64</label>"
            ]
          },
          "metadata": {},
          "execution_count": 196
        }
      ],
      "source": [
        "data_train.HasOnlineTV.value_counts()"
      ]
    },
    {
      "cell_type": "code",
      "execution_count": null,
      "metadata": {
        "colab": {
          "base_uri": "https://localhost:8080/"
        },
        "collapsed": true,
        "id": "Moi-X9z_RRGO",
        "outputId": "c6fef654-eb5b-4e3e-e9da-f1d4218a9188"
      },
      "outputs": [
        {
          "output_type": "stream",
          "name": "stderr",
          "text": [
            "<ipython-input-197-ff1040a1b321>:2: FutureWarning: Downcasting behavior in `replace` is deprecated and will be removed in a future version. To retain the old behavior, explicitly call `result.infer_objects(copy=False)`. To opt-in to the future behavior, set `pd.set_option('future.no_silent_downcasting', True)`\n",
            "  data_train.HasOnlineTV = data_train.HasOnlineTV.replace({'Yes': 1, 'No':0})\n",
            "<ipython-input-197-ff1040a1b321>:5: FutureWarning: Downcasting behavior in `replace` is deprecated and will be removed in a future version. To retain the old behavior, explicitly call `result.infer_objects(copy=False)`. To opt-in to the future behavior, set `pd.set_option('future.no_silent_downcasting', True)`\n",
            "  data_test.HasOnlineTV = data_test.HasOnlineTV.replace({'Yes': 1, 'No':0})\n"
          ]
        }
      ],
      "source": [
        "data_train.HasOnlineTV = data_train.HasOnlineTV.replace({'No internet service':'No'})\n",
        "data_train.HasOnlineTV = data_train.HasOnlineTV.replace({'Yes': 1, 'No':0})\n",
        "\n",
        "data_test.HasOnlineTV = data_test.HasOnlineTV.replace({'No internet service':'No'})\n",
        "data_test.HasOnlineTV = data_test.HasOnlineTV.replace({'Yes': 1, 'No':0})"
      ]
    },
    {
      "cell_type": "code",
      "execution_count": null,
      "metadata": {
        "colab": {
          "base_uri": "https://localhost:8080/"
        },
        "collapsed": true,
        "id": "STFdCpHpRZYM",
        "outputId": "bd85aa75-eeed-487c-da18-1c9652501e89"
      },
      "outputs": [
        {
          "output_type": "stream",
          "name": "stderr",
          "text": [
            "<ipython-input-198-3c1e29eba209>:2: FutureWarning: Downcasting behavior in `replace` is deprecated and will be removed in a future version. To retain the old behavior, explicitly call `result.infer_objects(copy=False)`. To opt-in to the future behavior, set `pd.set_option('future.no_silent_downcasting', True)`\n",
            "  data_train.HasMovieSubscription = data_train.HasMovieSubscription.replace({'Yes': 1, 'No':0})\n",
            "<ipython-input-198-3c1e29eba209>:5: FutureWarning: Downcasting behavior in `replace` is deprecated and will be removed in a future version. To retain the old behavior, explicitly call `result.infer_objects(copy=False)`. To opt-in to the future behavior, set `pd.set_option('future.no_silent_downcasting', True)`\n",
            "  data_test.HasMovieSubscription = data_test.HasMovieSubscription.replace({'Yes': 1, 'No':0})\n"
          ]
        }
      ],
      "source": [
        "data_train.HasMovieSubscription = data_train.HasMovieSubscription.replace({'No internet service':'No'})\n",
        "data_train.HasMovieSubscription = data_train.HasMovieSubscription.replace({'Yes': 1, 'No':0})\n",
        "\n",
        "data_test.HasMovieSubscription = data_test.HasMovieSubscription.replace({'No internet service':'No'})\n",
        "data_test.HasMovieSubscription = data_test.HasMovieSubscription.replace({'Yes': 1, 'No':0})"
      ]
    },
    {
      "cell_type": "code",
      "execution_count": null,
      "metadata": {
        "colab": {
          "base_uri": "https://localhost:8080/"
        },
        "collapsed": true,
        "id": "f4UMoRVxcDvF",
        "outputId": "fbbb978d-be4e-40c1-f74b-7ae9609e2ebc"
      },
      "outputs": [
        {
          "output_type": "stream",
          "name": "stderr",
          "text": [
            "<ipython-input-199-d71038c124bb>:1: FutureWarning: Downcasting behavior in `replace` is deprecated and will be removed in a future version. To retain the old behavior, explicitly call `result.infer_objects(copy=False)`. To opt-in to the future behavior, set `pd.set_option('future.no_silent_downcasting', True)`\n",
            "  data_train.IsBillingPaperless = data_train.IsBillingPaperless.replace({'Yes': 1, 'No':0})\n",
            "<ipython-input-199-d71038c124bb>:2: FutureWarning: Downcasting behavior in `replace` is deprecated and will be removed in a future version. To retain the old behavior, explicitly call `result.infer_objects(copy=False)`. To opt-in to the future behavior, set `pd.set_option('future.no_silent_downcasting', True)`\n",
            "  data_test.IsBillingPaperless = data_test.IsBillingPaperless.replace({'Yes': 1, 'No':0})\n"
          ]
        }
      ],
      "source": [
        "data_train.IsBillingPaperless = data_train.IsBillingPaperless.replace({'Yes': 1, 'No':0})\n",
        "data_test.IsBillingPaperless = data_test.IsBillingPaperless.replace({'Yes': 1, 'No':0})"
      ]
    },
    {
      "cell_type": "code",
      "execution_count": null,
      "metadata": {
        "colab": {
          "base_uri": "https://localhost:8080/",
          "height": 207
        },
        "id": "QtsjFQAgRi3v",
        "outputId": "e7aa268a-8a3d-4bb5-d1d3-49886231123e"
      },
      "outputs": [
        {
          "output_type": "execute_result",
          "data": {
            "text/plain": [
              "HasContractPhone\n",
              "Month-to-month    2920\n",
              "Two year          1280\n",
              "One year          1082\n",
              "Name: count, dtype: int64"
            ],
            "text/html": [
              "<div>\n",
              "<style scoped>\n",
              "    .dataframe tbody tr th:only-of-type {\n",
              "        vertical-align: middle;\n",
              "    }\n",
              "\n",
              "    .dataframe tbody tr th {\n",
              "        vertical-align: top;\n",
              "    }\n",
              "\n",
              "    .dataframe thead th {\n",
              "        text-align: right;\n",
              "    }\n",
              "</style>\n",
              "<table border=\"1\" class=\"dataframe\">\n",
              "  <thead>\n",
              "    <tr style=\"text-align: right;\">\n",
              "      <th></th>\n",
              "      <th>count</th>\n",
              "    </tr>\n",
              "    <tr>\n",
              "      <th>HasContractPhone</th>\n",
              "      <th></th>\n",
              "    </tr>\n",
              "  </thead>\n",
              "  <tbody>\n",
              "    <tr>\n",
              "      <th>Month-to-month</th>\n",
              "      <td>2920</td>\n",
              "    </tr>\n",
              "    <tr>\n",
              "      <th>Two year</th>\n",
              "      <td>1280</td>\n",
              "    </tr>\n",
              "    <tr>\n",
              "      <th>One year</th>\n",
              "      <td>1082</td>\n",
              "    </tr>\n",
              "  </tbody>\n",
              "</table>\n",
              "</div><br><label><b>dtype:</b> int64</label>"
            ]
          },
          "metadata": {},
          "execution_count": 200
        }
      ],
      "source": [
        "data_train.HasContractPhone.value_counts()"
      ]
    },
    {
      "cell_type": "code",
      "execution_count": null,
      "metadata": {
        "colab": {
          "base_uri": "https://localhost:8080/",
          "height": 238
        },
        "id": "B_FTtkrDcN_p",
        "outputId": "4156f750-2915-4fad-d715-85fbf2773262"
      },
      "outputs": [
        {
          "output_type": "execute_result",
          "data": {
            "text/plain": [
              "PaymentMethod\n",
              "Electronic check             1786\n",
              "Mailed check                 1194\n",
              "Bank transfer (automatic)    1159\n",
              "Credit card (automatic)      1143\n",
              "Name: count, dtype: int64"
            ],
            "text/html": [
              "<div>\n",
              "<style scoped>\n",
              "    .dataframe tbody tr th:only-of-type {\n",
              "        vertical-align: middle;\n",
              "    }\n",
              "\n",
              "    .dataframe tbody tr th {\n",
              "        vertical-align: top;\n",
              "    }\n",
              "\n",
              "    .dataframe thead th {\n",
              "        text-align: right;\n",
              "    }\n",
              "</style>\n",
              "<table border=\"1\" class=\"dataframe\">\n",
              "  <thead>\n",
              "    <tr style=\"text-align: right;\">\n",
              "      <th></th>\n",
              "      <th>count</th>\n",
              "    </tr>\n",
              "    <tr>\n",
              "      <th>PaymentMethod</th>\n",
              "      <th></th>\n",
              "    </tr>\n",
              "  </thead>\n",
              "  <tbody>\n",
              "    <tr>\n",
              "      <th>Electronic check</th>\n",
              "      <td>1786</td>\n",
              "    </tr>\n",
              "    <tr>\n",
              "      <th>Mailed check</th>\n",
              "      <td>1194</td>\n",
              "    </tr>\n",
              "    <tr>\n",
              "      <th>Bank transfer (automatic)</th>\n",
              "      <td>1159</td>\n",
              "    </tr>\n",
              "    <tr>\n",
              "      <th>Credit card (automatic)</th>\n",
              "      <td>1143</td>\n",
              "    </tr>\n",
              "  </tbody>\n",
              "</table>\n",
              "</div><br><label><b>dtype:</b> int64</label>"
            ]
          },
          "metadata": {},
          "execution_count": 201
        }
      ],
      "source": [
        "data_train.PaymentMethod.value_counts()"
      ]
    },
    {
      "cell_type": "code",
      "execution_count": null,
      "metadata": {
        "colab": {
          "base_uri": "https://localhost:8080/",
          "height": 207
        },
        "id": "AT8JccL41kKd",
        "outputId": "8e235cd7-d970-4f1c-f16c-bf4c8fcef85e"
      },
      "outputs": [
        {
          "output_type": "execute_result",
          "data": {
            "text/plain": [
              "HasMultiplePhoneNumbers\n",
              "0                   2511\n",
              "1                   2250\n",
              "No phone service     521\n",
              "Name: count, dtype: int64"
            ],
            "text/html": [
              "<div>\n",
              "<style scoped>\n",
              "    .dataframe tbody tr th:only-of-type {\n",
              "        vertical-align: middle;\n",
              "    }\n",
              "\n",
              "    .dataframe tbody tr th {\n",
              "        vertical-align: top;\n",
              "    }\n",
              "\n",
              "    .dataframe thead th {\n",
              "        text-align: right;\n",
              "    }\n",
              "</style>\n",
              "<table border=\"1\" class=\"dataframe\">\n",
              "  <thead>\n",
              "    <tr style=\"text-align: right;\">\n",
              "      <th></th>\n",
              "      <th>count</th>\n",
              "    </tr>\n",
              "    <tr>\n",
              "      <th>HasMultiplePhoneNumbers</th>\n",
              "      <th></th>\n",
              "    </tr>\n",
              "  </thead>\n",
              "  <tbody>\n",
              "    <tr>\n",
              "      <th>0</th>\n",
              "      <td>2511</td>\n",
              "    </tr>\n",
              "    <tr>\n",
              "      <th>1</th>\n",
              "      <td>2250</td>\n",
              "    </tr>\n",
              "    <tr>\n",
              "      <th>No phone service</th>\n",
              "      <td>521</td>\n",
              "    </tr>\n",
              "  </tbody>\n",
              "</table>\n",
              "</div><br><label><b>dtype:</b> int64</label>"
            ]
          },
          "metadata": {},
          "execution_count": 202
        }
      ],
      "source": [
        "data_train.HasMultiplePhoneNumbers.value_counts()"
      ]
    },
    {
      "cell_type": "code",
      "execution_count": null,
      "metadata": {
        "colab": {
          "base_uri": "https://localhost:8080/"
        },
        "collapsed": true,
        "id": "RiWeLInRdNr_",
        "outputId": "cf1eb8e8-e133-434f-df85-efbe96fd97af"
      },
      "outputs": [
        {
          "output_type": "stream",
          "name": "stderr",
          "text": [
            "<ipython-input-203-061c4af6649f>:1: FutureWarning: Downcasting behavior in `replace` is deprecated and will be removed in a future version. To retain the old behavior, explicitly call `result.infer_objects(copy=False)`. To opt-in to the future behavior, set `pd.set_option('future.no_silent_downcasting', True)`\n",
            "  data_train.HasMultiplePhoneNumbers = data_train.HasMultiplePhoneNumbers.replace({'No phone service': 0})\n",
            "<ipython-input-203-061c4af6649f>:2: FutureWarning: Downcasting behavior in `replace` is deprecated and will be removed in a future version. To retain the old behavior, explicitly call `result.infer_objects(copy=False)`. To opt-in to the future behavior, set `pd.set_option('future.no_silent_downcasting', True)`\n",
            "  data_test.HasMultiplePhoneNumbers = data_test.HasMultiplePhoneNumbers.replace({'No phone service': 0})\n"
          ]
        }
      ],
      "source": [
        "data_train.HasMultiplePhoneNumbers = data_train.HasMultiplePhoneNumbers.replace({'No phone service': 0})\n",
        "data_test.HasMultiplePhoneNumbers = data_test.HasMultiplePhoneNumbers.replace({'No phone service': 0})"
      ]
    },
    {
      "cell_type": "code",
      "execution_count": null,
      "metadata": {
        "colab": {
          "base_uri": "https://localhost:8080/",
          "height": 207
        },
        "id": "6EqlJcntdrE4",
        "outputId": "718fd18d-1695-4688-9da0-bb400e6d0dec"
      },
      "outputs": [
        {
          "output_type": "execute_result",
          "data": {
            "text/plain": [
              "HasContractPhone\n",
              "Month-to-month    2920\n",
              "Two year          1280\n",
              "One year          1082\n",
              "Name: count, dtype: int64"
            ],
            "text/html": [
              "<div>\n",
              "<style scoped>\n",
              "    .dataframe tbody tr th:only-of-type {\n",
              "        vertical-align: middle;\n",
              "    }\n",
              "\n",
              "    .dataframe tbody tr th {\n",
              "        vertical-align: top;\n",
              "    }\n",
              "\n",
              "    .dataframe thead th {\n",
              "        text-align: right;\n",
              "    }\n",
              "</style>\n",
              "<table border=\"1\" class=\"dataframe\">\n",
              "  <thead>\n",
              "    <tr style=\"text-align: right;\">\n",
              "      <th></th>\n",
              "      <th>count</th>\n",
              "    </tr>\n",
              "    <tr>\n",
              "      <th>HasContractPhone</th>\n",
              "      <th></th>\n",
              "    </tr>\n",
              "  </thead>\n",
              "  <tbody>\n",
              "    <tr>\n",
              "      <th>Month-to-month</th>\n",
              "      <td>2920</td>\n",
              "    </tr>\n",
              "    <tr>\n",
              "      <th>Two year</th>\n",
              "      <td>1280</td>\n",
              "    </tr>\n",
              "    <tr>\n",
              "      <th>One year</th>\n",
              "      <td>1082</td>\n",
              "    </tr>\n",
              "  </tbody>\n",
              "</table>\n",
              "</div><br><label><b>dtype:</b> int64</label>"
            ]
          },
          "metadata": {},
          "execution_count": 204
        }
      ],
      "source": [
        "data_train.HasContractPhone.value_counts()"
      ]
    },
    {
      "cell_type": "code",
      "execution_count": null,
      "metadata": {
        "colab": {
          "base_uri": "https://localhost:8080/",
          "height": 589
        },
        "id": "zEC_KckV1v75",
        "outputId": "43dc18ce-bfd3-4261-b137-60735ad883f6"
      },
      "outputs": [
        {
          "output_type": "execute_result",
          "data": {
            "text/plain": [
              "ClientPeriod  MonthlySpending  TotalSpent  Sex     IsSeniorCitizen  HasPartner  HasChild  HasPhoneService  HasMultiplePhoneNumbers  HasInternetService  HasOnlineSecurityService  HasOnlineBackup  HasDeviceProtection  HasTechSupportAccess  HasOnlineTV  HasMovieSubscription  HasContractPhone  IsBillingPaperless  PaymentMethod              Churn\n",
              "72.0          115.05           8017.7875   Female  0                1           1         1                1                        Fiber optic         1                         1                1                    1                     1            1                     Two year          1                   Bank transfer (automatic)  0        5\n",
              "1.0           20.20            20.2000     Male    0                0           0         1                0                        No                  0                         0                0                    0                     0            0                     Month-to-month    0                   Mailed check               0        2\n",
              "72.0          115.05           8017.7875   Female  0                1           1         1                1                        Fiber optic         1                         1                1                    1                     1            1                     Two year          1                   Credit card (automatic)    0        2\n",
              "1.0           45.30            45.3000     Male    0                0           0         1                0                        DSL                 0                         0                0                    0                     0            0                     Month-to-month    0                   Electronic check           1        2\n",
              "              20.05            20.0500     Male    0                0           0         1                0                        No                  0                         0                0                    0                     0            0                     Month-to-month    0                   Mailed check               0        2\n",
              "                                                                                                                                                                                                                                                                                                                                                          ..\n",
              "15.0          19.65            332.6500    Male    0                1           1         1                0                        No                  0                         0                0                    0                     0            0                     One year          0                   Mailed check               0        1\n",
              "              19.60            299.4000    Female  0                0           0         1                0                        No                  0                         0                0                    0                     0            0                     Month-to-month    0                   Mailed check               0        1\n",
              "              19.50            239.7500    Male    0                1           1         1                0                        No                  0                         0                0                    0                     0            0                     One year          1                   Mailed check               0        1\n",
              "              19.45            340.8500    Male    0                1           0         1                0                        No                  0                         0                0                    0                     0            0                     Month-to-month    1                   Credit card (automatic)    0        1\n",
              "72.0          115.05           8017.7875   Male    1                1           1         1                1                        Fiber optic         1                         1                1                    1                     1            1                     Two year          1                   Credit card (automatic)    0        1\n",
              "Name: count, Length: 5262, dtype: int64"
            ],
            "text/html": [
              "<div>\n",
              "<style scoped>\n",
              "    .dataframe tbody tr th:only-of-type {\n",
              "        vertical-align: middle;\n",
              "    }\n",
              "\n",
              "    .dataframe tbody tr th {\n",
              "        vertical-align: top;\n",
              "    }\n",
              "\n",
              "    .dataframe thead th {\n",
              "        text-align: right;\n",
              "    }\n",
              "</style>\n",
              "<table border=\"1\" class=\"dataframe\">\n",
              "  <thead>\n",
              "    <tr style=\"text-align: right;\">\n",
              "      <th></th>\n",
              "      <th></th>\n",
              "      <th></th>\n",
              "      <th></th>\n",
              "      <th></th>\n",
              "      <th></th>\n",
              "      <th></th>\n",
              "      <th></th>\n",
              "      <th></th>\n",
              "      <th></th>\n",
              "      <th></th>\n",
              "      <th></th>\n",
              "      <th></th>\n",
              "      <th></th>\n",
              "      <th></th>\n",
              "      <th></th>\n",
              "      <th></th>\n",
              "      <th></th>\n",
              "      <th></th>\n",
              "      <th></th>\n",
              "      <th>count</th>\n",
              "    </tr>\n",
              "    <tr>\n",
              "      <th>ClientPeriod</th>\n",
              "      <th>MonthlySpending</th>\n",
              "      <th>TotalSpent</th>\n",
              "      <th>Sex</th>\n",
              "      <th>IsSeniorCitizen</th>\n",
              "      <th>HasPartner</th>\n",
              "      <th>HasChild</th>\n",
              "      <th>HasPhoneService</th>\n",
              "      <th>HasMultiplePhoneNumbers</th>\n",
              "      <th>HasInternetService</th>\n",
              "      <th>HasOnlineSecurityService</th>\n",
              "      <th>HasOnlineBackup</th>\n",
              "      <th>HasDeviceProtection</th>\n",
              "      <th>HasTechSupportAccess</th>\n",
              "      <th>HasOnlineTV</th>\n",
              "      <th>HasMovieSubscription</th>\n",
              "      <th>HasContractPhone</th>\n",
              "      <th>IsBillingPaperless</th>\n",
              "      <th>PaymentMethod</th>\n",
              "      <th>Churn</th>\n",
              "      <th></th>\n",
              "    </tr>\n",
              "  </thead>\n",
              "  <tbody>\n",
              "    <tr>\n",
              "      <th>72.0</th>\n",
              "      <th>115.05</th>\n",
              "      <th>8017.7875</th>\n",
              "      <th>Female</th>\n",
              "      <th>0</th>\n",
              "      <th>1</th>\n",
              "      <th>1</th>\n",
              "      <th>1</th>\n",
              "      <th>1</th>\n",
              "      <th>Fiber optic</th>\n",
              "      <th>1</th>\n",
              "      <th>1</th>\n",
              "      <th>1</th>\n",
              "      <th>1</th>\n",
              "      <th>1</th>\n",
              "      <th>1</th>\n",
              "      <th>Two year</th>\n",
              "      <th>1</th>\n",
              "      <th>Bank transfer (automatic)</th>\n",
              "      <th>0</th>\n",
              "      <td>5</td>\n",
              "    </tr>\n",
              "    <tr>\n",
              "      <th>1.0</th>\n",
              "      <th>20.20</th>\n",
              "      <th>20.2000</th>\n",
              "      <th>Male</th>\n",
              "      <th>0</th>\n",
              "      <th>0</th>\n",
              "      <th>0</th>\n",
              "      <th>1</th>\n",
              "      <th>0</th>\n",
              "      <th>No</th>\n",
              "      <th>0</th>\n",
              "      <th>0</th>\n",
              "      <th>0</th>\n",
              "      <th>0</th>\n",
              "      <th>0</th>\n",
              "      <th>0</th>\n",
              "      <th>Month-to-month</th>\n",
              "      <th>0</th>\n",
              "      <th>Mailed check</th>\n",
              "      <th>0</th>\n",
              "      <td>2</td>\n",
              "    </tr>\n",
              "    <tr>\n",
              "      <th>72.0</th>\n",
              "      <th>115.05</th>\n",
              "      <th>8017.7875</th>\n",
              "      <th>Female</th>\n",
              "      <th>0</th>\n",
              "      <th>1</th>\n",
              "      <th>1</th>\n",
              "      <th>1</th>\n",
              "      <th>1</th>\n",
              "      <th>Fiber optic</th>\n",
              "      <th>1</th>\n",
              "      <th>1</th>\n",
              "      <th>1</th>\n",
              "      <th>1</th>\n",
              "      <th>1</th>\n",
              "      <th>1</th>\n",
              "      <th>Two year</th>\n",
              "      <th>1</th>\n",
              "      <th>Credit card (automatic)</th>\n",
              "      <th>0</th>\n",
              "      <td>2</td>\n",
              "    </tr>\n",
              "    <tr>\n",
              "      <th rowspan=\"2\" valign=\"top\">1.0</th>\n",
              "      <th>45.30</th>\n",
              "      <th>45.3000</th>\n",
              "      <th>Male</th>\n",
              "      <th>0</th>\n",
              "      <th>0</th>\n",
              "      <th>0</th>\n",
              "      <th>1</th>\n",
              "      <th>0</th>\n",
              "      <th>DSL</th>\n",
              "      <th>0</th>\n",
              "      <th>0</th>\n",
              "      <th>0</th>\n",
              "      <th>0</th>\n",
              "      <th>0</th>\n",
              "      <th>0</th>\n",
              "      <th>Month-to-month</th>\n",
              "      <th>0</th>\n",
              "      <th>Electronic check</th>\n",
              "      <th>1</th>\n",
              "      <td>2</td>\n",
              "    </tr>\n",
              "    <tr>\n",
              "      <th>20.05</th>\n",
              "      <th>20.0500</th>\n",
              "      <th>Male</th>\n",
              "      <th>0</th>\n",
              "      <th>0</th>\n",
              "      <th>0</th>\n",
              "      <th>1</th>\n",
              "      <th>0</th>\n",
              "      <th>No</th>\n",
              "      <th>0</th>\n",
              "      <th>0</th>\n",
              "      <th>0</th>\n",
              "      <th>0</th>\n",
              "      <th>0</th>\n",
              "      <th>0</th>\n",
              "      <th>Month-to-month</th>\n",
              "      <th>0</th>\n",
              "      <th>Mailed check</th>\n",
              "      <th>0</th>\n",
              "      <td>2</td>\n",
              "    </tr>\n",
              "    <tr>\n",
              "      <th>...</th>\n",
              "      <th>...</th>\n",
              "      <th>...</th>\n",
              "      <th>...</th>\n",
              "      <th>...</th>\n",
              "      <th>...</th>\n",
              "      <th>...</th>\n",
              "      <th>...</th>\n",
              "      <th>...</th>\n",
              "      <th>...</th>\n",
              "      <th>...</th>\n",
              "      <th>...</th>\n",
              "      <th>...</th>\n",
              "      <th>...</th>\n",
              "      <th>...</th>\n",
              "      <th>...</th>\n",
              "      <th>...</th>\n",
              "      <th>...</th>\n",
              "      <th>...</th>\n",
              "      <th>...</th>\n",
              "      <td>...</td>\n",
              "    </tr>\n",
              "    <tr>\n",
              "      <th rowspan=\"4\" valign=\"top\">15.0</th>\n",
              "      <th>19.65</th>\n",
              "      <th>332.6500</th>\n",
              "      <th>Male</th>\n",
              "      <th>0</th>\n",
              "      <th>1</th>\n",
              "      <th>1</th>\n",
              "      <th>1</th>\n",
              "      <th>0</th>\n",
              "      <th>No</th>\n",
              "      <th>0</th>\n",
              "      <th>0</th>\n",
              "      <th>0</th>\n",
              "      <th>0</th>\n",
              "      <th>0</th>\n",
              "      <th>0</th>\n",
              "      <th>One year</th>\n",
              "      <th>0</th>\n",
              "      <th>Mailed check</th>\n",
              "      <th>0</th>\n",
              "      <td>1</td>\n",
              "    </tr>\n",
              "    <tr>\n",
              "      <th>19.60</th>\n",
              "      <th>299.4000</th>\n",
              "      <th>Female</th>\n",
              "      <th>0</th>\n",
              "      <th>0</th>\n",
              "      <th>0</th>\n",
              "      <th>1</th>\n",
              "      <th>0</th>\n",
              "      <th>No</th>\n",
              "      <th>0</th>\n",
              "      <th>0</th>\n",
              "      <th>0</th>\n",
              "      <th>0</th>\n",
              "      <th>0</th>\n",
              "      <th>0</th>\n",
              "      <th>Month-to-month</th>\n",
              "      <th>0</th>\n",
              "      <th>Mailed check</th>\n",
              "      <th>0</th>\n",
              "      <td>1</td>\n",
              "    </tr>\n",
              "    <tr>\n",
              "      <th>19.50</th>\n",
              "      <th>239.7500</th>\n",
              "      <th>Male</th>\n",
              "      <th>0</th>\n",
              "      <th>1</th>\n",
              "      <th>1</th>\n",
              "      <th>1</th>\n",
              "      <th>0</th>\n",
              "      <th>No</th>\n",
              "      <th>0</th>\n",
              "      <th>0</th>\n",
              "      <th>0</th>\n",
              "      <th>0</th>\n",
              "      <th>0</th>\n",
              "      <th>0</th>\n",
              "      <th>One year</th>\n",
              "      <th>1</th>\n",
              "      <th>Mailed check</th>\n",
              "      <th>0</th>\n",
              "      <td>1</td>\n",
              "    </tr>\n",
              "    <tr>\n",
              "      <th>19.45</th>\n",
              "      <th>340.8500</th>\n",
              "      <th>Male</th>\n",
              "      <th>0</th>\n",
              "      <th>1</th>\n",
              "      <th>0</th>\n",
              "      <th>1</th>\n",
              "      <th>0</th>\n",
              "      <th>No</th>\n",
              "      <th>0</th>\n",
              "      <th>0</th>\n",
              "      <th>0</th>\n",
              "      <th>0</th>\n",
              "      <th>0</th>\n",
              "      <th>0</th>\n",
              "      <th>Month-to-month</th>\n",
              "      <th>1</th>\n",
              "      <th>Credit card (automatic)</th>\n",
              "      <th>0</th>\n",
              "      <td>1</td>\n",
              "    </tr>\n",
              "    <tr>\n",
              "      <th>72.0</th>\n",
              "      <th>115.05</th>\n",
              "      <th>8017.7875</th>\n",
              "      <th>Male</th>\n",
              "      <th>1</th>\n",
              "      <th>1</th>\n",
              "      <th>1</th>\n",
              "      <th>1</th>\n",
              "      <th>1</th>\n",
              "      <th>Fiber optic</th>\n",
              "      <th>1</th>\n",
              "      <th>1</th>\n",
              "      <th>1</th>\n",
              "      <th>1</th>\n",
              "      <th>1</th>\n",
              "      <th>1</th>\n",
              "      <th>Two year</th>\n",
              "      <th>1</th>\n",
              "      <th>Credit card (automatic)</th>\n",
              "      <th>0</th>\n",
              "      <td>1</td>\n",
              "    </tr>\n",
              "  </tbody>\n",
              "</table>\n",
              "<p>5262 rows × 1 columns</p>\n",
              "</div><br><label><b>dtype:</b> int64</label>"
            ]
          },
          "metadata": {},
          "execution_count": 205
        }
      ],
      "source": [
        "data_train.value_counts()"
      ]
    },
    {
      "cell_type": "markdown",
      "source": [
        "❗ неочевидные категориальные признаки преобразовываем в числовые columns=['Sex', 'HasInternetService', 'HasContractPhone', 'PaymentMethod'] через encoding ⭐get_dummies⭐"
      ],
      "metadata": {
        "id": "iVMPfo_Mciio"
      }
    },
    {
      "cell_type": "code",
      "execution_count": null,
      "metadata": {
        "id": "WaBMjG8fedvq"
      },
      "outputs": [],
      "source": [
        "data_train_dummies = pd.get_dummies(data_train, columns=['Sex', 'HasInternetService', 'HasContractPhone', 'PaymentMethod'], drop_first=True)\n",
        "data_test_dummies = pd.get_dummies(data_test, columns=['Sex', 'HasInternetService', 'HasContractPhone', 'PaymentMethod'], drop_first=True)"
      ]
    },
    {
      "cell_type": "code",
      "execution_count": null,
      "metadata": {
        "colab": {
          "base_uri": "https://localhost:8080/",
          "height": 827
        },
        "id": "_h5VG2cO2G46",
        "outputId": "7ee7b2c8-5fcf-4915-a2a3-5ae3a4c52c4b"
      },
      "outputs": [
        {
          "output_type": "execute_result",
          "data": {
            "text/plain": [
              "ClientPeriod                             float64\n",
              "MonthlySpending                          float64\n",
              "TotalSpent                               float64\n",
              "IsSeniorCitizen                            int64\n",
              "HasPartner                                 int64\n",
              "HasChild                                   int64\n",
              "HasPhoneService                            int64\n",
              "HasMultiplePhoneNumbers                    int64\n",
              "HasOnlineSecurityService                   int64\n",
              "HasOnlineBackup                            int64\n",
              "HasDeviceProtection                        int64\n",
              "HasTechSupportAccess                       int64\n",
              "HasOnlineTV                                int64\n",
              "HasMovieSubscription                       int64\n",
              "IsBillingPaperless                         int64\n",
              "Churn                                      int64\n",
              "Sex_Male                                    bool\n",
              "HasInternetService_Fiber optic              bool\n",
              "HasInternetService_No                       bool\n",
              "HasContractPhone_One year                   bool\n",
              "HasContractPhone_Two year                   bool\n",
              "PaymentMethod_Credit card (automatic)       bool\n",
              "PaymentMethod_Electronic check              bool\n",
              "PaymentMethod_Mailed check                  bool\n",
              "dtype: object"
            ],
            "text/html": [
              "<div>\n",
              "<style scoped>\n",
              "    .dataframe tbody tr th:only-of-type {\n",
              "        vertical-align: middle;\n",
              "    }\n",
              "\n",
              "    .dataframe tbody tr th {\n",
              "        vertical-align: top;\n",
              "    }\n",
              "\n",
              "    .dataframe thead th {\n",
              "        text-align: right;\n",
              "    }\n",
              "</style>\n",
              "<table border=\"1\" class=\"dataframe\">\n",
              "  <thead>\n",
              "    <tr style=\"text-align: right;\">\n",
              "      <th></th>\n",
              "      <th>0</th>\n",
              "    </tr>\n",
              "  </thead>\n",
              "  <tbody>\n",
              "    <tr>\n",
              "      <th>ClientPeriod</th>\n",
              "      <td>float64</td>\n",
              "    </tr>\n",
              "    <tr>\n",
              "      <th>MonthlySpending</th>\n",
              "      <td>float64</td>\n",
              "    </tr>\n",
              "    <tr>\n",
              "      <th>TotalSpent</th>\n",
              "      <td>float64</td>\n",
              "    </tr>\n",
              "    <tr>\n",
              "      <th>IsSeniorCitizen</th>\n",
              "      <td>int64</td>\n",
              "    </tr>\n",
              "    <tr>\n",
              "      <th>HasPartner</th>\n",
              "      <td>int64</td>\n",
              "    </tr>\n",
              "    <tr>\n",
              "      <th>HasChild</th>\n",
              "      <td>int64</td>\n",
              "    </tr>\n",
              "    <tr>\n",
              "      <th>HasPhoneService</th>\n",
              "      <td>int64</td>\n",
              "    </tr>\n",
              "    <tr>\n",
              "      <th>HasMultiplePhoneNumbers</th>\n",
              "      <td>int64</td>\n",
              "    </tr>\n",
              "    <tr>\n",
              "      <th>HasOnlineSecurityService</th>\n",
              "      <td>int64</td>\n",
              "    </tr>\n",
              "    <tr>\n",
              "      <th>HasOnlineBackup</th>\n",
              "      <td>int64</td>\n",
              "    </tr>\n",
              "    <tr>\n",
              "      <th>HasDeviceProtection</th>\n",
              "      <td>int64</td>\n",
              "    </tr>\n",
              "    <tr>\n",
              "      <th>HasTechSupportAccess</th>\n",
              "      <td>int64</td>\n",
              "    </tr>\n",
              "    <tr>\n",
              "      <th>HasOnlineTV</th>\n",
              "      <td>int64</td>\n",
              "    </tr>\n",
              "    <tr>\n",
              "      <th>HasMovieSubscription</th>\n",
              "      <td>int64</td>\n",
              "    </tr>\n",
              "    <tr>\n",
              "      <th>IsBillingPaperless</th>\n",
              "      <td>int64</td>\n",
              "    </tr>\n",
              "    <tr>\n",
              "      <th>Churn</th>\n",
              "      <td>int64</td>\n",
              "    </tr>\n",
              "    <tr>\n",
              "      <th>Sex_Male</th>\n",
              "      <td>bool</td>\n",
              "    </tr>\n",
              "    <tr>\n",
              "      <th>HasInternetService_Fiber optic</th>\n",
              "      <td>bool</td>\n",
              "    </tr>\n",
              "    <tr>\n",
              "      <th>HasInternetService_No</th>\n",
              "      <td>bool</td>\n",
              "    </tr>\n",
              "    <tr>\n",
              "      <th>HasContractPhone_One year</th>\n",
              "      <td>bool</td>\n",
              "    </tr>\n",
              "    <tr>\n",
              "      <th>HasContractPhone_Two year</th>\n",
              "      <td>bool</td>\n",
              "    </tr>\n",
              "    <tr>\n",
              "      <th>PaymentMethod_Credit card (automatic)</th>\n",
              "      <td>bool</td>\n",
              "    </tr>\n",
              "    <tr>\n",
              "      <th>PaymentMethod_Electronic check</th>\n",
              "      <td>bool</td>\n",
              "    </tr>\n",
              "    <tr>\n",
              "      <th>PaymentMethod_Mailed check</th>\n",
              "      <td>bool</td>\n",
              "    </tr>\n",
              "  </tbody>\n",
              "</table>\n",
              "</div><br><label><b>dtype:</b> object</label>"
            ]
          },
          "metadata": {},
          "execution_count": 207
        }
      ],
      "source": [
        "data_train_dummies.dtypes"
      ]
    },
    {
      "cell_type": "code",
      "execution_count": null,
      "metadata": {
        "colab": {
          "base_uri": "https://localhost:8080/"
        },
        "id": "UW4H4xRAekZJ",
        "outputId": "e8353470-144b-474e-be7a-bca539cb8857"
      },
      "outputs": [
        {
          "output_type": "execute_result",
          "data": {
            "text/plain": [
              "Index(['Sex_Male', 'HasInternetService_Fiber optic', 'HasInternetService_No',\n",
              "       'HasContractPhone_One year', 'HasContractPhone_Two year',\n",
              "       'PaymentMethod_Credit card (automatic)',\n",
              "       'PaymentMethod_Electronic check', 'PaymentMethod_Mailed check'],\n",
              "      dtype='object')"
            ]
          },
          "metadata": {},
          "execution_count": 208
        }
      ],
      "source": [
        "bool_columns = data_train_dummies.select_dtypes(include='bool').columns\n",
        "bool_columns"
      ]
    },
    {
      "cell_type": "code",
      "execution_count": null,
      "metadata": {
        "id": "duH7HhW5fbo1",
        "colab": {
          "base_uri": "https://localhost:8080/",
          "height": 299
        },
        "outputId": "823037aa-db16-4923-9567-7c37cdec9e0e"
      },
      "outputs": [
        {
          "output_type": "error",
          "ename": "TypeError",
          "evalue": "Cannot interpret '5' as a data type",
          "traceback": [
            "\u001b[0;31m---------------------------------------------------------------------------\u001b[0m",
            "\u001b[0;31mTypeError\u001b[0m                                 Traceback (most recent call last)",
            "\u001b[0;32m<ipython-input-209-2fc88b66f6c7>\u001b[0m in \u001b[0;36m<cell line: 1>\u001b[0;34m()\u001b[0m\n\u001b[0;32m----> 1\u001b[0;31m \u001b[0mdata_train_dummies\u001b[0m\u001b[0;34m[\u001b[0m\u001b[0mbool_columns\u001b[0m\u001b[0;34m]\u001b[0m \u001b[0;34m=\u001b[0m \u001b[0mdata_train_dummies\u001b[0m\u001b[0;34m[\u001b[0m\u001b[0mbool_columns\u001b[0m\u001b[0;34m]\u001b[0m\u001b[0;34m.\u001b[0m\u001b[0mastype\u001b[0m\u001b[0;34m(\u001b[0m\u001b[0mint\u001b[0m\u001b[0;34m)\u001b[0m\u001b[0;34m\u001b[0m\u001b[0;34m\u001b[0m\u001b[0m\n\u001b[0m\u001b[1;32m      2\u001b[0m \u001b[0mdata_test_dummies\u001b[0m\u001b[0;34m[\u001b[0m\u001b[0mbool_columns\u001b[0m\u001b[0;34m]\u001b[0m \u001b[0;34m=\u001b[0m \u001b[0mdata_test_dummies\u001b[0m\u001b[0;34m[\u001b[0m\u001b[0mbool_columns\u001b[0m\u001b[0;34m]\u001b[0m\u001b[0;34m.\u001b[0m\u001b[0mastype\u001b[0m\u001b[0;34m(\u001b[0m\u001b[0mint\u001b[0m\u001b[0;34m)\u001b[0m\u001b[0;34m\u001b[0m\u001b[0;34m\u001b[0m\u001b[0m\n",
            "\u001b[0;32m/usr/local/lib/python3.10/dist-packages/pandas/core/generic.py\u001b[0m in \u001b[0;36mastype\u001b[0;34m(self, dtype, copy, errors)\u001b[0m\n\u001b[1;32m   6641\u001b[0m         \u001b[0;32melse\u001b[0m\u001b[0;34m:\u001b[0m\u001b[0;34m\u001b[0m\u001b[0;34m\u001b[0m\u001b[0m\n\u001b[1;32m   6642\u001b[0m             \u001b[0;31m# else, only a single dtype is given\u001b[0m\u001b[0;34m\u001b[0m\u001b[0;34m\u001b[0m\u001b[0m\n\u001b[0;32m-> 6643\u001b[0;31m             \u001b[0mnew_data\u001b[0m \u001b[0;34m=\u001b[0m \u001b[0mself\u001b[0m\u001b[0;34m.\u001b[0m\u001b[0m_mgr\u001b[0m\u001b[0;34m.\u001b[0m\u001b[0mastype\u001b[0m\u001b[0;34m(\u001b[0m\u001b[0mdtype\u001b[0m\u001b[0;34m=\u001b[0m\u001b[0mdtype\u001b[0m\u001b[0;34m,\u001b[0m \u001b[0mcopy\u001b[0m\u001b[0;34m=\u001b[0m\u001b[0mcopy\u001b[0m\u001b[0;34m,\u001b[0m \u001b[0merrors\u001b[0m\u001b[0;34m=\u001b[0m\u001b[0merrors\u001b[0m\u001b[0;34m)\u001b[0m\u001b[0;34m\u001b[0m\u001b[0;34m\u001b[0m\u001b[0m\n\u001b[0m\u001b[1;32m   6644\u001b[0m             \u001b[0mres\u001b[0m \u001b[0;34m=\u001b[0m \u001b[0mself\u001b[0m\u001b[0;34m.\u001b[0m\u001b[0m_constructor_from_mgr\u001b[0m\u001b[0;34m(\u001b[0m\u001b[0mnew_data\u001b[0m\u001b[0;34m,\u001b[0m \u001b[0maxes\u001b[0m\u001b[0;34m=\u001b[0m\u001b[0mnew_data\u001b[0m\u001b[0;34m.\u001b[0m\u001b[0maxes\u001b[0m\u001b[0;34m)\u001b[0m\u001b[0;34m\u001b[0m\u001b[0;34m\u001b[0m\u001b[0m\n\u001b[1;32m   6645\u001b[0m             \u001b[0;32mreturn\u001b[0m \u001b[0mres\u001b[0m\u001b[0;34m.\u001b[0m\u001b[0m__finalize__\u001b[0m\u001b[0;34m(\u001b[0m\u001b[0mself\u001b[0m\u001b[0;34m,\u001b[0m \u001b[0mmethod\u001b[0m\u001b[0;34m=\u001b[0m\u001b[0;34m\"astype\"\u001b[0m\u001b[0;34m)\u001b[0m\u001b[0;34m\u001b[0m\u001b[0;34m\u001b[0m\u001b[0m\n",
            "\u001b[0;32m/usr/local/lib/python3.10/dist-packages/pandas/core/internals/managers.py\u001b[0m in \u001b[0;36mastype\u001b[0;34m(self, dtype, copy, errors)\u001b[0m\n\u001b[1;32m    428\u001b[0m             \u001b[0mcopy\u001b[0m \u001b[0;34m=\u001b[0m \u001b[0;32mFalse\u001b[0m\u001b[0;34m\u001b[0m\u001b[0;34m\u001b[0m\u001b[0m\n\u001b[1;32m    429\u001b[0m \u001b[0;34m\u001b[0m\u001b[0m\n\u001b[0;32m--> 430\u001b[0;31m         return self.apply(\n\u001b[0m\u001b[1;32m    431\u001b[0m             \u001b[0;34m\"astype\"\u001b[0m\u001b[0;34m,\u001b[0m\u001b[0;34m\u001b[0m\u001b[0;34m\u001b[0m\u001b[0m\n\u001b[1;32m    432\u001b[0m             \u001b[0mdtype\u001b[0m\u001b[0;34m=\u001b[0m\u001b[0mdtype\u001b[0m\u001b[0;34m,\u001b[0m\u001b[0;34m\u001b[0m\u001b[0;34m\u001b[0m\u001b[0m\n",
            "\u001b[0;32m/usr/local/lib/python3.10/dist-packages/pandas/core/internals/managers.py\u001b[0m in \u001b[0;36mapply\u001b[0;34m(self, f, align_keys, **kwargs)\u001b[0m\n\u001b[1;32m    361\u001b[0m                 \u001b[0mapplied\u001b[0m \u001b[0;34m=\u001b[0m \u001b[0mb\u001b[0m\u001b[0;34m.\u001b[0m\u001b[0mapply\u001b[0m\u001b[0;34m(\u001b[0m\u001b[0mf\u001b[0m\u001b[0;34m,\u001b[0m \u001b[0;34m**\u001b[0m\u001b[0mkwargs\u001b[0m\u001b[0;34m)\u001b[0m\u001b[0;34m\u001b[0m\u001b[0;34m\u001b[0m\u001b[0m\n\u001b[1;32m    362\u001b[0m             \u001b[0;32melse\u001b[0m\u001b[0;34m:\u001b[0m\u001b[0;34m\u001b[0m\u001b[0;34m\u001b[0m\u001b[0m\n\u001b[0;32m--> 363\u001b[0;31m                 \u001b[0mapplied\u001b[0m \u001b[0;34m=\u001b[0m \u001b[0mgetattr\u001b[0m\u001b[0;34m(\u001b[0m\u001b[0mb\u001b[0m\u001b[0;34m,\u001b[0m \u001b[0mf\u001b[0m\u001b[0;34m)\u001b[0m\u001b[0;34m(\u001b[0m\u001b[0;34m**\u001b[0m\u001b[0mkwargs\u001b[0m\u001b[0;34m)\u001b[0m\u001b[0;34m\u001b[0m\u001b[0;34m\u001b[0m\u001b[0m\n\u001b[0m\u001b[1;32m    364\u001b[0m             \u001b[0mresult_blocks\u001b[0m \u001b[0;34m=\u001b[0m \u001b[0mextend_blocks\u001b[0m\u001b[0;34m(\u001b[0m\u001b[0mapplied\u001b[0m\u001b[0;34m,\u001b[0m \u001b[0mresult_blocks\u001b[0m\u001b[0;34m)\u001b[0m\u001b[0;34m\u001b[0m\u001b[0;34m\u001b[0m\u001b[0m\n\u001b[1;32m    365\u001b[0m \u001b[0;34m\u001b[0m\u001b[0m\n",
            "\u001b[0;32m/usr/local/lib/python3.10/dist-packages/pandas/core/internals/blocks.py\u001b[0m in \u001b[0;36mastype\u001b[0;34m(self, dtype, copy, errors, using_cow, squeeze)\u001b[0m\n\u001b[1;32m    756\u001b[0m             \u001b[0mvalues\u001b[0m \u001b[0;34m=\u001b[0m \u001b[0mvalues\u001b[0m\u001b[0;34m[\u001b[0m\u001b[0;36m0\u001b[0m\u001b[0;34m,\u001b[0m \u001b[0;34m:\u001b[0m\u001b[0;34m]\u001b[0m  \u001b[0;31m# type: ignore[call-overload]\u001b[0m\u001b[0;34m\u001b[0m\u001b[0;34m\u001b[0m\u001b[0m\n\u001b[1;32m    757\u001b[0m \u001b[0;34m\u001b[0m\u001b[0m\n\u001b[0;32m--> 758\u001b[0;31m         \u001b[0mnew_values\u001b[0m \u001b[0;34m=\u001b[0m \u001b[0mastype_array_safe\u001b[0m\u001b[0;34m(\u001b[0m\u001b[0mvalues\u001b[0m\u001b[0;34m,\u001b[0m \u001b[0mdtype\u001b[0m\u001b[0;34m,\u001b[0m \u001b[0mcopy\u001b[0m\u001b[0;34m=\u001b[0m\u001b[0mcopy\u001b[0m\u001b[0;34m,\u001b[0m \u001b[0merrors\u001b[0m\u001b[0;34m=\u001b[0m\u001b[0merrors\u001b[0m\u001b[0;34m)\u001b[0m\u001b[0;34m\u001b[0m\u001b[0;34m\u001b[0m\u001b[0m\n\u001b[0m\u001b[1;32m    759\u001b[0m \u001b[0;34m\u001b[0m\u001b[0m\n\u001b[1;32m    760\u001b[0m         \u001b[0mnew_values\u001b[0m \u001b[0;34m=\u001b[0m \u001b[0mmaybe_coerce_values\u001b[0m\u001b[0;34m(\u001b[0m\u001b[0mnew_values\u001b[0m\u001b[0;34m)\u001b[0m\u001b[0;34m\u001b[0m\u001b[0;34m\u001b[0m\u001b[0m\n",
            "\u001b[0;32m/usr/local/lib/python3.10/dist-packages/pandas/core/dtypes/astype.py\u001b[0m in \u001b[0;36mastype_array_safe\u001b[0;34m(values, dtype, copy, errors)\u001b[0m\n\u001b[1;32m    229\u001b[0m         \u001b[0;32mraise\u001b[0m \u001b[0mTypeError\u001b[0m\u001b[0;34m(\u001b[0m\u001b[0mmsg\u001b[0m\u001b[0;34m)\u001b[0m\u001b[0;34m\u001b[0m\u001b[0;34m\u001b[0m\u001b[0m\n\u001b[1;32m    230\u001b[0m \u001b[0;34m\u001b[0m\u001b[0m\n\u001b[0;32m--> 231\u001b[0;31m     \u001b[0mdtype\u001b[0m \u001b[0;34m=\u001b[0m \u001b[0mpandas_dtype\u001b[0m\u001b[0;34m(\u001b[0m\u001b[0mdtype\u001b[0m\u001b[0;34m)\u001b[0m\u001b[0;34m\u001b[0m\u001b[0;34m\u001b[0m\u001b[0m\n\u001b[0m\u001b[1;32m    232\u001b[0m     \u001b[0;32mif\u001b[0m \u001b[0misinstance\u001b[0m\u001b[0;34m(\u001b[0m\u001b[0mdtype\u001b[0m\u001b[0;34m,\u001b[0m \u001b[0mNumpyEADtype\u001b[0m\u001b[0;34m)\u001b[0m\u001b[0;34m:\u001b[0m\u001b[0;34m\u001b[0m\u001b[0;34m\u001b[0m\u001b[0m\n\u001b[1;32m    233\u001b[0m         \u001b[0;31m# Ensure we don't end up with a NumpyExtensionArray\u001b[0m\u001b[0;34m\u001b[0m\u001b[0;34m\u001b[0m\u001b[0m\n",
            "\u001b[0;32m/usr/local/lib/python3.10/dist-packages/pandas/core/dtypes/common.py\u001b[0m in \u001b[0;36mpandas_dtype\u001b[0;34m(dtype)\u001b[0m\n\u001b[1;32m   1643\u001b[0m             \u001b[0;31m# Hence enabling DeprecationWarning\u001b[0m\u001b[0;34m\u001b[0m\u001b[0;34m\u001b[0m\u001b[0m\n\u001b[1;32m   1644\u001b[0m             \u001b[0mwarnings\u001b[0m\u001b[0;34m.\u001b[0m\u001b[0msimplefilter\u001b[0m\u001b[0;34m(\u001b[0m\u001b[0;34m\"always\"\u001b[0m\u001b[0;34m,\u001b[0m \u001b[0mDeprecationWarning\u001b[0m\u001b[0;34m)\u001b[0m\u001b[0;34m\u001b[0m\u001b[0;34m\u001b[0m\u001b[0m\n\u001b[0;32m-> 1645\u001b[0;31m             \u001b[0mnpdtype\u001b[0m \u001b[0;34m=\u001b[0m \u001b[0mnp\u001b[0m\u001b[0;34m.\u001b[0m\u001b[0mdtype\u001b[0m\u001b[0;34m(\u001b[0m\u001b[0mdtype\u001b[0m\u001b[0;34m)\u001b[0m\u001b[0;34m\u001b[0m\u001b[0;34m\u001b[0m\u001b[0m\n\u001b[0m\u001b[1;32m   1646\u001b[0m     \u001b[0;32mexcept\u001b[0m \u001b[0mSyntaxError\u001b[0m \u001b[0;32mas\u001b[0m \u001b[0merr\u001b[0m\u001b[0;34m:\u001b[0m\u001b[0;34m\u001b[0m\u001b[0;34m\u001b[0m\u001b[0m\n\u001b[1;32m   1647\u001b[0m         \u001b[0;31m# np.dtype uses `eval` which can raise SyntaxError\u001b[0m\u001b[0;34m\u001b[0m\u001b[0;34m\u001b[0m\u001b[0m\n",
            "\u001b[0;31mTypeError\u001b[0m: Cannot interpret '5' as a data type"
          ]
        }
      ],
      "source": [
        "data_train_dummies[bool_columns] = data_train_dummies[bool_columns].astype(int)\n",
        "data_test_dummies[bool_columns] = data_test_dummies[bool_columns].astype(int)"
      ]
    },
    {
      "cell_type": "code",
      "execution_count": null,
      "metadata": {
        "collapsed": true,
        "id": "TXznWe7qgpZb"
      },
      "outputs": [],
      "source": [
        "data_test_dummies.dtypes"
      ]
    },
    {
      "cell_type": "code",
      "execution_count": null,
      "metadata": {
        "id": "pplJNsgWcZgj"
      },
      "outputs": [],
      "source": [
        "#data_train.dtypes\n",
        "data_test_dummies.dtypes\n",
        "\n",
        "# Теперь все фичи числовые"
      ]
    },
    {
      "cell_type": "code",
      "execution_count": null,
      "metadata": {
        "collapsed": true,
        "id": "IM5lmNJBfkGe"
      },
      "outputs": [],
      "source": [
        "data_train_dummies.isna().sum()\n",
        "data_test_dummies.isna().sum()"
      ]
    },
    {
      "cell_type": "code",
      "execution_count": null,
      "metadata": {
        "id": "jopJwMwk_maI"
      },
      "outputs": [],
      "source": [
        "target_feature = data_train_dummies.Churn.value_counts()"
      ]
    },
    {
      "cell_type": "code",
      "execution_count": null,
      "metadata": {
        "id": "G-8lqUVF_-tb"
      },
      "outputs": [],
      "source": [
        "bar_chart = target_feature.plot(kind='bar')\n",
        "#will be SMOTEd later <- y_train, X_train"
      ]
    },
    {
      "cell_type": "code",
      "execution_count": null,
      "metadata": {
        "collapsed": true,
        "id": "6Gml4Ew87R7e"
      },
      "outputs": [],
      "source": [
        "# Посмотрим корреляцию фичей\n",
        "correlation_matrix = data_train_dummies.corr()\n",
        "correlation_matrix"
      ]
    },
    {
      "cell_type": "code",
      "execution_count": null,
      "metadata": {
        "id": "OZdxXQ237lTj"
      },
      "outputs": [],
      "source": [
        "plt.figure(figsize=(12, 10))\n",
        "sns.heatmap(correlation_matrix, annot=False, cmap='coolwarm', linewidths=0.5)\n",
        "\n",
        "plt.title('Correlation Matrix Heatmap', fontsize=16)\n",
        "plt.show()"
      ]
    },
    {
      "cell_type": "code",
      "execution_count": null,
      "metadata": {
        "id": "55u2I49UHS1i"
      },
      "outputs": [],
      "source": [
        "target_correlation = data_train_dummies.corr()['Churn'].sort_values(ascending=False)\n",
        "\n",
        "# Выведем корреляции\n",
        "target_correlation"
      ]
    },
    {
      "cell_type": "code",
      "execution_count": null,
      "metadata": {
        "id": "M3kYNJVZH_yU"
      },
      "outputs": [],
      "source": [
        "features_drop = target_correlation[abs(target_correlation) < 0.05].index\n",
        "features_drop"
      ]
    },
    {
      "cell_type": "code",
      "execution_count": null,
      "metadata": {
        "id": "UQ7z2qF0JGw0"
      },
      "outputs": [],
      "source": [
        "#features_drop = features_drop.drop('Sex_Male')\n",
        "# больше не дропаем сексмейл <-> не дало больше результат\n",
        "features_drop"
      ]
    },
    {
      "cell_type": "code",
      "execution_count": null,
      "metadata": {
        "id": "dqvkAHYH8esO"
      },
      "outputs": [],
      "source": [
        "data_train_dummies.TotalSpent.head()"
      ]
    },
    {
      "cell_type": "code",
      "execution_count": null,
      "metadata": {
        "id": "cQzB6bpr8y6h"
      },
      "outputs": [],
      "source": [
        "data_train_dummies.MonthlySpending.head()"
      ]
    },
    {
      "cell_type": "code",
      "execution_count": null,
      "metadata": {
        "id": "7mLDF8iJ81fF"
      },
      "outputs": [],
      "source": [
        "data_train_dummies.ClientPeriod.head()"
      ]
    },
    {
      "cell_type": "code",
      "execution_count": null,
      "metadata": {
        "id": "SfRN2YHH9Bh7"
      },
      "outputs": [],
      "source": [
        "25.85*72\n",
        "# у меня есть подозрение, что TotalSpent = ClientPeriod * MonthlySpending (approx)\n",
        "# отсюда мультиколлинеарность"
      ]
    },
    {
      "cell_type": "code",
      "execution_count": null,
      "metadata": {
        "id": "xwkkBg2M9XmA"
      },
      "outputs": [],
      "source": [
        "data_test_dummies = data_test_dummies.drop(columns=['TotalSpent'])\n",
        "data_train_dummies = data_train_dummies.drop(columns=['TotalSpent'])"
      ]
    },
    {
      "cell_type": "code",
      "execution_count": null,
      "metadata": {
        "id": "KbXcr9fDJbTj"
      },
      "outputs": [],
      "source": [
        "data_train_dummies.drop(columns=features_drop, inplace=True)\n",
        "data_test_dummies.drop(columns=features_drop, inplace=True)"
      ]
    },
    {
      "cell_type": "markdown",
      "metadata": {
        "id": "gq-5QaCbABgp"
      },
      "source": [
        "❗ Imbalance of target value --> use SMOTE later"
      ]
    },
    {
      "cell_type": "code",
      "execution_count": null,
      "metadata": {
        "colab": {
          "base_uri": "https://localhost:8080/",
          "height": 703
        },
        "id": "LleG-Hf4KFw1",
        "outputId": "ae668ab5-2f2c-4e6a-e7ac-71932e93fa9a"
      },
      "outputs": [
        {
          "output_type": "execute_result",
          "data": {
            "text/plain": [
              "Churn                                    1.000000\n",
              "HasInternetService_Fiber optic           0.300399\n",
              "PaymentMethod_Electronic check           0.296715\n",
              "IsBillingPaperless                       0.194040\n",
              "MonthlySpending                          0.185022\n",
              "IsSeniorCitizen                          0.156872\n",
              "HasOnlineTV                              0.059193\n",
              "HasMovieSubscription                     0.050521\n",
              "HasDeviceProtection                     -0.068752\n",
              "PaymentMethod_Mailed check              -0.085284\n",
              "HasOnlineBackup                         -0.088003\n",
              "PaymentMethod_Credit card (automatic)   -0.140615\n",
              "HasPartner                              -0.148347\n",
              "HasChild                                -0.163609\n",
              "HasTechSupportAccess                    -0.165618\n",
              "HasContractPhone_One year               -0.174425\n",
              "HasOnlineSecurityService                -0.182871\n",
              "HasInternetService_No                   -0.226991\n",
              "HasContractPhone_Two year               -0.303830\n",
              "ClientPeriod                            -0.350640\n",
              "Name: Churn, dtype: float64"
            ],
            "text/html": [
              "<div>\n",
              "<style scoped>\n",
              "    .dataframe tbody tr th:only-of-type {\n",
              "        vertical-align: middle;\n",
              "    }\n",
              "\n",
              "    .dataframe tbody tr th {\n",
              "        vertical-align: top;\n",
              "    }\n",
              "\n",
              "    .dataframe thead th {\n",
              "        text-align: right;\n",
              "    }\n",
              "</style>\n",
              "<table border=\"1\" class=\"dataframe\">\n",
              "  <thead>\n",
              "    <tr style=\"text-align: right;\">\n",
              "      <th></th>\n",
              "      <th>Churn</th>\n",
              "    </tr>\n",
              "  </thead>\n",
              "  <tbody>\n",
              "    <tr>\n",
              "      <th>Churn</th>\n",
              "      <td>1.000000</td>\n",
              "    </tr>\n",
              "    <tr>\n",
              "      <th>HasInternetService_Fiber optic</th>\n",
              "      <td>0.300399</td>\n",
              "    </tr>\n",
              "    <tr>\n",
              "      <th>PaymentMethod_Electronic check</th>\n",
              "      <td>0.296715</td>\n",
              "    </tr>\n",
              "    <tr>\n",
              "      <th>IsBillingPaperless</th>\n",
              "      <td>0.194040</td>\n",
              "    </tr>\n",
              "    <tr>\n",
              "      <th>MonthlySpending</th>\n",
              "      <td>0.185022</td>\n",
              "    </tr>\n",
              "    <tr>\n",
              "      <th>IsSeniorCitizen</th>\n",
              "      <td>0.156872</td>\n",
              "    </tr>\n",
              "    <tr>\n",
              "      <th>HasOnlineTV</th>\n",
              "      <td>0.059193</td>\n",
              "    </tr>\n",
              "    <tr>\n",
              "      <th>HasMovieSubscription</th>\n",
              "      <td>0.050521</td>\n",
              "    </tr>\n",
              "    <tr>\n",
              "      <th>HasDeviceProtection</th>\n",
              "      <td>-0.068752</td>\n",
              "    </tr>\n",
              "    <tr>\n",
              "      <th>PaymentMethod_Mailed check</th>\n",
              "      <td>-0.085284</td>\n",
              "    </tr>\n",
              "    <tr>\n",
              "      <th>HasOnlineBackup</th>\n",
              "      <td>-0.088003</td>\n",
              "    </tr>\n",
              "    <tr>\n",
              "      <th>PaymentMethod_Credit card (automatic)</th>\n",
              "      <td>-0.140615</td>\n",
              "    </tr>\n",
              "    <tr>\n",
              "      <th>HasPartner</th>\n",
              "      <td>-0.148347</td>\n",
              "    </tr>\n",
              "    <tr>\n",
              "      <th>HasChild</th>\n",
              "      <td>-0.163609</td>\n",
              "    </tr>\n",
              "    <tr>\n",
              "      <th>HasTechSupportAccess</th>\n",
              "      <td>-0.165618</td>\n",
              "    </tr>\n",
              "    <tr>\n",
              "      <th>HasContractPhone_One year</th>\n",
              "      <td>-0.174425</td>\n",
              "    </tr>\n",
              "    <tr>\n",
              "      <th>HasOnlineSecurityService</th>\n",
              "      <td>-0.182871</td>\n",
              "    </tr>\n",
              "    <tr>\n",
              "      <th>HasInternetService_No</th>\n",
              "      <td>-0.226991</td>\n",
              "    </tr>\n",
              "    <tr>\n",
              "      <th>HasContractPhone_Two year</th>\n",
              "      <td>-0.303830</td>\n",
              "    </tr>\n",
              "    <tr>\n",
              "      <th>ClientPeriod</th>\n",
              "      <td>-0.350640</td>\n",
              "    </tr>\n",
              "  </tbody>\n",
              "</table>\n",
              "</div><br><label><b>dtype:</b> float64</label>"
            ]
          },
          "metadata": {},
          "execution_count": 73
        }
      ],
      "source": [
        "corr_new = data_train_dummies.corr()['Churn'].sort_values(ascending=False)\n",
        "corr_new"
      ]
    },
    {
      "cell_type": "markdown",
      "metadata": {
        "id": "dK370bPCEEZD"
      },
      "source": [
        "## Анализ данных (3 балла)\n",
        "\n",
        "1) Для численных призанков постройте гистограмму (*plt.hist(...)*) или boxplot (*plt.boxplot(...)*). Для категориальных посчитайте количество каждого значения для каждого признака. Для каждой колонки надо сделать *data.value_counts()* и построить bar диаграммы *plt.bar(...)* или круговые диаграммы *plt.pie(...)* (хорошо, елси вы сможете это сделать на одном гарфике с помощью *plt.subplots(...)*).\n",
        "\n",
        "2) Посмотрите на распределение целевой переменной и скажите, являются ли классы несбалансированными.\n",
        "\n",
        "3) (Если будет желание) Поиграйте с разными библиотеками для визуализации - *sns*, *pandas_visual_analysis*, etc.\n",
        "\n",
        "Второй пункт очень важен, потому что существуют задачи классификации с несбалансированными классами. Например, это может значить, что в датасете намного больше примеров 0 класса. В таких случаях нужно 1) не использовать accuracy как метрику 2) использовать методы борьбы с imbalanced dataset (обычно если датасет сильно несбалансирован, т.е. класса 1 в 20 раз меньше класса 0)."
      ]
    },
    {
      "cell_type": "markdown",
      "metadata": {
        "id": "zg60u3QDEEZH"
      },
      "source": [
        "(Дополнительно) Если вы нашли какие-то ошибки в данных или выбросы, то можете их убрать. Тут можно поэксперементировать с обработкой данных как угодно, но не за баллы."
      ]
    },
    {
      "cell_type": "code",
      "execution_count": null,
      "metadata": {
        "id": "fwfksF1gEEZI"
      },
      "outputs": [],
      "source": [
        "# 1. Гистограммы и плоты были построены выше\n",
        "# 2. Распределение целевой переменной также посмотрели выше - целевая несбалансированна, ниже применяем SMOTE для балансировки.\n",
        "# 3. Сделано выше\n",
        "\n",
        "# Выбросы также подкорректированны выше"
      ]
    },
    {
      "cell_type": "markdown",
      "metadata": {
        "id": "DviiJd8REEZK"
      },
      "source": [
        "## Применение линейных моделей (3 балла)\n",
        "\n",
        "1) Обработайте данные для того, чтобы к ним можно было применить LogisticRegression. Т.е. отнормируйте числовые признаки, а категориальные закодируйте с помощью one-hot-encoding'а. ⏰ сделано выше\n",
        "2) С помощью кроссвалидации или разделения на train/valid выборку протестируйте разные значения гиперпараметра C и выберите лучший (можно тестировать С=100, 10, 1, 0.1, 0.01, 0.001) по метрике ROC-AUC. ⏰ сделано ниже\n",
        "\n",
        "Если вы разделяете на train/valid, то используйте LogisticRegressionCV. Он сам при вызове .fit() подберет параметр С. (не забудьте передать scroing='roc_auc', чтобы при кроссвалидации сравнивались значения этой метрики, и refit=True, чтобы при потом модель обучилась на всем датасете с лучшим параметром C)."
      ]
    },
    {
      "cell_type": "code",
      "execution_count": null,
      "metadata": {
        "id": "M27-JPuDhUBF"
      },
      "outputs": [],
      "source": [
        "smote = SMOTE(random_state=42)"
      ]
    },
    {
      "cell_type": "code",
      "execution_count": null,
      "metadata": {
        "colab": {
          "base_uri": "https://localhost:8080/"
        },
        "collapsed": true,
        "id": "G9dJbw_pHa__",
        "outputId": "e686f9b6-941a-4054-edb3-a6d5af1ea925"
      },
      "outputs": [
        {
          "output_type": "execute_result",
          "data": {
            "text/plain": [
              "Index(['ClientPeriod', 'MonthlySpending', 'IsSeniorCitizen', 'HasPartner',\n",
              "       'HasChild', 'HasOnlineSecurityService', 'HasOnlineBackup',\n",
              "       'HasDeviceProtection', 'HasTechSupportAccess', 'HasOnlineTV',\n",
              "       'HasMovieSubscription', 'IsBillingPaperless',\n",
              "       'HasInternetService_Fiber optic', 'HasInternetService_No',\n",
              "       'HasContractPhone_One year', 'HasContractPhone_Two year',\n",
              "       'PaymentMethod_Credit card (automatic)',\n",
              "       'PaymentMethod_Electronic check', 'PaymentMethod_Mailed check'],\n",
              "      dtype='object')"
            ]
          },
          "metadata": {},
          "execution_count": 75
        }
      ],
      "source": [
        "data_test_dummies.columns\n",
        "# в тестовой выборке уже нет целевой переменной - зис ис гуд"
      ]
    },
    {
      "cell_type": "code",
      "execution_count": null,
      "metadata": {
        "id": "X0pMHss4HF5u"
      },
      "outputs": [],
      "source": [
        "X_train = data_train_dummies.drop('Churn', axis=1)\n",
        "y_train = data_train_dummies['Churn']\n",
        "X_test = data_test_dummies"
      ]
    },
    {
      "cell_type": "code",
      "execution_count": null,
      "metadata": {
        "id": "TRIuq43Ahofi"
      },
      "outputs": [],
      "source": [
        "X_train_smote, y_train_smote = smote.fit_resample(X_train, y_train)"
      ]
    },
    {
      "cell_type": "code",
      "execution_count": null,
      "metadata": {
        "colab": {
          "base_uri": "https://localhost:8080/",
          "height": 176
        },
        "id": "EmZjNI8YigRb",
        "outputId": "7da4d6cb-7a18-4b5c-d4af-ebfd7369c3ab"
      },
      "outputs": [
        {
          "output_type": "execute_result",
          "data": {
            "text/plain": [
              "Churn\n",
              "0    0.5\n",
              "1    0.5\n",
              "Name: proportion, dtype: float64"
            ],
            "text/html": [
              "<div>\n",
              "<style scoped>\n",
              "    .dataframe tbody tr th:only-of-type {\n",
              "        vertical-align: middle;\n",
              "    }\n",
              "\n",
              "    .dataframe tbody tr th {\n",
              "        vertical-align: top;\n",
              "    }\n",
              "\n",
              "    .dataframe thead th {\n",
              "        text-align: right;\n",
              "    }\n",
              "</style>\n",
              "<table border=\"1\" class=\"dataframe\">\n",
              "  <thead>\n",
              "    <tr style=\"text-align: right;\">\n",
              "      <th></th>\n",
              "      <th>proportion</th>\n",
              "    </tr>\n",
              "    <tr>\n",
              "      <th>Churn</th>\n",
              "      <th></th>\n",
              "    </tr>\n",
              "  </thead>\n",
              "  <tbody>\n",
              "    <tr>\n",
              "      <th>0</th>\n",
              "      <td>0.5</td>\n",
              "    </tr>\n",
              "    <tr>\n",
              "      <th>1</th>\n",
              "      <td>0.5</td>\n",
              "    </tr>\n",
              "  </tbody>\n",
              "</table>\n",
              "</div><br><label><b>dtype:</b> float64</label>"
            ]
          },
          "metadata": {},
          "execution_count": 78
        }
      ],
      "source": [
        "smote_class_distribution = pd.Series(y_train_smote).value_counts(normalize=True)\n",
        "smote_class_distribution"
      ]
    },
    {
      "cell_type": "code",
      "execution_count": null,
      "metadata": {
        "colab": {
          "base_uri": "https://localhost:8080/",
          "height": 564
        },
        "collapsed": true,
        "id": "ep0Pht4XjMl_",
        "outputId": "411d1488-6e58-413d-e2bf-3d4c82805c18"
      },
      "outputs": [
        {
          "output_type": "display_data",
          "data": {
            "text/plain": [
              "<Figure size 800x600 with 1 Axes>"
            ],
            "image/png": "[encoded data removed]"
          },
          "metadata": {}
        }
      ],
      "source": [
        "plt.figure(figsize=(8, 6))\n",
        "sns.countplot(x=y_train_smote)\n",
        "plt.title('Распределение классов')\n",
        "plt.xlabel('Класс')\n",
        "plt.ylabel('Количество')\n",
        "plt.show()\n",
        "\n",
        "# SMOTE сделал свое грязное дело, теперь класс сбалансирован"
      ]
    },
    {
      "cell_type": "code",
      "execution_count": null,
      "metadata": {
        "id": "jLPqoroz-ERZ"
      },
      "outputs": [],
      "source": [
        "# добавим Scaler для масштабирования\n",
        "scaler = StandardScaler()\n",
        "X_train_scaled = scaler.fit_transform(X_train_smote)\n",
        "X_test_scaled = scaler.transform(X_test)"
      ]
    },
    {
      "cell_type": "code",
      "execution_count": null,
      "metadata": {
        "id": "T8phJD8KG9sV"
      },
      "outputs": [],
      "source": [
        "def train_and_evaluate_model(model, model_name):\n",
        "    # Используем масштабированные данные для обучения и предсказания\n",
        "    cv_scores = cross_val_score(model, X_train_scaled, y_train_smote, cv=5, scoring='roc_auc')\n",
        "\n",
        "    print(f\"Model: {model_name}\")\n",
        "    print(f\"Mean cross-validation roc_auc: {cv_scores.mean():.2f}\")\n",
        "    print(\"=\"*60)\n",
        "\n",
        "    model.fit(X_train_scaled, y_train_smote)\n",
        "\n",
        "    y_pred_test = model.predict(X_test_scaled)\n",
        "\n",
        "    print(f\"Test predictions for {model_name}:\")\n",
        "    print(y_pred_test)\n",
        "    print(\"=\"*60)"
      ]
    },
    {
      "cell_type": "code",
      "execution_count": null,
      "metadata": {
        "id": "FGaW-ymBjiWO"
      },
      "outputs": [],
      "source": [
        "# пробуем разные модели, для сравнения продуктивности\n",
        "models = {\n",
        "    \"Random Forest Classifier\": RandomForestClassifier(random_state=44),\n",
        "    \"Gaussian Process Classifier\": GaussianProcessClassifier(),\n",
        "    \"K-Neighbors Classifier\": KNeighborsClassifier(),\n",
        "    \"Decision Tree Classifier\": DecisionTreeClassifier(),\n",
        "    \"CatBoost Classifier\": CatBoostClassifier(verbose=0),\n",
        "    \"Gradient Boosting Classifier\": GradientBoostingClassifier(),\n",
        "    \"Ridge Classifier\": RidgeClassifier(),\n",
        "    \"Logistic Regression (Ridge Regularization)\": LogisticRegression(penalty='l2', solver='liblinear')  # Ridge\n",
        "}"
      ]
    },
    {
      "cell_type": "code",
      "execution_count": null,
      "metadata": {
        "colab": {
          "base_uri": "https://localhost:8080/"
        },
        "collapsed": true,
        "id": "eE_kN0JrHp3O",
        "outputId": "5b2d948a-73d3-4e87-b172-3bb9670cd2da"
      },
      "outputs": [
        {
          "name": "stdout",
          "output_type": "stream",
          "text": [
            "Model: Random Forest Classifier\n",
            "Mean cross-validation f1: 0.92\n",
            "============================================================\n",
            "Test predictions for Random Forest Classifier:\n",
            "[0 1 0 ... 1 1 0]\n",
            "============================================================\n",
            "Model: Gaussian Process Classifier\n",
            "Mean cross-validation f1: 0.87\n",
            "============================================================\n",
            "Test predictions for Gaussian Process Classifier:\n",
            "[0 1 1 ... 1 1 0]\n",
            "============================================================\n",
            "Model: K-Neighbors Classifier\n",
            "Mean cross-validation f1: 0.87\n",
            "============================================================\n",
            "Test predictions for K-Neighbors Classifier:\n",
            "[1 1 1 ... 1 1 0]\n",
            "============================================================\n",
            "Model: Decision Tree Classifier\n",
            "Mean cross-validation f1: 0.79\n",
            "============================================================\n",
            "Test predictions for Decision Tree Classifier:\n",
            "[0 1 0 ... 1 1 0]\n",
            "============================================================\n",
            "Model: CatBoost Classifier\n",
            "Mean cross-validation f1: 0.92\n",
            "============================================================\n",
            "Test predictions for CatBoost Classifier:\n",
            "[0 1 1 ... 1 1 0]\n",
            "============================================================\n",
            "Model: Gradient Boosting Classifier\n",
            "Mean cross-validation f1: 0.90\n",
            "============================================================\n",
            "Test predictions for Gradient Boosting Classifier:\n",
            "[0 1 1 ... 1 1 0]\n",
            "============================================================\n",
            "Model: Ridge Classifier\n",
            "Mean cross-validation f1: 0.88\n",
            "============================================================\n",
            "Test predictions for Ridge Classifier:\n",
            "[0 1 1 ... 1 1 0]\n",
            "============================================================\n",
            "Model: Logistic Regression (Ridge Regularization)\n",
            "Mean cross-validation f1: 0.88\n",
            "============================================================\n",
            "Test predictions for Logistic Regression (Ridge Regularization):\n",
            "[0 1 1 ... 1 1 0]\n",
            "============================================================\n"
          ]
        }
      ],
      "source": [
        "for model_name, model in models.items():\n",
        "    train_and_evaluate_model(model, model_name)"
      ]
    },
    {
      "cell_type": "markdown",
      "source": [
        "⭕ Логистическая регрессия - прогоняем гиперпараметры.\n",
        "\n",
        "Best C: 0.1\n",
        "\n",
        "Best ROC-AUC from cross-validation: 0.8845"
      ],
      "metadata": {
        "id": "eLkyeo6KfQCP"
      }
    },
    {
      "cell_type": "code",
      "execution_count": null,
      "metadata": {
        "colab": {
          "base_uri": "https://localhost:8080/"
        },
        "id": "2iDK3_ogKv-k",
        "outputId": "ef974be6-6372-49e5-f669-5c5b7ccf9843"
      },
      "outputs": [
        {
          "output_type": "stream",
          "name": "stdout",
          "text": [
            "Fitting 5 folds for each of 96 candidates, totalling 480 fits\n",
            "Best C: 0.1\n",
            "Best ROC-AUC from cross-validation: 0.8845\n"
          ]
        }
      ],
      "source": [
        "log_reg = LogisticRegression(penalty='l2', solver='liblinear', random_state=42)\n",
        "\n",
        "param_grid = {\n",
        "    'C': [10, 1, 0.1],\n",
        "    'penalty': ['l2', 'l1'],\n",
        "    'solver': ['liblinear', 'saga'],\n",
        "    'max_iter': [100, 200],\n",
        "    'class_weight': [None, 'balanced'],\n",
        "    'fit_intercept': [True, False]\n",
        "}\n",
        "\n",
        "grid_search = GridSearchCV(\n",
        "    estimator=log_reg,\n",
        "    param_grid=param_grid,\n",
        "    scoring='roc_auc',\n",
        "    cv=5,\n",
        "    n_jobs=-1,\n",
        "    verbose=1\n",
        ")\n",
        "\n",
        "grid_search.fit(X_train_scaled, y_train_smote)\n",
        "\n",
        "best_model = grid_search.best_estimator_\n",
        "\n",
        "print(f\"Best C: {grid_search.best_params_['C']}\")\n",
        "print(f\"Best ROC-AUC from cross-validation: {grid_search.best_score_:.4f}\")"
      ]
    },
    {
      "cell_type": "markdown",
      "metadata": {
        "id": "k1I-GKoBIlee"
      },
      "source": [
        "❎ Сырой КАТБУСТ (Боже, Храни Катбууст) - с переданными катфичами, 0 обработки\n",
        "\n",
        "Model: CatBoost Classifier\n",
        "Mean cross-validation f1: 0.73\n",
        "\n",
        "❎ Набор моделек (Обработка: все категориальные преобразованы в бинарки, энкоуд через дамми-вальюс, НАНы заменены на среднее, плюс СМОУТ)\n",
        " Model: Random Forest Classifier\n",
        "Mean cross-validation f1: 0.83\n",
        "\n",
        "Model: Gaussian Process Classifier\n",
        "Mean cross-validation f1: 0.79\n",
        "\n",
        "Model: K-Neighbors Classifier\n",
        "Mean cross-validation f1: 0.77\n",
        "\n",
        "Model: Decision Tree Classifier\n",
        "Mean cross-validation f1: 0.78\n",
        "\n",
        "Model: CatBoost Classifier\n",
        "Mean cross-validation f1: 0.83\n",
        "\n",
        "Model: Gradient Boosting Classifier\n",
        "Mean cross-validation f1: 0.82\n",
        "\n",
        "ИТОГ: метрика на +0.10 for Catboost\n",
        "\n",
        "❎ Набор моделек (Обработка: НАНы заменены на моду, немного потюнила выбросы)\n",
        "Не изменилось НИ-ЧЕ-ГО\n",
        "\n",
        "❎ Набор моделек (В обработку добавили - дроп TotalSpent (мультиколлинеарность), Масштабирование через scaler, ridge-регуляризация для логистической регрессии с пенальти):\n",
        "Model: Random Forest Classifier\n",
        "Mean cross-validation f1: 0.83 (no changes)\n",
        "\n",
        "Model: Gaussian Process Classifier\n",
        "Mean cross-validation f1: 0.83 (+0.04)\n",
        "\n",
        "Model: K-Neighbors Classifier\n",
        "Mean cross-validation f1: 0.80 (+0.03)\n",
        "\n",
        "Model: Decision Tree Classifier\n",
        "Mean cross-validation f1: 0.79 (+0.01)\n",
        "\n",
        "Model: CatBoost Classifier\n",
        "Mean cross-validation f1: 0.83 (catboostu pohuyu on itak prekrasen)\n",
        "\n",
        "Model: Gradient Boosting Classifier\n",
        "Mean cross-validation f1: 0.82 (no changes)\n",
        "\n",
        "Model: Ridge Classifier\n",
        "Mean cross-validation f1: 0.81 (NEW)\n",
        "\n",
        "Model: Logistic Regression (Ridge Regularization)\n",
        "Mean cross-validation f1: 0.81 (NEW)\n",
        "\n",
        "☢ ROC-AUC вашего решения равен 0.7440737808228032. Это дает вам 3.0 баллов. Чекни рок-аук на кросс-валидации, чтобы понять степень переобучения. Но походу она высокая шо ппц\n",
        "\n",
        "✅ 15.10 -\n",
        "1. попробовать дропнуть коррелированные с целевой фичей признаки (возьми абсолют валью) - фичи с abs(corr) < 0.1 дропнули f1, но тестовый roc-auc поднялся +0.1\n",
        "2. Потюнить learning_rate, глубину и др параметры для catboost, он еще сыроват"
      ]
    },
    {
      "cell_type": "markdown",
      "metadata": {
        "id": "haYIKX-CIeX0"
      },
      "source": [
        "ROC-AUC вашего решения равен 0.7585027308276507.\n",
        "\n",
        "Это после дропа abs(corr) < 0.1\n",
        "\n",
        "Model: Random Forest Classifier\n",
        "Mean cross-validation f1: 0.92\n",
        "\n",
        "Model: Gaussian Process Classifier\n",
        "Mean cross-validation f1: 0.87\n",
        "\n",
        "Model: K-Neighbors Classifier\n",
        "Mean cross-validation f1: 0.87\n",
        "\n",
        "Model: Decision Tree Classifier\n",
        "Mean cross-validation f1: 0.79\n",
        "\n",
        "Model: CatBoost Classifier\n",
        "Mean cross-validation f1: 0.92\n",
        "\n",
        "Model: Gradient Boosting Classifier\n",
        "Mean cross-validation f1: 0.90\n",
        "\n",
        "Model: Ridge Classifier\n",
        "Mean cross-validation f1: 0.88\n",
        "\n",
        "Model: Logistic Regression (Ridge Regularization)\n",
        "Mean cross-validation f1: 0.89"
      ]
    },
    {
      "cell_type": "markdown",
      "metadata": {
        "id": "L1g8VvZLwSiL"
      },
      "source": [
        "💔 идея 15.10.2024 12:37\n",
        "\n",
        "тк SexMale имеет abs(корреляцию) меньше 0.1\n",
        "\n",
        "0.006370\t-0.011733\t0.006401\t0.013207\t0.002780\t0.014605\t-0.007771\t-0.003035\t-0.012985\t-0.007417\t...\t-0.015698\t-0.008325\t1.000000\t-0.002824\t0.005958\t0.012321\t-0.011835\t-0.006924\t0.003415\t0.012525\n",
        "\n",
        "НЕ ИЗМЕНИЛОСЬ НИ-ЧЕ-ГО!!!!!!\n",
        "Логистическая регрессия с Ridge поднялась на +0.01"
      ]
    },
    {
      "cell_type": "markdown",
      "metadata": {
        "id": "36729TOQEEZR"
      },
      "source": [
        "❌ чуть позже перешла на roc-auc метрику"
      ]
    },
    {
      "cell_type": "markdown",
      "metadata": {
        "id": "BlTeVy7fEEZR"
      },
      "source": [
        "## Применение градиентного бустинга (2 балла)\n",
        "\n",
        "Если вы хотите получить баллы за точный ответ, то стоит попробовать градиентный бустинг. Часто градиентный бустинг с параметрами по умолчанию даст вам 80% результата за 0% усилий.\n",
        "\n",
        "Мы будем использовать catboost, поэтому нам не надо кодировать категориальные признаки. Catboost сделает это сам (в .fit() надо передать cat_features=cat_cols). А численные признаки нормировать для моделей, основанных на деревьях не нужно.\n",
        "\n",
        "1) Разделите выборку на train/valid. Протестируйте catboost cо стандартными параметрами.\n",
        "\n",
        "2) Протестируйте разные занчения параметров количества деревьев и learning_rate'а и выберите лучшую по метрике ROC-AUC комбинацию.\n",
        "\n",
        "(Дополнительно) Есть некоторые сложности с тем, чтобы использовать CatBoostClassifier вместе с GridSearchCV, поэтому мы не просим использовать кроссвалидацию. Но можете попробовать)"
      ]
    },
    {
      "cell_type": "code",
      "execution_count": null,
      "metadata": {
        "id": "lQqCzsJ6a4nN"
      },
      "outputs": [],
      "source": [
        "from sklearn.model_selection import RandomizedSearchCV\n",
        "from sklearn.model_selection import GridSearchCV"
      ]
    },
    {
      "cell_type": "markdown",
      "metadata": {
        "id": "7Tg8KCv1jC9w"
      },
      "source": [
        "Данный тюн параметров Катбуса выдал результат на кросс-валидации: 0.9233,\n",
        "на тесте степ - ROC-AUC вашего решения равен 0.7743625375690786."
      ]
    },
    {
      "cell_type": "markdown",
      "metadata": {
        "id": "Bwdw1e7pQwlh"
      },
      "source": [
        "❗ 00:19 16.10:\n",
        "Catboost лучший рок-аук 0.9269 на кросс-валидации дропается до 0.77 на тесте <-> модель сильно **переобучена**!\n",
        "\n",
        "Попробую уменьшить iterations, ограничить глубину деревьев, уменьшить скорость обучения, увеличить штраф с 0.5 до range(10,20,5), уменьгить random_strength, увеличить пенальти.\n",
        "\n",
        "Best Parameters: {'sampling_unit': 'Object', 'sampling_frequency': 'PerTree', 'random_strength': 4, 'penalties_coefficient': 15, 'min_data_in_leaf': 30, 'learning_rate': 0.01, 'l2_leaf_reg': 20, 'iterations': 300, 'grow_policy': 'Depthwise', 'early_stopping_rounds': 50, 'depth': 5, 'border_count': 100, 'bootstrap_type': 'Bayesian', 'bagging_temperature': 2}\n",
        "\n",
        "***Best ROC-AUC from cross-validation: 0.8771 <-> 0.8 Снижение скора на кросс-вал но МИНУС переобучение***"
      ]
    },
    {
      "cell_type": "code",
      "execution_count": null,
      "metadata": {
        "colab": {
          "base_uri": "https://localhost:8080/",
          "height": 1000
        },
        "collapsed": true,
        "id": "tEdWR8gbjuPe",
        "outputId": "8ab98d86-864c-4e0e-ba6f-da40c8732359"
      },
      "outputs": [
        {
          "name": "stdout",
          "output_type": "stream",
          "text": [
            "Fitting 5 folds for each of 192 candidates, totalling 960 fits\n"
          ]
        },
        {
          "name": "stderr",
          "output_type": "stream",
          "text": [
            "/usr/local/lib/python3.10/dist-packages/numpy/ma/core.py:2820: RuntimeWarning: invalid value encountered in cast\n",
            "  _data = np.array(data, dtype=dtype, copy=copy,\n"
          ]
        },
        {
          "name": "stdout",
          "output_type": "stream",
          "text": [
            "0:\tlearn: 0.6591375\ttotal: 16.1ms\tremaining: 4.81s\n",
            "1:\tlearn: 0.6277339\ttotal: 32.5ms\tremaining: 4.84s\n",
            "2:\tlearn: 0.6002437\ttotal: 46ms\tremaining: 4.55s\n",
            "3:\tlearn: 0.5763639\ttotal: 58.8ms\tremaining: 4.35s\n",
            "4:\tlearn: 0.5563411\ttotal: 73.6ms\tremaining: 4.34s\n",
            "5:\tlearn: 0.5379021\ttotal: 89.9ms\tremaining: 4.41s\n",
            "6:\tlearn: 0.5212555\ttotal: 103ms\tremaining: 4.31s\n",
            "7:\tlearn: 0.5047835\ttotal: 116ms\tremaining: 4.23s\n",
            "8:\tlearn: 0.4924414\ttotal: 127ms\tremaining: 4.09s\n",
            "9:\tlearn: 0.4811409\ttotal: 139ms\tremaining: 4.04s\n",
            "10:\tlearn: 0.4685366\ttotal: 153ms\tremaining: 4.03s\n",
            "11:\tlearn: 0.4581946\ttotal: 169ms\tremaining: 4.05s\n",
            "12:\tlearn: 0.4491525\ttotal: 181ms\tremaining: 3.99s\n",
            "13:\tlearn: 0.4387871\ttotal: 195ms\tremaining: 3.99s\n",
            "14:\tlearn: 0.4308510\ttotal: 208ms\tremaining: 3.94s\n",
            "15:\tlearn: 0.4230412\ttotal: 226ms\tremaining: 4.01s\n",
            "16:\tlearn: 0.4163294\ttotal: 238ms\tremaining: 3.96s\n",
            "17:\tlearn: 0.4101863\ttotal: 250ms\tremaining: 3.92s\n",
            "18:\tlearn: 0.4038480\ttotal: 265ms\tremaining: 3.91s\n",
            "19:\tlearn: 0.3982814\ttotal: 278ms\tremaining: 3.88s\n",
            "20:\tlearn: 0.3926887\ttotal: 292ms\tremaining: 3.87s\n",
            "21:\tlearn: 0.3868687\ttotal: 306ms\tremaining: 3.86s\n",
            "22:\tlearn: 0.3829771\ttotal: 316ms\tremaining: 3.81s\n",
            "23:\tlearn: 0.3786586\ttotal: 328ms\tremaining: 3.77s\n",
            "24:\tlearn: 0.3741337\ttotal: 350ms\tremaining: 3.85s\n",
            "25:\tlearn: 0.3703894\ttotal: 372ms\tremaining: 3.92s\n",
            "26:\tlearn: 0.3664632\ttotal: 385ms\tremaining: 3.89s\n",
            "27:\tlearn: 0.3627831\ttotal: 398ms\tremaining: 3.86s\n",
            "28:\tlearn: 0.3593761\ttotal: 407ms\tremaining: 3.81s\n",
            "29:\tlearn: 0.3561996\ttotal: 420ms\tremaining: 3.77s\n",
            "30:\tlearn: 0.3520952\ttotal: 442ms\tremaining: 3.83s\n",
            "31:\tlearn: 0.3488495\ttotal: 457ms\tremaining: 3.82s\n",
            "32:\tlearn: 0.3454621\ttotal: 470ms\tremaining: 3.81s\n",
            "33:\tlearn: 0.3427552\ttotal: 483ms\tremaining: 3.78s\n",
            "34:\tlearn: 0.3396976\ttotal: 495ms\tremaining: 3.75s\n",
            "35:\tlearn: 0.3367327\ttotal: 508ms\tremaining: 3.73s\n",
            "36:\tlearn: 0.3335882\ttotal: 525ms\tremaining: 3.73s\n",
            "37:\tlearn: 0.3309117\ttotal: 544ms\tremaining: 3.75s\n",
            "38:\tlearn: 0.3280359\ttotal: 557ms\tremaining: 3.72s\n",
            "39:\tlearn: 0.3258178\ttotal: 569ms\tremaining: 3.7s\n",
            "40:\tlearn: 0.3241001\ttotal: 580ms\tremaining: 3.66s\n",
            "41:\tlearn: 0.3214373\ttotal: 594ms\tremaining: 3.65s\n",
            "42:\tlearn: 0.3187740\ttotal: 608ms\tremaining: 3.64s\n",
            "43:\tlearn: 0.3162690\ttotal: 621ms\tremaining: 3.61s\n",
            "44:\tlearn: 0.3144408\ttotal: 635ms\tremaining: 3.6s\n",
            "45:\tlearn: 0.3125806\ttotal: 651ms\tremaining: 3.59s\n",
            "46:\tlearn: 0.3106093\ttotal: 666ms\tremaining: 3.58s\n",
            "47:\tlearn: 0.3083069\ttotal: 678ms\tremaining: 3.56s\n",
            "48:\tlearn: 0.3065301\ttotal: 692ms\tremaining: 3.55s\n",
            "49:\tlearn: 0.3034067\ttotal: 708ms\tremaining: 3.54s\n",
            "50:\tlearn: 0.3009976\ttotal: 723ms\tremaining: 3.53s\n",
            "51:\tlearn: 0.2988626\ttotal: 737ms\tremaining: 3.51s\n",
            "52:\tlearn: 0.2963675\ttotal: 751ms\tremaining: 3.5s\n",
            "53:\tlearn: 0.2946472\ttotal: 764ms\tremaining: 3.48s\n",
            "54:\tlearn: 0.2923819\ttotal: 778ms\tremaining: 3.47s\n",
            "55:\tlearn: 0.2903180\ttotal: 792ms\tremaining: 3.45s\n",
            "56:\tlearn: 0.2887317\ttotal: 804ms\tremaining: 3.43s\n",
            "57:\tlearn: 0.2869837\ttotal: 817ms\tremaining: 3.41s\n",
            "58:\tlearn: 0.2855234\ttotal: 828ms\tremaining: 3.38s\n",
            "59:\tlearn: 0.2843437\ttotal: 839ms\tremaining: 3.36s\n",
            "60:\tlearn: 0.2828284\ttotal: 857ms\tremaining: 3.36s\n",
            "61:\tlearn: 0.2811903\ttotal: 871ms\tremaining: 3.34s\n",
            "62:\tlearn: 0.2799154\ttotal: 887ms\tremaining: 3.33s\n",
            "63:\tlearn: 0.2785958\ttotal: 900ms\tremaining: 3.32s\n",
            "64:\tlearn: 0.2770414\ttotal: 918ms\tremaining: 3.32s\n",
            "65:\tlearn: 0.2756507\ttotal: 934ms\tremaining: 3.31s\n",
            "66:\tlearn: 0.2736539\ttotal: 958ms\tremaining: 3.33s\n",
            "67:\tlearn: 0.2714418\ttotal: 974ms\tremaining: 3.32s\n",
            "68:\tlearn: 0.2695372\ttotal: 988ms\tremaining: 3.31s\n",
            "69:\tlearn: 0.2677976\ttotal: 1s\tremaining: 3.29s\n",
            "70:\tlearn: 0.2665759\ttotal: 1.01s\tremaining: 3.27s\n",
            "71:\tlearn: 0.2648235\ttotal: 1.03s\tremaining: 3.25s\n",
            "72:\tlearn: 0.2636523\ttotal: 1.04s\tremaining: 3.23s\n",
            "73:\tlearn: 0.2628992\ttotal: 1.05s\tremaining: 3.21s\n",
            "74:\tlearn: 0.2616237\ttotal: 1.07s\tremaining: 3.2s\n",
            "75:\tlearn: 0.2602400\ttotal: 1.08s\tremaining: 3.19s\n",
            "76:\tlearn: 0.2587454\ttotal: 1.09s\tremaining: 3.17s\n",
            "77:\tlearn: 0.2577163\ttotal: 1.11s\tremaining: 3.15s\n",
            "78:\tlearn: 0.2560426\ttotal: 1.12s\tremaining: 3.14s\n",
            "79:\tlearn: 0.2543325\ttotal: 1.14s\tremaining: 3.13s\n",
            "80:\tlearn: 0.2536848\ttotal: 1.14s\tremaining: 3.09s\n",
            "81:\tlearn: 0.2521601\ttotal: 1.16s\tremaining: 3.09s\n",
            "82:\tlearn: 0.2504002\ttotal: 1.18s\tremaining: 3.08s\n",
            "83:\tlearn: 0.2494721\ttotal: 1.19s\tremaining: 3.06s\n",
            "84:\tlearn: 0.2483497\ttotal: 1.2s\tremaining: 3.03s\n",
            "85:\tlearn: 0.2469424\ttotal: 1.21s\tremaining: 3.02s\n",
            "86:\tlearn: 0.2461540\ttotal: 1.22s\tremaining: 3s\n",
            "87:\tlearn: 0.2447687\ttotal: 1.24s\tremaining: 2.98s\n",
            "88:\tlearn: 0.2432362\ttotal: 1.25s\tremaining: 2.97s\n",
            "89:\tlearn: 0.2416959\ttotal: 1.27s\tremaining: 2.97s\n",
            "90:\tlearn: 0.2408147\ttotal: 1.28s\tremaining: 2.95s\n",
            "91:\tlearn: 0.2391522\ttotal: 1.3s\tremaining: 2.93s\n",
            "92:\tlearn: 0.2380450\ttotal: 1.31s\tremaining: 2.92s\n",
            "93:\tlearn: 0.2365979\ttotal: 1.33s\tremaining: 2.91s\n",
            "94:\tlearn: 0.2353594\ttotal: 1.34s\tremaining: 2.9s\n",
            "95:\tlearn: 0.2345659\ttotal: 1.36s\tremaining: 2.89s\n",
            "96:\tlearn: 0.2333545\ttotal: 1.39s\tremaining: 2.91s\n",
            "97:\tlearn: 0.2321603\ttotal: 1.4s\tremaining: 2.89s\n",
            "98:\tlearn: 0.2313713\ttotal: 1.41s\tremaining: 2.87s\n",
            "99:\tlearn: 0.2301663\ttotal: 1.43s\tremaining: 2.86s\n",
            "100:\tlearn: 0.2285347\ttotal: 1.45s\tremaining: 2.85s\n",
            "101:\tlearn: 0.2277952\ttotal: 1.45s\tremaining: 2.82s\n",
            "102:\tlearn: 0.2267338\ttotal: 1.47s\tremaining: 2.81s\n",
            "103:\tlearn: 0.2256958\ttotal: 1.49s\tremaining: 2.8s\n",
            "104:\tlearn: 0.2246072\ttotal: 1.5s\tremaining: 2.78s\n",
            "105:\tlearn: 0.2238065\ttotal: 1.51s\tremaining: 2.76s\n",
            "106:\tlearn: 0.2223723\ttotal: 1.52s\tremaining: 2.75s\n",
            "107:\tlearn: 0.2218415\ttotal: 1.53s\tremaining: 2.72s\n",
            "108:\tlearn: 0.2211547\ttotal: 1.54s\tremaining: 2.7s\n",
            "109:\tlearn: 0.2201522\ttotal: 1.55s\tremaining: 2.68s\n",
            "110:\tlearn: 0.2196730\ttotal: 1.56s\tremaining: 2.67s\n",
            "111:\tlearn: 0.2186354\ttotal: 1.58s\tremaining: 2.65s\n",
            "112:\tlearn: 0.2178675\ttotal: 1.59s\tremaining: 2.64s\n",
            "113:\tlearn: 0.2172152\ttotal: 1.6s\tremaining: 2.62s\n",
            "114:\tlearn: 0.2158433\ttotal: 1.62s\tremaining: 2.6s\n",
            "115:\tlearn: 0.2149967\ttotal: 1.63s\tremaining: 2.58s\n",
            "116:\tlearn: 0.2146370\ttotal: 1.64s\tremaining: 2.56s\n",
            "117:\tlearn: 0.2136743\ttotal: 1.65s\tremaining: 2.55s\n",
            "118:\tlearn: 0.2134724\ttotal: 1.66s\tremaining: 2.52s\n",
            "119:\tlearn: 0.2131866\ttotal: 1.67s\tremaining: 2.5s\n",
            "120:\tlearn: 0.2125358\ttotal: 1.68s\tremaining: 2.48s\n",
            "121:\tlearn: 0.2118733\ttotal: 1.7s\tremaining: 2.48s\n",
            "122:\tlearn: 0.2112918\ttotal: 1.71s\tremaining: 2.46s\n",
            "123:\tlearn: 0.2101068\ttotal: 1.73s\tremaining: 2.45s\n",
            "124:\tlearn: 0.2089972\ttotal: 1.74s\tremaining: 2.44s\n",
            "125:\tlearn: 0.2080870\ttotal: 1.75s\tremaining: 2.42s\n",
            "126:\tlearn: 0.2073107\ttotal: 1.77s\tremaining: 2.41s\n",
            "127:\tlearn: 0.2065628\ttotal: 1.78s\tremaining: 2.39s\n",
            "128:\tlearn: 0.2058678\ttotal: 1.79s\tremaining: 2.38s\n",
            "129:\tlearn: 0.2048511\ttotal: 1.81s\tremaining: 2.36s\n",
            "130:\tlearn: 0.2041301\ttotal: 1.82s\tremaining: 2.35s\n",
            "131:\tlearn: 0.2035696\ttotal: 1.83s\tremaining: 2.33s\n",
            "132:\tlearn: 0.2031832\ttotal: 1.84s\tremaining: 2.31s\n",
            "133:\tlearn: 0.2025767\ttotal: 1.85s\tremaining: 2.29s\n",
            "134:\tlearn: 0.2016768\ttotal: 1.87s\tremaining: 2.29s\n",
            "135:\tlearn: 0.2008089\ttotal: 1.89s\tremaining: 2.28s\n",
            "136:\tlearn: 0.2001343\ttotal: 1.91s\tremaining: 2.27s\n",
            "137:\tlearn: 0.1994695\ttotal: 1.92s\tremaining: 2.25s\n",
            "138:\tlearn: 0.1986989\ttotal: 1.93s\tremaining: 2.24s\n",
            "139:\tlearn: 0.1980167\ttotal: 1.94s\tremaining: 2.22s\n",
            "140:\tlearn: 0.1974081\ttotal: 1.96s\tremaining: 2.21s\n",
            "141:\tlearn: 0.1968096\ttotal: 1.96s\tremaining: 2.19s\n",
            "142:\tlearn: 0.1958949\ttotal: 1.98s\tremaining: 2.17s\n",
            "143:\tlearn: 0.1952897\ttotal: 1.99s\tremaining: 2.16s\n",
            "144:\tlearn: 0.1945288\ttotal: 2s\tremaining: 2.14s\n",
            "145:\tlearn: 0.1936528\ttotal: 2.02s\tremaining: 2.13s\n",
            "146:\tlearn: 0.1924585\ttotal: 2.03s\tremaining: 2.11s\n",
            "147:\tlearn: 0.1915139\ttotal: 2.04s\tremaining: 2.1s\n",
            "148:\tlearn: 0.1909795\ttotal: 2.06s\tremaining: 2.08s\n",
            "149:\tlearn: 0.1902866\ttotal: 2.07s\tremaining: 2.07s\n",
            "150:\tlearn: 0.1893662\ttotal: 2.08s\tremaining: 2.05s\n",
            "151:\tlearn: 0.1884139\ttotal: 2.1s\tremaining: 2.04s\n",
            "152:\tlearn: 0.1880432\ttotal: 2.1s\tremaining: 2.02s\n",
            "153:\tlearn: 0.1869514\ttotal: 2.12s\tremaining: 2.01s\n",
            "154:\tlearn: 0.1863265\ttotal: 2.14s\tremaining: 2s\n",
            "155:\tlearn: 0.1853310\ttotal: 2.16s\tremaining: 1.99s\n",
            "156:\tlearn: 0.1848865\ttotal: 2.17s\tremaining: 1.97s\n",
            "157:\tlearn: 0.1836705\ttotal: 2.18s\tremaining: 1.96s\n",
            "158:\tlearn: 0.1829166\ttotal: 2.2s\tremaining: 1.95s\n",
            "159:\tlearn: 0.1823968\ttotal: 2.21s\tremaining: 1.93s\n",
            "160:\tlearn: 0.1813101\ttotal: 2.22s\tremaining: 1.92s\n",
            "161:\tlearn: 0.1804599\ttotal: 2.23s\tremaining: 1.9s\n",
            "162:\tlearn: 0.1798514\ttotal: 2.25s\tremaining: 1.89s\n",
            "163:\tlearn: 0.1788786\ttotal: 2.26s\tremaining: 1.88s\n",
            "164:\tlearn: 0.1783619\ttotal: 2.27s\tremaining: 1.86s\n",
            "165:\tlearn: 0.1776376\ttotal: 2.29s\tremaining: 1.85s\n",
            "166:\tlearn: 0.1766524\ttotal: 2.31s\tremaining: 1.84s\n",
            "167:\tlearn: 0.1757504\ttotal: 2.32s\tremaining: 1.82s\n",
            "168:\tlearn: 0.1743877\ttotal: 2.35s\tremaining: 1.82s\n",
            "169:\tlearn: 0.1734568\ttotal: 2.36s\tremaining: 1.8s\n",
            "170:\tlearn: 0.1726519\ttotal: 2.38s\tremaining: 1.8s\n",
            "171:\tlearn: 0.1718534\ttotal: 2.4s\tremaining: 1.79s\n",
            "172:\tlearn: 0.1708187\ttotal: 2.42s\tremaining: 1.78s\n",
            "173:\tlearn: 0.1698391\ttotal: 2.44s\tremaining: 1.77s\n",
            "174:\tlearn: 0.1689634\ttotal: 2.45s\tremaining: 1.75s\n",
            "175:\tlearn: 0.1682170\ttotal: 2.47s\tremaining: 1.74s\n",
            "176:\tlearn: 0.1677522\ttotal: 2.48s\tremaining: 1.72s\n",
            "177:\tlearn: 0.1662797\ttotal: 2.49s\tremaining: 1.71s\n",
            "178:\tlearn: 0.1652948\ttotal: 2.51s\tremaining: 1.7s\n",
            "179:\tlearn: 0.1645924\ttotal: 2.52s\tremaining: 1.68s\n",
            "180:\tlearn: 0.1637386\ttotal: 2.54s\tremaining: 1.67s\n",
            "181:\tlearn: 0.1626475\ttotal: 2.56s\tremaining: 1.66s\n",
            "182:\tlearn: 0.1619263\ttotal: 2.57s\tremaining: 1.65s\n",
            "183:\tlearn: 0.1609604\ttotal: 2.59s\tremaining: 1.63s\n",
            "184:\tlearn: 0.1594128\ttotal: 2.61s\tremaining: 1.62s\n",
            "185:\tlearn: 0.1586322\ttotal: 2.62s\tremaining: 1.61s\n",
            "186:\tlearn: 0.1578590\ttotal: 2.63s\tremaining: 1.59s\n",
            "187:\tlearn: 0.1564540\ttotal: 2.65s\tremaining: 1.58s\n",
            "188:\tlearn: 0.1555505\ttotal: 2.67s\tremaining: 1.57s\n",
            "189:\tlearn: 0.1546164\ttotal: 2.68s\tremaining: 1.55s\n",
            "190:\tlearn: 0.1535692\ttotal: 2.69s\tremaining: 1.54s\n",
            "191:\tlearn: 0.1526591\ttotal: 2.71s\tremaining: 1.52s\n",
            "192:\tlearn: 0.1513551\ttotal: 2.73s\tremaining: 1.51s\n",
            "193:\tlearn: 0.1504282\ttotal: 2.74s\tremaining: 1.5s\n",
            "194:\tlearn: 0.1495518\ttotal: 2.75s\tremaining: 1.48s\n",
            "195:\tlearn: 0.1487897\ttotal: 2.77s\tremaining: 1.47s\n",
            "196:\tlearn: 0.1472716\ttotal: 2.79s\tremaining: 1.46s\n",
            "197:\tlearn: 0.1461627\ttotal: 2.8s\tremaining: 1.44s\n",
            "198:\tlearn: 0.1449322\ttotal: 2.82s\tremaining: 1.43s\n",
            "199:\tlearn: 0.1441390\ttotal: 2.83s\tremaining: 1.42s\n",
            "200:\tlearn: 0.1432483\ttotal: 2.85s\tremaining: 1.4s\n",
            "201:\tlearn: 0.1424036\ttotal: 2.87s\tremaining: 1.39s\n",
            "202:\tlearn: 0.1406588\ttotal: 2.89s\tremaining: 1.38s\n",
            "203:\tlearn: 0.1398492\ttotal: 2.9s\tremaining: 1.37s\n",
            "204:\tlearn: 0.1384024\ttotal: 2.92s\tremaining: 1.35s\n",
            "205:\tlearn: 0.1373738\ttotal: 2.94s\tremaining: 1.34s\n",
            "206:\tlearn: 0.1364693\ttotal: 2.95s\tremaining: 1.33s\n",
            "207:\tlearn: 0.1349278\ttotal: 2.98s\tremaining: 1.32s\n",
            "208:\tlearn: 0.1338851\ttotal: 3s\tremaining: 1.3s\n",
            "209:\tlearn: 0.1330210\ttotal: 3.01s\tremaining: 1.29s\n",
            "210:\tlearn: 0.1319918\ttotal: 3.02s\tremaining: 1.28s\n",
            "211:\tlearn: 0.1308558\ttotal: 3.04s\tremaining: 1.26s\n",
            "212:\tlearn: 0.1298120\ttotal: 3.06s\tremaining: 1.25s\n",
            "213:\tlearn: 0.1284966\ttotal: 3.08s\tremaining: 1.24s\n",
            "214:\tlearn: 0.1275063\ttotal: 3.09s\tremaining: 1.22s\n",
            "215:\tlearn: 0.1264570\ttotal: 3.11s\tremaining: 1.21s\n",
            "216:\tlearn: 0.1257549\ttotal: 3.13s\tremaining: 1.2s\n",
            "217:\tlearn: 0.1248732\ttotal: 3.14s\tremaining: 1.18s\n",
            "218:\tlearn: 0.1236129\ttotal: 3.16s\tremaining: 1.17s\n",
            "219:\tlearn: 0.1224265\ttotal: 3.17s\tremaining: 1.15s\n",
            "220:\tlearn: 0.1211560\ttotal: 3.2s\tremaining: 1.14s\n",
            "221:\tlearn: 0.1203072\ttotal: 3.21s\tremaining: 1.13s\n",
            "222:\tlearn: 0.1193255\ttotal: 3.23s\tremaining: 1.11s\n",
            "223:\tlearn: 0.1181930\ttotal: 3.25s\tremaining: 1.1s\n",
            "224:\tlearn: 0.1174832\ttotal: 3.26s\tremaining: 1.09s\n",
            "225:\tlearn: 0.1167404\ttotal: 3.28s\tremaining: 1.07s\n",
            "226:\tlearn: 0.1162461\ttotal: 3.29s\tremaining: 1.06s\n",
            "227:\tlearn: 0.1154323\ttotal: 3.31s\tremaining: 1.04s\n",
            "228:\tlearn: 0.1146468\ttotal: 3.33s\tremaining: 1.03s\n",
            "229:\tlearn: 0.1141236\ttotal: 3.34s\tremaining: 1.02s\n",
            "230:\tlearn: 0.1129363\ttotal: 3.36s\tremaining: 1s\n",
            "231:\tlearn: 0.1120269\ttotal: 3.39s\tremaining: 993ms\n",
            "232:\tlearn: 0.1112777\ttotal: 3.41s\tremaining: 982ms\n",
            "233:\tlearn: 0.1104951\ttotal: 3.43s\tremaining: 968ms\n",
            "234:\tlearn: 0.1096058\ttotal: 3.45s\tremaining: 954ms\n",
            "235:\tlearn: 0.1091803\ttotal: 3.46s\tremaining: 939ms\n",
            "236:\tlearn: 0.1083951\ttotal: 3.48s\tremaining: 924ms\n",
            "237:\tlearn: 0.1076128\ttotal: 3.49s\tremaining: 909ms\n",
            "238:\tlearn: 0.1069750\ttotal: 3.51s\tremaining: 895ms\n",
            "239:\tlearn: 0.1063237\ttotal: 3.52s\tremaining: 881ms\n",
            "240:\tlearn: 0.1056618\ttotal: 3.54s\tremaining: 866ms\n",
            "241:\tlearn: 0.1049801\ttotal: 3.55s\tremaining: 851ms\n",
            "242:\tlearn: 0.1044551\ttotal: 3.56s\tremaining: 836ms\n",
            "243:\tlearn: 0.1033854\ttotal: 3.58s\tremaining: 822ms\n",
            "244:\tlearn: 0.1026150\ttotal: 3.61s\tremaining: 810ms\n",
            "245:\tlearn: 0.1015995\ttotal: 3.63s\tremaining: 796ms\n",
            "246:\tlearn: 0.1010502\ttotal: 3.64s\tremaining: 781ms\n",
            "247:\tlearn: 0.1001147\ttotal: 3.66s\tremaining: 768ms\n",
            "248:\tlearn: 0.0992165\ttotal: 3.68s\tremaining: 754ms\n",
            "249:\tlearn: 0.0985008\ttotal: 3.7s\tremaining: 740ms\n",
            "250:\tlearn: 0.0980476\ttotal: 3.71s\tremaining: 725ms\n",
            "251:\tlearn: 0.0974938\ttotal: 3.73s\tremaining: 710ms\n",
            "252:\tlearn: 0.0971210\ttotal: 3.74s\tremaining: 695ms\n",
            "253:\tlearn: 0.0965351\ttotal: 3.76s\tremaining: 681ms\n",
            "254:\tlearn: 0.0960674\ttotal: 3.77s\tremaining: 666ms\n",
            "255:\tlearn: 0.0953122\ttotal: 3.79s\tremaining: 652ms\n",
            "256:\tlearn: 0.0946952\ttotal: 3.82s\tremaining: 639ms\n",
            "257:\tlearn: 0.0938626\ttotal: 3.84s\tremaining: 626ms\n",
            "258:\tlearn: 0.0930367\ttotal: 3.86s\tremaining: 612ms\n",
            "259:\tlearn: 0.0924519\ttotal: 3.88s\tremaining: 597ms\n",
            "260:\tlearn: 0.0919429\ttotal: 3.89s\tremaining: 582ms\n",
            "261:\tlearn: 0.0912575\ttotal: 3.91s\tremaining: 567ms\n",
            "262:\tlearn: 0.0907729\ttotal: 3.93s\tremaining: 552ms\n",
            "263:\tlearn: 0.0902306\ttotal: 3.94s\tremaining: 537ms\n",
            "264:\tlearn: 0.0896242\ttotal: 3.96s\tremaining: 523ms\n",
            "265:\tlearn: 0.0892190\ttotal: 3.97s\tremaining: 508ms\n",
            "266:\tlearn: 0.0886516\ttotal: 3.99s\tremaining: 493ms\n",
            "267:\tlearn: 0.0878520\ttotal: 4.01s\tremaining: 479ms\n",
            "268:\tlearn: 0.0874474\ttotal: 4.03s\tremaining: 464ms\n",
            "269:\tlearn: 0.0869425\ttotal: 4.05s\tremaining: 450ms\n",
            "270:\tlearn: 0.0864912\ttotal: 4.06s\tremaining: 435ms\n",
            "271:\tlearn: 0.0860977\ttotal: 4.08s\tremaining: 420ms\n",
            "272:\tlearn: 0.0855616\ttotal: 4.1s\tremaining: 406ms\n",
            "273:\tlearn: 0.0850959\ttotal: 4.12s\tremaining: 391ms\n",
            "274:\tlearn: 0.0847544\ttotal: 4.14s\tremaining: 376ms\n",
            "275:\tlearn: 0.0841418\ttotal: 4.16s\tremaining: 361ms\n",
            "276:\tlearn: 0.0835774\ttotal: 4.17s\tremaining: 347ms\n",
            "277:\tlearn: 0.0830995\ttotal: 4.19s\tremaining: 332ms\n",
            "278:\tlearn: 0.0826369\ttotal: 4.21s\tremaining: 317ms\n",
            "279:\tlearn: 0.0821381\ttotal: 4.23s\tremaining: 302ms\n",
            "280:\tlearn: 0.0816415\ttotal: 4.25s\tremaining: 287ms\n",
            "281:\tlearn: 0.0812363\ttotal: 4.27s\tremaining: 272ms\n",
            "282:\tlearn: 0.0806670\ttotal: 4.29s\tremaining: 258ms\n",
            "283:\tlearn: 0.0803190\ttotal: 4.31s\tremaining: 243ms\n",
            "284:\tlearn: 0.0798880\ttotal: 4.32s\tremaining: 228ms\n",
            "285:\tlearn: 0.0795672\ttotal: 4.34s\tremaining: 212ms\n",
            "286:\tlearn: 0.0791903\ttotal: 4.36s\tremaining: 197ms\n",
            "287:\tlearn: 0.0786484\ttotal: 4.37s\tremaining: 182ms\n",
            "288:\tlearn: 0.0782484\ttotal: 4.39s\tremaining: 167ms\n",
            "289:\tlearn: 0.0777585\ttotal: 4.43s\tremaining: 153ms\n",
            "290:\tlearn: 0.0774491\ttotal: 4.45s\tremaining: 138ms\n",
            "291:\tlearn: 0.0771486\ttotal: 4.47s\tremaining: 122ms\n",
            "292:\tlearn: 0.0767423\ttotal: 4.48s\tremaining: 107ms\n",
            "293:\tlearn: 0.0763825\ttotal: 4.5s\tremaining: 91.8ms\n",
            "294:\tlearn: 0.0760940\ttotal: 4.51s\tremaining: 76.5ms\n",
            "295:\tlearn: 0.0758010\ttotal: 4.53s\tremaining: 61.2ms\n",
            "296:\tlearn: 0.0754230\ttotal: 4.55s\tremaining: 46ms\n",
            "297:\tlearn: 0.0750111\ttotal: 4.57s\tremaining: 30.6ms\n",
            "298:\tlearn: 0.0746543\ttotal: 4.58s\tremaining: 15.3ms\n",
            "299:\tlearn: 0.0745243\ttotal: 4.59s\tremaining: 0us\n",
            "Best Model: <catboost.core.CatBoostClassifier object at 0x78e044729f90>\n",
            "Best Parameters: {'border_count': 100, 'depth': 9, 'grow_policy': 'Depthwise', 'iterations': 300, 'l2_leaf_reg': 1, 'learning_rate': 0.05}\n",
            "Best ROC-AUC from cross-validation: 0.9208\n"
          ]
        },
        {
          "data": {
            "image/png": "[encoded data removed]",
            "text/plain": [
              "<Figure size 1000x600 with 1 Axes>"
            ]
          },
          "metadata": {},
          "output_type": "display_data"
        }
      ],
      "source": [
        "# ТЮН параметров для катбуса, изначальный рок-аук 0.92\n",
        "model_cat = CatBoostClassifier(verbose=1)\n",
        "\n",
        "param_grid = {\n",
        "    'iterations': range(100,600,200),\n",
        "    'depth': range(1,16, 4),\n",
        "    'learning_rate': [0.05, 0.1],\n",
        "    'l2_leaf_reg': [0.5, 1, 3, 5],\n",
        "    'border_count': [50, 100],\n",
        "    'grow_policy': ['Depthwise']\n",
        "}\n",
        "\n",
        "grid_search = GridSearchCV(\n",
        "    estimator=model_cat,\n",
        "    param_grid=param_grid,\n",
        "    scoring='roc_auc',\n",
        "    cv=5,\n",
        "    n_jobs=-1,\n",
        "    verbose=1\n",
        ")\n",
        "\n",
        "grid_search.fit(X_train_scaled, y_train_smote)\n",
        "\n",
        "best_model_grid = grid_search.best_estimator_\n",
        "best_params = grid_search.best_params_\n",
        "feature_imp = best_model_grid.feature_importances_\n",
        "\n",
        "y_pred_test_cat = best_model_grid.predict(X_test_scaled)\n",
        "\n",
        "\n",
        "print(f\"Best Model: {best_model_grid}\")\n",
        "print(f\"Best Parameters: {best_params}\")\n",
        "print(f\"Best ROC-AUC from cross-validation: {random_search.best_score_:.4f}\")\n",
        "\n",
        "plt.figure(figsize=(10, 6))\n",
        "plt.barh(X_train.columns, feature_imp)\n",
        "plt.xlabel('Feature Importance')\n",
        "plt.ylabel('Features')\n",
        "plt.title('Feature Importance')\n",
        "plt.show()"
      ]
    },
    {
      "cell_type": "markdown",
      "metadata": {
        "id": "p_VNBG17FFob"
      },
      "source": []
    },
    {
      "cell_type": "markdown",
      "metadata": {
        "id": "dDMXbvNZEEZV"
      },
      "source": [
        "# Предсказания"
      ]
    },
    {
      "cell_type": "code",
      "execution_count": null,
      "metadata": {
        "id": "FfSufx0CEEZZ",
        "colab": {
          "base_uri": "https://localhost:8080/",
          "height": 190
        },
        "outputId": "88344bc1-87e1-49d2-84c7-40a472980203"
      },
      "outputs": [
        {
          "output_type": "error",
          "ename": "NameError",
          "evalue": "name 'pd' is not defined",
          "traceback": [
            "\u001b[0;31m---------------------------------------------------------------------------\u001b[0m",
            "\u001b[0;31mNameError\u001b[0m                                 Traceback (most recent call last)",
            "\u001b[0;32m<ipython-input-1-f004bf846b02>\u001b[0m in \u001b[0;36m<cell line: 1>\u001b[0;34m()\u001b[0m\n\u001b[0;32m----> 1\u001b[0;31m \u001b[0msubmission\u001b[0m \u001b[0;34m=\u001b[0m \u001b[0mpd\u001b[0m\u001b[0;34m.\u001b[0m\u001b[0mread_csv\u001b[0m\u001b[0;34m(\u001b[0m\u001b[0;34m'/content/drive/MyDrive/HW 3 Kaggle/submission.csv'\u001b[0m\u001b[0;34m)\u001b[0m\u001b[0;34m\u001b[0m\u001b[0;34m\u001b[0m\u001b[0m\n\u001b[0m\u001b[1;32m      2\u001b[0m \u001b[0;34m\u001b[0m\u001b[0m\n\u001b[1;32m      3\u001b[0m \u001b[0msubmission\u001b[0m\u001b[0;34m[\u001b[0m\u001b[0;34m'Churn'\u001b[0m\u001b[0;34m]\u001b[0m \u001b[0;34m=\u001b[0m \u001b[0mbest_model\u001b[0m\u001b[0;34m.\u001b[0m\u001b[0mpredict_proba\u001b[0m\u001b[0;34m(\u001b[0m\u001b[0mX_test\u001b[0m\u001b[0;34m)\u001b[0m\u001b[0;34m[\u001b[0m\u001b[0;34m:\u001b[0m\u001b[0;34m,\u001b[0m \u001b[0;36m1\u001b[0m\u001b[0;34m]\u001b[0m\u001b[0;34m\u001b[0m\u001b[0;34m\u001b[0m\u001b[0m\n\u001b[1;32m      4\u001b[0m \u001b[0msubmission\u001b[0m\u001b[0;34m.\u001b[0m\u001b[0mto_csv\u001b[0m\u001b[0;34m(\u001b[0m\u001b[0;34m'/content/drive/MyDrive/HW 3 Kaggle/my_submission_12Cat.csv'\u001b[0m\u001b[0;34m,\u001b[0m \u001b[0mindex\u001b[0m\u001b[0;34m=\u001b[0m\u001b[0;32mFalse\u001b[0m\u001b[0;34m)\u001b[0m\u001b[0;34m\u001b[0m\u001b[0;34m\u001b[0m\u001b[0m\n",
            "\u001b[0;31mNameError\u001b[0m: name 'pd' is not defined"
          ]
        }
      ],
      "source": [
        "submission = pd.read_csv('/content/drive/MyDrive/HW 3 Kaggle/submission.csv')\n",
        "\n",
        "submission['Churn'] = best_model.predict_proba(X_test)[:, 1]\n",
        "submission.to_csv('/content/drive/MyDrive/HW 3 Kaggle/my_submission_12Cat.csv', index=False)"
      ]
    }
  ],
  "metadata": {
    "colab": {
      "provenance": []
    },
    "kernelspec": {
      "display_name": "Python 3",
      "name": "python3"
    },
    "language_info": {
      "name": "python"
    }
  },
  "nbformat": 4,
  "nbformat_minor": 0
}